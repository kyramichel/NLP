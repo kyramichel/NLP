{
 "cells": [
  {
   "cell_type": "markdown",
   "metadata": {
    "id": "-cB5_AtF67vU"
   },
   "source": [
    "\n",
    "\n",
    "# Natural Language Processing(NLP)\n",
    "\n",
    "\n",
    "\n",
    "# Convokit NLP Tool Kit:\n",
    "Python, MIT License\n",
    "\n",
    "contains tools to extract conversational features and analyze social phenomena in conversations,\n",
    "\n",
    "\n",
    " https://convokit.cornell.edu/\n",
    " \n",
    "\n",
    "\n",
    "\n",
    " "
   ]
  },
  {
   "cell_type": "markdown",
   "metadata": {
    "id": "YExJlEvD7jPb"
   },
   "source": [
    "\n",
    "## ConvoKit corpa \n"
   ]
  },
  {
   "cell_type": "code",
   "execution_count": null,
   "metadata": {
    "colab": {
     "base_uri": "https://localhost:8080/"
    },
    "id": "3fcQ1SFP7jwH",
    "outputId": "9e442476-f4b9-43c7-ec72-59c90661689a"
   },
   "outputs": [
    {
     "name": "stdout",
     "output_type": "stream",
     "text": [
      "Collecting convokit\n",
      "\u001b[?25l  Downloading https://files.pythonhosted.org/packages/fe/9e/e708a5f954e573b4ae00142494af76723302fbac167ffa467a029c625c3a/convokit-2.4.3.tar.gz (141kB)\n",
      "\r",
      "\u001b[K     |██▎                             | 10kB 16.7MB/s eta 0:00:01\r",
      "\u001b[K     |████▋                           | 20kB 19.8MB/s eta 0:00:01\r",
      "\u001b[K     |███████                         | 30kB 15.6MB/s eta 0:00:01\r",
      "\u001b[K     |█████████▎                      | 40kB 14.1MB/s eta 0:00:01\r",
      "\u001b[K     |███████████▋                    | 51kB 8.8MB/s eta 0:00:01\r",
      "\u001b[K     |█████████████▉                  | 61kB 8.3MB/s eta 0:00:01\r",
      "\u001b[K     |████████████████▏               | 71kB 9.3MB/s eta 0:00:01\r",
      "\u001b[K     |██████████████████▌             | 81kB 10.3MB/s eta 0:00:01\r",
      "\u001b[K     |████████████████████▉           | 92kB 10.8MB/s eta 0:00:01\r",
      "\u001b[K     |███████████████████████▏        | 102kB 8.4MB/s eta 0:00:01\r",
      "\u001b[K     |█████████████████████████▍      | 112kB 8.4MB/s eta 0:00:01\r",
      "\u001b[K     |███████████████████████████▊    | 122kB 8.4MB/s eta 0:00:01\r",
      "\u001b[K     |██████████████████████████████  | 133kB 8.4MB/s eta 0:00:01\r",
      "\u001b[K     |████████████████████████████████| 143kB 8.4MB/s \n",
      "\u001b[?25hRequirement already satisfied: matplotlib>=3.0.0 in /usr/local/lib/python3.6/dist-packages (from convokit) (3.2.2)\n",
      "Requirement already satisfied: pandas>=0.23.4 in /usr/local/lib/python3.6/dist-packages (from convokit) (1.1.4)\n",
      "Collecting msgpack-numpy>=0.4.3.2\n",
      "  Downloading https://files.pythonhosted.org/packages/19/05/05b8d7c69c6abb36a34325cc3150089bdafc359f0a81fb998d93c5d5c737/msgpack_numpy-0.4.7.1-py2.py3-none-any.whl\n",
      "Requirement already satisfied: spacy>=2.0.12 in /usr/local/lib/python3.6/dist-packages (from convokit) (2.2.4)\n",
      "Requirement already satisfied: scipy>=1.1.0 in /usr/local/lib/python3.6/dist-packages (from convokit) (1.4.1)\n",
      "Requirement already satisfied: scikit-learn>=0.20.0 in /usr/local/lib/python3.6/dist-packages (from convokit) (0.22.2.post1)\n",
      "Collecting nltk>=3.4\n",
      "\u001b[?25l  Downloading https://files.pythonhosted.org/packages/92/75/ce35194d8e3022203cca0d2f896dbb88689f9b3fce8e9f9cff942913519d/nltk-3.5.zip (1.4MB)\n",
      "\u001b[K     |████████████████████████████████| 1.4MB 14.3MB/s \n",
      "\u001b[?25hRequirement already satisfied: dill>=0.2.9 in /usr/local/lib/python3.6/dist-packages (from convokit) (0.3.3)\n",
      "Requirement already satisfied: joblib>=0.13.2 in /usr/local/lib/python3.6/dist-packages (from convokit) (0.17.0)\n",
      "Collecting clean-text>=0.1.1\n",
      "  Downloading https://files.pythonhosted.org/packages/78/30/7013e9bf37e00ad81406c771e8f5b071c624b8ab27a7984cd9b8434bed4f/clean_text-0.3.0-py3-none-any.whl\n",
      "Collecting unidecode>=1.1.1\n",
      "\u001b[?25l  Downloading https://files.pythonhosted.org/packages/d0/42/d9edfed04228bacea2d824904cae367ee9efd05e6cce7ceaaedd0b0ad964/Unidecode-1.1.1-py2.py3-none-any.whl (238kB)\n",
      "\u001b[K     |████████████████████████████████| 245kB 32.3MB/s \n",
      "\u001b[?25hRequirement already satisfied: cycler>=0.10 in /usr/local/lib/python3.6/dist-packages (from matplotlib>=3.0.0->convokit) (0.10.0)\n",
      "Requirement already satisfied: numpy>=1.11 in /usr/local/lib/python3.6/dist-packages (from matplotlib>=3.0.0->convokit) (1.18.5)\n",
      "Requirement already satisfied: python-dateutil>=2.1 in /usr/local/lib/python3.6/dist-packages (from matplotlib>=3.0.0->convokit) (2.8.1)\n",
      "Requirement already satisfied: pyparsing!=2.0.4,!=2.1.2,!=2.1.6,>=2.0.1 in /usr/local/lib/python3.6/dist-packages (from matplotlib>=3.0.0->convokit) (2.4.7)\n",
      "Requirement already satisfied: kiwisolver>=1.0.1 in /usr/local/lib/python3.6/dist-packages (from matplotlib>=3.0.0->convokit) (1.3.1)\n",
      "Requirement already satisfied: pytz>=2017.2 in /usr/local/lib/python3.6/dist-packages (from pandas>=0.23.4->convokit) (2018.9)\n",
      "Requirement already satisfied: msgpack>=0.5.2 in /usr/local/lib/python3.6/dist-packages (from msgpack-numpy>=0.4.3.2->convokit) (1.0.0)\n",
      "Requirement already satisfied: cymem<2.1.0,>=2.0.2 in /usr/local/lib/python3.6/dist-packages (from spacy>=2.0.12->convokit) (2.0.4)\n",
      "Requirement already satisfied: blis<0.5.0,>=0.4.0 in /usr/local/lib/python3.6/dist-packages (from spacy>=2.0.12->convokit) (0.4.1)\n",
      "Requirement already satisfied: thinc==7.4.0 in /usr/local/lib/python3.6/dist-packages (from spacy>=2.0.12->convokit) (7.4.0)\n",
      "Requirement already satisfied: murmurhash<1.1.0,>=0.28.0 in /usr/local/lib/python3.6/dist-packages (from spacy>=2.0.12->convokit) (1.0.4)\n",
      "Requirement already satisfied: setuptools in /usr/local/lib/python3.6/dist-packages (from spacy>=2.0.12->convokit) (50.3.2)\n",
      "Requirement already satisfied: tqdm<5.0.0,>=4.38.0 in /usr/local/lib/python3.6/dist-packages (from spacy>=2.0.12->convokit) (4.41.1)\n",
      "Requirement already satisfied: plac<1.2.0,>=0.9.6 in /usr/local/lib/python3.6/dist-packages (from spacy>=2.0.12->convokit) (1.1.3)\n",
      "Requirement already satisfied: wasabi<1.1.0,>=0.4.0 in /usr/local/lib/python3.6/dist-packages (from spacy>=2.0.12->convokit) (0.8.0)\n",
      "Requirement already satisfied: preshed<3.1.0,>=3.0.2 in /usr/local/lib/python3.6/dist-packages (from spacy>=2.0.12->convokit) (3.0.4)\n",
      "Requirement already satisfied: catalogue<1.1.0,>=0.0.7 in /usr/local/lib/python3.6/dist-packages (from spacy>=2.0.12->convokit) (1.0.0)\n",
      "Requirement already satisfied: srsly<1.1.0,>=1.0.2 in /usr/local/lib/python3.6/dist-packages (from spacy>=2.0.12->convokit) (1.0.4)\n",
      "Requirement already satisfied: requests<3.0.0,>=2.13.0 in /usr/local/lib/python3.6/dist-packages (from spacy>=2.0.12->convokit) (2.23.0)\n",
      "Requirement already satisfied: click in /usr/local/lib/python3.6/dist-packages (from nltk>=3.4->convokit) (7.1.2)\n",
      "Requirement already satisfied: regex in /usr/local/lib/python3.6/dist-packages (from nltk>=3.4->convokit) (2019.12.20)\n",
      "Collecting ftfy<6.0,>=5.8\n",
      "\u001b[?25l  Downloading https://files.pythonhosted.org/packages/ff/e2/3b51c53dffb1e52d9210ebc01f1fb9f2f6eba9b3201fa971fd3946643c71/ftfy-5.8.tar.gz (64kB)\n",
      "\u001b[K     |████████████████████████████████| 71kB 10.3MB/s \n",
      "\u001b[?25hCollecting emoji\n",
      "\u001b[?25l  Downloading https://files.pythonhosted.org/packages/ff/1c/1f1457fe52d0b30cbeebfd578483cedb3e3619108d2d5a21380dfecf8ffd/emoji-0.6.0.tar.gz (51kB)\n",
      "\u001b[K     |████████████████████████████████| 51kB 8.0MB/s \n",
      "\u001b[?25hRequirement already satisfied: six in /usr/local/lib/python3.6/dist-packages (from cycler>=0.10->matplotlib>=3.0.0->convokit) (1.15.0)\n",
      "Requirement already satisfied: importlib-metadata>=0.20; python_version < \"3.8\" in /usr/local/lib/python3.6/dist-packages (from catalogue<1.1.0,>=0.0.7->spacy>=2.0.12->convokit) (2.0.0)\n",
      "Requirement already satisfied: certifi>=2017.4.17 in /usr/local/lib/python3.6/dist-packages (from requests<3.0.0,>=2.13.0->spacy>=2.0.12->convokit) (2020.11.8)\n",
      "Requirement already satisfied: urllib3!=1.25.0,!=1.25.1,<1.26,>=1.21.1 in /usr/local/lib/python3.6/dist-packages (from requests<3.0.0,>=2.13.0->spacy>=2.0.12->convokit) (1.24.3)\n",
      "Requirement already satisfied: idna<3,>=2.5 in /usr/local/lib/python3.6/dist-packages (from requests<3.0.0,>=2.13.0->spacy>=2.0.12->convokit) (2.10)\n",
      "Requirement already satisfied: chardet<4,>=3.0.2 in /usr/local/lib/python3.6/dist-packages (from requests<3.0.0,>=2.13.0->spacy>=2.0.12->convokit) (3.0.4)\n",
      "Requirement already satisfied: wcwidth in /usr/local/lib/python3.6/dist-packages (from ftfy<6.0,>=5.8->clean-text>=0.1.1->convokit) (0.2.5)\n",
      "Requirement already satisfied: zipp>=0.5 in /usr/local/lib/python3.6/dist-packages (from importlib-metadata>=0.20; python_version < \"3.8\"->catalogue<1.1.0,>=0.0.7->spacy>=2.0.12->convokit) (3.4.0)\n",
      "Building wheels for collected packages: convokit, nltk, ftfy, emoji\n",
      "  Building wheel for convokit (setup.py) ... \u001b[?25l\u001b[?25hdone\n",
      "  Created wheel for convokit: filename=convokit-2.4.3-cp36-none-any.whl size=169205 sha256=c34c26a1bb7da55f59d3773732e00fec4523cf3cfcc41b8d8cea11fefc850b97\n",
      "  Stored in directory: /root/.cache/pip/wheels/86/f1/90/772068bb7991b62a4aa22fff45cdf9d75facd7a28897d5e5c1\n",
      "  Building wheel for nltk (setup.py) ... \u001b[?25l\u001b[?25hdone\n",
      "  Created wheel for nltk: filename=nltk-3.5-cp36-none-any.whl size=1434679 sha256=90a54a5f72fc563eec63999f561fa061ea9002ee81e222a54fa02570c78081aa\n",
      "  Stored in directory: /root/.cache/pip/wheels/ae/8c/3f/b1fe0ba04555b08b57ab52ab7f86023639a526d8bc8d384306\n",
      "  Building wheel for ftfy (setup.py) ... \u001b[?25l\u001b[?25hdone\n",
      "  Created wheel for ftfy: filename=ftfy-5.8-cp36-none-any.whl size=45612 sha256=f650faa89d030e112d0e302dc311110dc63817aefc46dc0626535d16ca017777\n",
      "  Stored in directory: /root/.cache/pip/wheels/ba/c0/ef/f28c4da5ac84a4e06ac256ca9182fc34fa57fefffdbc68425b\n",
      "  Building wheel for emoji (setup.py) ... \u001b[?25l\u001b[?25hdone\n",
      "  Created wheel for emoji: filename=emoji-0.6.0-cp36-none-any.whl size=49716 sha256=e9ce8870a1f59bd0e5fb4a75bcd22d968abca0fbf06d609e8744e00e71656a68\n",
      "  Stored in directory: /root/.cache/pip/wheels/46/2c/8b/9dcf5216ca68e14e0320e283692dce8ae321cdc01e73e17796\n",
      "Successfully built convokit nltk ftfy emoji\n",
      "Installing collected packages: msgpack-numpy, nltk, ftfy, emoji, clean-text, unidecode, convokit\n",
      "  Found existing installation: nltk 3.2.5\n",
      "    Uninstalling nltk-3.2.5:\n",
      "      Successfully uninstalled nltk-3.2.5\n",
      "Successfully installed clean-text-0.3.0 convokit-2.4.3 emoji-0.6.0 ftfy-5.8 msgpack-numpy-0.4.7.1 nltk-3.5 unidecode-1.1.1\n"
     ]
    }
   ],
   "source": [
    "!pip install convokit"
   ]
  },
  {
   "cell_type": "code",
   "execution_count": null,
   "metadata": {
    "id": "-l2jphAI8Bk0"
   },
   "outputs": [],
   "source": [
    "import convokit"
   ]
  },
  {
   "cell_type": "markdown",
   "metadata": {
    "id": "itfbLeDG8vDD"
   },
   "source": [
    " # ConvoKit Data\n",
    " \n",
    " \n",
    "download using the convokit.download() helper function:\n"
   ]
  },
  {
   "cell_type": "code",
   "execution_count": 4,
   "metadata": {
    "colab": {
     "base_uri": "https://localhost:8080/"
    },
    "id": "Vxl_RMyl8vl6",
    "outputId": "9f3dbc7f-d8e5-4738-e4ba-c6d7de57a456"
   },
   "outputs": [],
   "source": [
    "#To download Movie-Dialogs Corpus\n",
    "\n",
    "from convokit import Corpus, download\n",
    "corpus = Corpus(filename=download(\"movie-corpus\"))"
   ]
  },
  {
   "cell_type": "markdown",
   "metadata": {
    "id": "u65anDe_gGef"
   },
   "source": [
    "##  Movie-Dialogs Corpus contains a large collection of files\n",
    "\n",
    "Dataset details: More @\n",
    "https://convokit.cornell.edu/documentation/movie.html\n",
    "\n",
    "If working in Google colab\n",
    "\n",
    "### Unizp downloaded file:"
   ]
  },
  {
   "cell_type": "code",
   "execution_count": null,
   "metadata": {
    "colab": {
     "base_uri": "https://localhost:8080/"
    },
    "id": "nE1E8nEUfpa5",
    "outputId": "7ce5e4de-16d7-4c59-8ec9-1054b6a78282"
   },
   "outputs": [
    {
     "name": "stdout",
     "output_type": "stream",
     "text": [
      "Archive:  /root/.convokit/downloads/movie-corpus.zip\n",
      "   creating: movie-corpus/\n",
      "  inflating: movie-corpus/utterances.jsonl  \n",
      "  inflating: movie-corpus/conversations.json  \n",
      "  inflating: movie-corpus/corpus.json  \n",
      "  inflating: movie-corpus/speakers.json  \n",
      "  inflating: movie-corpus/index.json  \n"
     ]
    }
   ],
   "source": [
    "!unzip /root/.convokit/downloads/movie-corpus.zip"
   ]
  },
  {
   "cell_type": "markdown",
   "metadata": {
    "id": "cLQHks-7bdtC"
   },
   "source": [
    "### Alternatively, download and unzip Movie-Dialogs Datasets directly from\n",
    "\n",
    "https://zissou.infosci.cornell.edu/convokit/datasets/\n",
    "\n",
    "\n"
   ]
  },
  {
   "cell_type": "code",
   "execution_count": null,
   "metadata": {
    "colab": {
     "base_uri": "https://localhost:8080/"
    },
    "id": "oO4tGH54beHf",
    "outputId": "19f1f8d8-6e5e-4d7a-a9dc-399e2d097f6d"
   },
   "outputs": [
    {
     "name": "stdout",
     "output_type": "stream",
     "text": [
      "--2020-11-25 03:25:11--  https://zissou.infosci.cornell.edu/convokit/datasets/movie-corpus/movie-corpus.zip\n",
      "Resolving zissou.infosci.cornell.edu (zissou.infosci.cornell.edu)... 128.253.51.178\n",
      "Connecting to zissou.infosci.cornell.edu (zissou.infosci.cornell.edu)|128.253.51.178|:443... connected.\n",
      "HTTP request sent, awaiting response... 200 OK\n",
      "Length: 40854701 (39M) [application/zip]\n",
      "Saving to: ‘movie-corpus.zip’\n",
      "\n",
      "movie-corpus.zip    100%[===================>]  38.96M  72.5MB/s    in 0.5s    \n",
      "\n",
      "2020-11-25 03:25:12 (72.5 MB/s) - ‘movie-corpus.zip’ saved [40854701/40854701]\n",
      "\n"
     ]
    }
   ],
   "source": [
    "!wget https://zissou.infosci.cornell.edu/convokit/datasets/movie-corpus/movie-corpus.zip"
   ]
  },
  {
   "cell_type": "markdown",
   "metadata": {
    "id": "Gp6ZinqScuVg"
   },
   "source": [
    "#### Unizp downloaded file:"
   ]
  },
  {
   "cell_type": "code",
   "execution_count": null,
   "metadata": {
    "colab": {
     "base_uri": "https://localhost:8080/"
    },
    "id": "eEsQHOBvb0Px",
    "outputId": "148f0c1c-1a21-471e-eb30-b1ebb12608ed"
   },
   "outputs": [
    {
     "name": "stdout",
     "output_type": "stream",
     "text": [
      "Archive:  /content/movie-corpus.zip\n",
      "   creating: movie-corpus/\n",
      "  inflating: movie-corpus/utterances.jsonl  \n",
      "  inflating: movie-corpus/conversations.json  \n",
      "  inflating: movie-corpus/corpus.json  \n",
      "  inflating: movie-corpus/speakers.json  \n",
      "  inflating: movie-corpus/index.json  \n"
     ]
    }
   ],
   "source": [
    "!unzip /content/movie-corpus.zip"
   ]
  },
  {
   "cell_type": "markdown",
   "metadata": {
    "id": "U1DC88y9hjyk"
   },
   "source": [
    "\n",
    "## Data Summary:\n",
    "\n"
   ]
  },
  {
   "cell_type": "code",
   "execution_count": 2,
   "metadata": {
    "colab": {
     "base_uri": "https://localhost:8080/"
    },
    "id": "to9_H2_RgkHi",
    "outputId": "73d9e541-2f6d-4409-f6bc-8c22f155f29a"
   },
   "outputs": [],
   "source": [
    "corpus.print_summary_stats()"
   ]
  },
  {
   "cell_type": "markdown",
   "metadata": {
    "id": "_tt2L_uglEwH"
   },
   "source": [
    "## Another option is to download and unzip the original Movie-Dialogs data in your working dir:\n",
    "\n",
    "https://www.cs.cornell.edu/~cristian/Cornell_Movie-Dialogs_Corpus.html"
   ]
  },
  {
   "cell_type": "code",
   "execution_count": 11,
   "metadata": {},
   "outputs": [],
   "source": [
    "import os\n",
    "lines_path = os.path.join(\"cornell movie-dialogs corpus\", \"movie_lines.txt\")"
   ]
  },
  {
   "cell_type": "code",
   "execution_count": 12,
   "metadata": {},
   "outputs": [],
   "source": [
    "with open(lines_path, 'r') as f:\n",
    "    lines = f.readlines()"
   ]
  },
  {
   "cell_type": "code",
   "execution_count": 13,
   "metadata": {},
   "outputs": [
    {
     "name": "stdout",
     "output_type": "stream",
     "text": [
      "L1045 +++$+++ u0 +++$+++ m0 +++$+++ BIANCA +++$+++ They do not!\n",
      "L1044 +++$+++ u2 +++$+++ m0 +++$+++ CAMERON +++$+++ They do to!\n",
      "L985 +++$+++ u0 +++$+++ m0 +++$+++ BIANCA +++$+++ I hope so.\n",
      "L984 +++$+++ u2 +++$+++ m0 +++$+++ CAMERON +++$+++ She okay?\n",
      "L925 +++$+++ u0 +++$+++ m0 +++$+++ BIANCA +++$+++ Let's go.\n"
     ]
    }
   ],
   "source": [
    "for line in lines[:5]:\n",
    "    print(line.strip())"
   ]
  },
  {
   "cell_type": "code",
   "execution_count": null,
   "metadata": {},
   "outputs": [],
   "source": []
  }
 ],
 "metadata": {
  "accelerator": "GPU",
  "colab": {
   "collapsed_sections": [],
   "name": "NLP Chat.ipynb",
   "provenance": [],
   "toc_visible": true
  },
  "kernelspec": {
   "display_name": "Python 3",
   "language": "python",
   "name": "python3"
  },
  "language_info": {
   "codemirror_mode": {
    "name": "ipython",
    "version": 3
   },
   "file_extension": ".py",
   "mimetype": "text/x-python",
   "name": "python",
   "nbconvert_exporter": "python",
   "pygments_lexer": "ipython3",
   "version": "3.8.3"
  }
 },
 "nbformat": 4,
 "nbformat_minor": 1
}
