{
 "cells": [
  {
   "cell_type": "markdown",
   "id": "89e799e4",
   "metadata": {},
   "source": [
    "\n",
    "# Sentiment Analysis Measures: Polarity & Subjectivity\n",
    "\n",
    "\n",
    "In my previous post https://github.com/kyramichel/NLP/blob/master/Sentiment%20Analysis%20Comments.ipynb I used sentiment \n",
    "\n",
    "analysis on tweets that were already hand-tagged with sentiment: positive, neutral, negative (1 of 3 categories).\n",
    "\n",
    "For the purpose of this Sentiment Analysis exercise, I will work only with unstructured text data. This is useful since most often we have text available, such as from webpages (using web scraping) and we want to perform Sentiment Analysis (ie, opiniin mining) on such unstructured text.\n",
    "\n",
    " \n",
    "There are 2 measures to analyze the sentiment from text:\n",
    "\n",
    "1. Polarity (how positive or negative an opinion is):\n",
    "\n",
    "Polarity measure ranges from -1 to 1, where 1 (positive), 0 (neutral) and -1 (negative)\n",
    "\n",
    "2. Subjectivity measure, which ranges from 0 to 1, where  0 (objective) and 1 (subjective)\n",
    "\n",
    "\n",
    "One easy way to perform Sentiment Analysis is using TextBlob -  TextBlob(text).sentiment will gives us both the Polarity and Subjectivity "
   ]
  },
  {
   "cell_type": "markdown",
   "id": "6f432c0a",
   "metadata": {},
   "source": [
    "Data can be downloaded from:\n",
    "\n",
    "https://www.kaggle.com/datasets/crowdflower/twitter-airline-sentiment\n"
   ]
  },
  {
   "cell_type": "code",
   "execution_count": 1,
   "id": "e8c27007",
   "metadata": {},
   "outputs": [],
   "source": [
    "import numpy as np \n",
    "import pandas as pd \n",
    "\n",
    "import re\n",
    "import nltk\n",
    "\n",
    "from textblob import TextBlob\n",
    "\n",
    "import seaborn as sns\n",
    "import matplotlib.pyplot as plt\n",
    "%matplotlib inline\n",
    "\n",
    "import warnings\n",
    "warnings.filterwarnings('ignore')"
   ]
  },
  {
   "cell_type": "code",
   "execution_count": 2,
   "id": "8b4e005c",
   "metadata": {},
   "outputs": [
    {
     "data": {
      "text/html": [
       "<div>\n",
       "<style scoped>\n",
       "    .dataframe tbody tr th:only-of-type {\n",
       "        vertical-align: middle;\n",
       "    }\n",
       "\n",
       "    .dataframe tbody tr th {\n",
       "        vertical-align: top;\n",
       "    }\n",
       "\n",
       "    .dataframe thead th {\n",
       "        text-align: right;\n",
       "    }\n",
       "</style>\n",
       "<table border=\"1\" class=\"dataframe\">\n",
       "  <thead>\n",
       "    <tr style=\"text-align: right;\">\n",
       "      <th></th>\n",
       "      <th>airline_sentiment</th>\n",
       "      <th>text</th>\n",
       "    </tr>\n",
       "  </thead>\n",
       "  <tbody>\n",
       "    <tr>\n",
       "      <th>0</th>\n",
       "      <td>neutral</td>\n",
       "      <td>@VirginAmerica What @dhepburn said.</td>\n",
       "    </tr>\n",
       "    <tr>\n",
       "      <th>1</th>\n",
       "      <td>positive</td>\n",
       "      <td>@VirginAmerica plus you've added commercials t...</td>\n",
       "    </tr>\n",
       "    <tr>\n",
       "      <th>2</th>\n",
       "      <td>neutral</td>\n",
       "      <td>@VirginAmerica I didn't today... Must mean I n...</td>\n",
       "    </tr>\n",
       "    <tr>\n",
       "      <th>3</th>\n",
       "      <td>negative</td>\n",
       "      <td>@VirginAmerica it's really aggressive to blast...</td>\n",
       "    </tr>\n",
       "    <tr>\n",
       "      <th>4</th>\n",
       "      <td>negative</td>\n",
       "      <td>@VirginAmerica and it's a really big bad thing...</td>\n",
       "    </tr>\n",
       "  </tbody>\n",
       "</table>\n",
       "</div>"
      ],
      "text/plain": [
       "  airline_sentiment                                               text\n",
       "0           neutral                @VirginAmerica What @dhepburn said.\n",
       "1          positive  @VirginAmerica plus you've added commercials t...\n",
       "2           neutral  @VirginAmerica I didn't today... Must mean I n...\n",
       "3          negative  @VirginAmerica it's really aggressive to blast...\n",
       "4          negative  @VirginAmerica and it's a really big bad thing..."
      ]
     },
     "execution_count": 2,
     "metadata": {},
     "output_type": "execute_result"
    }
   ],
   "source": [
    "tweets = pd.read_csv(\"Tweets.csv\")\n",
    "tweets.head()"
   ]
  },
  {
   "cell_type": "code",
   "execution_count": 3,
   "id": "63647a56",
   "metadata": {},
   "outputs": [
    {
     "data": {
      "text/plain": [
       "(14640, 2)"
      ]
     },
     "execution_count": 3,
     "metadata": {},
     "output_type": "execute_result"
    }
   ],
   "source": [
    "tweets.shape"
   ]
  },
  {
   "cell_type": "code",
   "execution_count": 4,
   "id": "3b50c42f",
   "metadata": {},
   "outputs": [
    {
     "data": {
      "text/plain": [
       "airline_sentiment    0\n",
       "text                 0\n",
       "dtype: int64"
      ]
     },
     "execution_count": 4,
     "metadata": {},
     "output_type": "execute_result"
    }
   ],
   "source": [
    "#no missing values \n",
    "tweets.isna().sum()"
   ]
  },
  {
   "cell_type": "markdown",
   "id": "1083dae9",
   "metadata": {},
   "source": [
    "Text data:"
   ]
  },
  {
   "cell_type": "code",
   "execution_count": 5,
   "id": "5f0d601a",
   "metadata": {},
   "outputs": [
    {
     "data": {
      "text/html": [
       "<div>\n",
       "<style scoped>\n",
       "    .dataframe tbody tr th:only-of-type {\n",
       "        vertical-align: middle;\n",
       "    }\n",
       "\n",
       "    .dataframe tbody tr th {\n",
       "        vertical-align: top;\n",
       "    }\n",
       "\n",
       "    .dataframe thead th {\n",
       "        text-align: right;\n",
       "    }\n",
       "</style>\n",
       "<table border=\"1\" class=\"dataframe\">\n",
       "  <thead>\n",
       "    <tr style=\"text-align: right;\">\n",
       "      <th></th>\n",
       "      <th>text</th>\n",
       "    </tr>\n",
       "  </thead>\n",
       "  <tbody>\n",
       "    <tr>\n",
       "      <th>0</th>\n",
       "      <td>@VirginAmerica What @dhepburn said.</td>\n",
       "    </tr>\n",
       "    <tr>\n",
       "      <th>1</th>\n",
       "      <td>@VirginAmerica plus you've added commercials t...</td>\n",
       "    </tr>\n",
       "    <tr>\n",
       "      <th>2</th>\n",
       "      <td>@VirginAmerica I didn't today... Must mean I n...</td>\n",
       "    </tr>\n",
       "    <tr>\n",
       "      <th>3</th>\n",
       "      <td>@VirginAmerica it's really aggressive to blast...</td>\n",
       "    </tr>\n",
       "    <tr>\n",
       "      <th>4</th>\n",
       "      <td>@VirginAmerica and it's a really big bad thing...</td>\n",
       "    </tr>\n",
       "  </tbody>\n",
       "</table>\n",
       "</div>"
      ],
      "text/plain": [
       "                                                text\n",
       "0                @VirginAmerica What @dhepburn said.\n",
       "1  @VirginAmerica plus you've added commercials t...\n",
       "2  @VirginAmerica I didn't today... Must mean I n...\n",
       "3  @VirginAmerica it's really aggressive to blast...\n",
       "4  @VirginAmerica and it's a really big bad thing..."
      ]
     },
     "execution_count": 5,
     "metadata": {},
     "output_type": "execute_result"
    }
   ],
   "source": [
    "# dropping unwanted column: airline_sentiment\n",
    "data = tweets.drop('airline_sentiment', axis=1)\n",
    "data.head()"
   ]
  },
  {
   "cell_type": "code",
   "execution_count": 6,
   "id": "dc82daa5",
   "metadata": {},
   "outputs": [
    {
     "data": {
      "text/html": [
       "<div>\n",
       "<style scoped>\n",
       "    .dataframe tbody tr th:only-of-type {\n",
       "        vertical-align: middle;\n",
       "    }\n",
       "\n",
       "    .dataframe tbody tr th {\n",
       "        vertical-align: top;\n",
       "    }\n",
       "\n",
       "    .dataframe thead th {\n",
       "        text-align: right;\n",
       "    }\n",
       "</style>\n",
       "<table border=\"1\" class=\"dataframe\">\n",
       "  <thead>\n",
       "    <tr style=\"text-align: right;\">\n",
       "      <th></th>\n",
       "      <th>text</th>\n",
       "    </tr>\n",
       "  </thead>\n",
       "  <tbody>\n",
       "    <tr>\n",
       "      <th>0</th>\n",
       "      <td>VirginAmerica What dhepburn said</td>\n",
       "    </tr>\n",
       "    <tr>\n",
       "      <th>1</th>\n",
       "      <td>VirginAmerica plus you ve added commercials t...</td>\n",
       "    </tr>\n",
       "    <tr>\n",
       "      <th>2</th>\n",
       "      <td>VirginAmerica I didn t today Must mean I need...</td>\n",
       "    </tr>\n",
       "    <tr>\n",
       "      <th>3</th>\n",
       "      <td>VirginAmerica it s really aggressive to blast...</td>\n",
       "    </tr>\n",
       "    <tr>\n",
       "      <th>4</th>\n",
       "      <td>VirginAmerica and it s a really big bad thing...</td>\n",
       "    </tr>\n",
       "  </tbody>\n",
       "</table>\n",
       "</div>"
      ],
      "text/plain": [
       "                                                text\n",
       "0                  VirginAmerica What dhepburn said \n",
       "1   VirginAmerica plus you ve added commercials t...\n",
       "2   VirginAmerica I didn t today Must mean I need...\n",
       "3   VirginAmerica it s really aggressive to blast...\n",
       "4   VirginAmerica and it s a really big bad thing..."
      ]
     },
     "execution_count": 6,
     "metadata": {},
     "output_type": "execute_result"
    }
   ],
   "source": [
    "#cleaning text by removing special characters \n",
    "\n",
    "def clean(text):\n",
    "    text = re.sub('[^A-Za-z]+', ' ', text) \n",
    "    return text\n",
    "\n",
    "\n",
    "data['text'] = data['text'].apply(clean)\n",
    "data.head()"
   ]
  },
  {
   "cell_type": "markdown",
   "id": "42de341a",
   "metadata": {},
   "source": [
    "1.Sentiment analysis"
   ]
  },
  {
   "cell_type": "code",
   "execution_count": 7,
   "id": "02389575",
   "metadata": {},
   "outputs": [],
   "source": [
    "#calculate polarity\n",
    "def polarity(text):\n",
    "    return TextBlob(text).sentiment.polarity\n",
    "\n",
    "\n",
    "data['polarity'] = data['text'].apply(polarity) "
   ]
  },
  {
   "cell_type": "code",
   "execution_count": 8,
   "id": "438fea4f",
   "metadata": {},
   "outputs": [],
   "source": [
    "def sentiment_analysis(p):\n",
    "    if p < 0:\n",
    "        return 'Negative'\n",
    "    elif p == 0:\n",
    "        return 'Neutral'\n",
    "    else:\n",
    "        return 'Positive'"
   ]
  },
  {
   "cell_type": "code",
   "execution_count": 9,
   "id": "68a481eb",
   "metadata": {},
   "outputs": [
    {
     "data": {
      "text/html": [
       "<div>\n",
       "<style scoped>\n",
       "    .dataframe tbody tr th:only-of-type {\n",
       "        vertical-align: middle;\n",
       "    }\n",
       "\n",
       "    .dataframe tbody tr th {\n",
       "        vertical-align: top;\n",
       "    }\n",
       "\n",
       "    .dataframe thead th {\n",
       "        text-align: right;\n",
       "    }\n",
       "</style>\n",
       "<table border=\"1\" class=\"dataframe\">\n",
       "  <thead>\n",
       "    <tr style=\"text-align: right;\">\n",
       "      <th></th>\n",
       "      <th>text</th>\n",
       "      <th>polarity</th>\n",
       "      <th>sentiment_analysis</th>\n",
       "    </tr>\n",
       "  </thead>\n",
       "  <tbody>\n",
       "    <tr>\n",
       "      <th>0</th>\n",
       "      <td>VirginAmerica What dhepburn said</td>\n",
       "      <td>0.00000</td>\n",
       "      <td>Neutral</td>\n",
       "    </tr>\n",
       "    <tr>\n",
       "      <th>1</th>\n",
       "      <td>VirginAmerica plus you ve added commercials t...</td>\n",
       "      <td>0.00000</td>\n",
       "      <td>Neutral</td>\n",
       "    </tr>\n",
       "    <tr>\n",
       "      <th>2</th>\n",
       "      <td>VirginAmerica I didn t today Must mean I need...</td>\n",
       "      <td>-0.31250</td>\n",
       "      <td>Negative</td>\n",
       "    </tr>\n",
       "    <tr>\n",
       "      <th>3</th>\n",
       "      <td>VirginAmerica it s really aggressive to blast...</td>\n",
       "      <td>0.00625</td>\n",
       "      <td>Positive</td>\n",
       "    </tr>\n",
       "    <tr>\n",
       "      <th>4</th>\n",
       "      <td>VirginAmerica and it s a really big bad thing...</td>\n",
       "      <td>-0.35000</td>\n",
       "      <td>Negative</td>\n",
       "    </tr>\n",
       "  </tbody>\n",
       "</table>\n",
       "</div>"
      ],
      "text/plain": [
       "                                                text  polarity  \\\n",
       "0                  VirginAmerica What dhepburn said    0.00000   \n",
       "1   VirginAmerica plus you ve added commercials t...   0.00000   \n",
       "2   VirginAmerica I didn t today Must mean I need...  -0.31250   \n",
       "3   VirginAmerica it s really aggressive to blast...   0.00625   \n",
       "4   VirginAmerica and it s a really big bad thing...  -0.35000   \n",
       "\n",
       "  sentiment_analysis  \n",
       "0            Neutral  \n",
       "1            Neutral  \n",
       "2           Negative  \n",
       "3           Positive  \n",
       "4           Negative  "
      ]
     },
     "execution_count": 9,
     "metadata": {},
     "output_type": "execute_result"
    }
   ],
   "source": [
    "data['sentiment_analysis'] = data['polarity'].apply(sentiment_analysis)\n",
    "data.head()"
   ]
  },
  {
   "cell_type": "markdown",
   "id": "6b3e9bb5",
   "metadata": {},
   "source": [
    "Let's count the number of positive, negative, neutral:"
   ]
  },
  {
   "cell_type": "code",
   "execution_count": 10,
   "id": "ed162e33",
   "metadata": {},
   "outputs": [
    {
     "data": {
      "text/plain": [
       "Neutral     5514\n",
       "Positive    5475\n",
       "Negative    3651\n",
       "Name: sentiment_analysis, dtype: int64"
      ]
     },
     "execution_count": 10,
     "metadata": {},
     "output_type": "execute_result"
    }
   ],
   "source": [
    "data['sentiment_analysis'].value_counts()"
   ]
  },
  {
   "cell_type": "code",
   "execution_count": 11,
   "id": "92736647",
   "metadata": {},
   "outputs": [
    {
     "data": {
      "image/png": "[encoded data removed]",
      "text/plain": [
       "<Figure size 216x360 with 1 Axes>"
      ]
     },
     "metadata": {
      "needs_background": "light"
     },
     "output_type": "display_data"
    }
   ],
   "source": [
    "#plotting the sentiment categories \n",
    "\n",
    "plt.figure(figsize=(3,5))\n",
    "sns.countplot(data['sentiment_analysis'], order =data.sentiment_analysis.value_counts().index,palette=\"Set3\")\n",
    "plt.show()"
   ]
  },
  {
   "cell_type": "code",
   "execution_count": null,
   "id": "150a051a",
   "metadata": {},
   "outputs": [],
   "source": [
    "Calculating the % of positive, neutral and negative comments:"
   ]
  },
  {
   "cell_type": "code",
   "execution_count": 12,
   "id": "b9caf0e5",
   "metadata": {},
   "outputs": [
    {
     "data": {
      "text/plain": [
       "Neutral     0.376639\n",
       "Positive    0.373975\n",
       "Negative    0.249385\n",
       "Name: sentiment_analysis, dtype: float64"
      ]
     },
     "execution_count": 12,
     "metadata": {},
     "output_type": "execute_result"
    }
   ],
   "source": [
    "data['sentiment_analysis'].value_counts() / len(data)\n"
   ]
  },
  {
   "cell_type": "markdown",
   "id": "b3ad8fe1",
   "metadata": {},
   "source": [
    "Note: As shown in my previous post, 62% of the comments were hand-labeled as negative, 21% neutral and 16% as positive. \n",
    "Based on our sentiment analysis, the number of positive and neutral reviwes are almost the same.\n",
    "\n",
    "IS our sentiment analysis subjective?"
   ]
  },
  {
   "cell_type": "markdown",
   "id": "ecfd0f09",
   "metadata": {},
   "source": [
    "2.Subjectivity:\n"
   ]
  },
  {
   "cell_type": "code",
   "execution_count": 13,
   "id": "7ca84515",
   "metadata": {},
   "outputs": [
    {
     "data": {
      "text/html": [
       "<div>\n",
       "<style scoped>\n",
       "    .dataframe tbody tr th:only-of-type {\n",
       "        vertical-align: middle;\n",
       "    }\n",
       "\n",
       "    .dataframe tbody tr th {\n",
       "        vertical-align: top;\n",
       "    }\n",
       "\n",
       "    .dataframe thead th {\n",
       "        text-align: right;\n",
       "    }\n",
       "</style>\n",
       "<table border=\"1\" class=\"dataframe\">\n",
       "  <thead>\n",
       "    <tr style=\"text-align: right;\">\n",
       "      <th></th>\n",
       "      <th>text</th>\n",
       "      <th>polarity</th>\n",
       "      <th>sentiment_analysis</th>\n",
       "      <th>subjectivity</th>\n",
       "    </tr>\n",
       "  </thead>\n",
       "  <tbody>\n",
       "    <tr>\n",
       "      <th>0</th>\n",
       "      <td>VirginAmerica What dhepburn said</td>\n",
       "      <td>0.00000</td>\n",
       "      <td>Neutral</td>\n",
       "      <td>0.000000</td>\n",
       "    </tr>\n",
       "    <tr>\n",
       "      <th>1</th>\n",
       "      <td>VirginAmerica plus you ve added commercials t...</td>\n",
       "      <td>0.00000</td>\n",
       "      <td>Neutral</td>\n",
       "      <td>0.000000</td>\n",
       "    </tr>\n",
       "    <tr>\n",
       "      <th>2</th>\n",
       "      <td>VirginAmerica I didn t today Must mean I need...</td>\n",
       "      <td>-0.31250</td>\n",
       "      <td>Negative</td>\n",
       "      <td>0.687500</td>\n",
       "    </tr>\n",
       "    <tr>\n",
       "      <th>3</th>\n",
       "      <td>VirginAmerica it s really aggressive to blast...</td>\n",
       "      <td>0.00625</td>\n",
       "      <td>Positive</td>\n",
       "      <td>0.350000</td>\n",
       "    </tr>\n",
       "    <tr>\n",
       "      <th>4</th>\n",
       "      <td>VirginAmerica and it s a really big bad thing...</td>\n",
       "      <td>-0.35000</td>\n",
       "      <td>Negative</td>\n",
       "      <td>0.383333</td>\n",
       "    </tr>\n",
       "  </tbody>\n",
       "</table>\n",
       "</div>"
      ],
      "text/plain": [
       "                                                text  polarity  \\\n",
       "0                  VirginAmerica What dhepburn said    0.00000   \n",
       "1   VirginAmerica plus you ve added commercials t...   0.00000   \n",
       "2   VirginAmerica I didn t today Must mean I need...  -0.31250   \n",
       "3   VirginAmerica it s really aggressive to blast...   0.00625   \n",
       "4   VirginAmerica and it s a really big bad thing...  -0.35000   \n",
       "\n",
       "  sentiment_analysis  subjectivity  \n",
       "0            Neutral      0.000000  \n",
       "1            Neutral      0.000000  \n",
       "2           Negative      0.687500  \n",
       "3           Positive      0.350000  \n",
       "4           Negative      0.383333  "
      ]
     },
     "execution_count": 13,
     "metadata": {},
     "output_type": "execute_result"
    }
   ],
   "source": [
    "#calculate subjectivity\n",
    "\n",
    "def subjectivity(text):\n",
    "    return TextBlob(text).sentiment.subjectivity\n",
    "\n",
    "data['subjectivity'] = data['text'].apply(subjectivity) \n",
    "data.head()"
   ]
  },
  {
   "cell_type": "markdown",
   "id": "20fc3edd",
   "metadata": {},
   "source": [
    "subjectivity measure ranges between 0 and 1. The closer the value is to 1, the more likely the statement is subjective (public opinion) rather than objective (true piece of information)"
   ]
  },
  {
   "cell_type": "code",
   "execution_count": 15,
   "id": "c8bbb960",
   "metadata": {},
   "outputs": [],
   "source": [
    "def subjectivity_analysis(s):\n",
    "    if s > 0.5:\n",
    "        return 'Subjective'\n",
    "    else:\n",
    "        return 'Objective'"
   ]
  },
  {
   "cell_type": "code",
   "execution_count": 16,
   "id": "6c514568",
   "metadata": {},
   "outputs": [
    {
     "data": {
      "text/html": [
       "<div>\n",
       "<style scoped>\n",
       "    .dataframe tbody tr th:only-of-type {\n",
       "        vertical-align: middle;\n",
       "    }\n",
       "\n",
       "    .dataframe tbody tr th {\n",
       "        vertical-align: top;\n",
       "    }\n",
       "\n",
       "    .dataframe thead th {\n",
       "        text-align: right;\n",
       "    }\n",
       "</style>\n",
       "<table border=\"1\" class=\"dataframe\">\n",
       "  <thead>\n",
       "    <tr style=\"text-align: right;\">\n",
       "      <th></th>\n",
       "      <th>text</th>\n",
       "      <th>polarity</th>\n",
       "      <th>sentiment_analysis</th>\n",
       "      <th>subjectivity</th>\n",
       "      <th>subjectivity_analysis</th>\n",
       "    </tr>\n",
       "  </thead>\n",
       "  <tbody>\n",
       "    <tr>\n",
       "      <th>0</th>\n",
       "      <td>VirginAmerica What dhepburn said</td>\n",
       "      <td>0.00000</td>\n",
       "      <td>Neutral</td>\n",
       "      <td>0.000000</td>\n",
       "      <td>Objective</td>\n",
       "    </tr>\n",
       "    <tr>\n",
       "      <th>1</th>\n",
       "      <td>VirginAmerica plus you ve added commercials t...</td>\n",
       "      <td>0.00000</td>\n",
       "      <td>Neutral</td>\n",
       "      <td>0.000000</td>\n",
       "      <td>Objective</td>\n",
       "    </tr>\n",
       "    <tr>\n",
       "      <th>2</th>\n",
       "      <td>VirginAmerica I didn t today Must mean I need...</td>\n",
       "      <td>-0.31250</td>\n",
       "      <td>Negative</td>\n",
       "      <td>0.687500</td>\n",
       "      <td>Subjective</td>\n",
       "    </tr>\n",
       "    <tr>\n",
       "      <th>3</th>\n",
       "      <td>VirginAmerica it s really aggressive to blast...</td>\n",
       "      <td>0.00625</td>\n",
       "      <td>Positive</td>\n",
       "      <td>0.350000</td>\n",
       "      <td>Objective</td>\n",
       "    </tr>\n",
       "    <tr>\n",
       "      <th>4</th>\n",
       "      <td>VirginAmerica and it s a really big bad thing...</td>\n",
       "      <td>-0.35000</td>\n",
       "      <td>Negative</td>\n",
       "      <td>0.383333</td>\n",
       "      <td>Objective</td>\n",
       "    </tr>\n",
       "  </tbody>\n",
       "</table>\n",
       "</div>"
      ],
      "text/plain": [
       "                                                text  polarity  \\\n",
       "0                  VirginAmerica What dhepburn said    0.00000   \n",
       "1   VirginAmerica plus you ve added commercials t...   0.00000   \n",
       "2   VirginAmerica I didn t today Must mean I need...  -0.31250   \n",
       "3   VirginAmerica it s really aggressive to blast...   0.00625   \n",
       "4   VirginAmerica and it s a really big bad thing...  -0.35000   \n",
       "\n",
       "  sentiment_analysis  subjectivity subjectivity_analysis  \n",
       "0            Neutral      0.000000             Objective  \n",
       "1            Neutral      0.000000             Objective  \n",
       "2           Negative      0.687500            Subjective  \n",
       "3           Positive      0.350000             Objective  \n",
       "4           Negative      0.383333             Objective  "
      ]
     },
     "execution_count": 16,
     "metadata": {},
     "output_type": "execute_result"
    }
   ],
   "source": [
    "data['subjectivity_analysis'] = data['subjectivity'].apply(subjectivity_analysis)\n",
    "data.head()"
   ]
  },
  {
   "cell_type": "code",
   "execution_count": 17,
   "id": "ff686df3",
   "metadata": {},
   "outputs": [
    {
     "data": {
      "text/plain": [
       "([<matplotlib.patches.Wedge at 0x18bc5f14b20>,\n",
       "  <matplotlib.patches.Wedge at 0x18bc5f47070>],\n",
       " [Text(-0.5771617546962845, 0.9364210105053742, 'Objective'),\n",
       "  Text(0.5771618423703447, -0.9364209564675865, 'Subjective')])"
      ]
     },
     "execution_count": 17,
     "metadata": {},
     "output_type": "execute_result"
    },
    {
     "data": {
      "image/png": "[encoded data removed]",
      "text/plain": [
       "<Figure size 432x288 with 1 Axes>"
      ]
     },
     "metadata": {},
     "output_type": "display_data"
    }
   ],
   "source": [
    "#plot\n",
    "count= data.subjectivity_analysis.value_counts()\n",
    "\n",
    "plt.pie(count.values, labels = count.index)"
   ]
  },
  {
   "cell_type": "markdown",
   "id": "3ea43897",
   "metadata": {},
   "source": [
    "Note: one way to improve the sentiment analysis is to use NLP techniques such as: POS(parts of Speech) tagging to convert each word into (word, tag) that will help preserve the context of the word and then Lemmatization for preprocessing the text data prior performing sentiment analysis."
   ]
  },
  {
   "cell_type": "code",
   "execution_count": null,
   "id": "b420c4ce",
   "metadata": {},
   "outputs": [],
   "source": []
  }
 ],
 "metadata": {
  "kernelspec": {
   "display_name": "Python 3 (ipykernel)",
   "language": "python",
   "name": "python3"
  },
  "language_info": {
   "codemirror_mode": {
    "name": "ipython",
    "version": 3
   },
   "file_extension": ".py",
   "mimetype": "text/x-python",
   "name": "python",
   "nbconvert_exporter": "python",
   "pygments_lexer": "ipython3",
   "version": "3.9.12"
  }
 },
 "nbformat": 4,
 "nbformat_minor": 5
}
