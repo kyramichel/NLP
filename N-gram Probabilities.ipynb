{
 "cells": [
  {
   "cell_type": "markdown",
   "id": "8e40f8d6",
   "metadata": {},
   "source": [
    "# NLP word prediction using n-gram models based on calculating n-gram probabilities\n",
    "\n",
    "\n",
    "### N-gram = a sequence of N words \n",
    "\n",
    "Examples:\n",
    "\n",
    "```\n",
    "Unigrams (N=1-grams) are words: 'New', 'York', 'City'\n",
    "Bigrams (N=2-grams): 'New York'\n",
    "Trigrams (N=3-grams): 'New York City'\n",
    "\n",
    "```\n",
    "\n",
    "N-grams are useful because, e.g., using the bag-of-words model, treating `New York` as a single feature has more meaning than having two independent features `New` and `York.\n",
    "\n",
    "\n"
   ]
  },
  {
   "cell_type": "markdown",
   "id": "9dca4913",
   "metadata": {},
   "source": [
    "### N-gram models: N-gram Probabilities \n",
    "\n",
    "Example: Bigram probability P(b) where b=(w2,w1) is the probability of word 'w1' occurring after word 'w2'\n",
    "\n",
    "**Bigram Probability formula:** \n",
    "    \n",
    "*Prob(b) = Count(b) /Count(w2)*\n",
    "\n",
    "or \n",
    "\n",
    "*Prob(b) = Count(b)/Count(b[0])*\n",
    "\n",
    "\n",
    "Interpretation: the bigram probability, P(b) represents the number of times the words occurs in the required sequence (w2,w1) divided by the number of the times the word 'w2' occurs before the expected word 'w1' in the text\n",
    "\n",
    "In general, given a sentence “Thank you so much for your”,  an n-gram model can be used to predict what the next word will be by calculating the n-gram probabilities. \n",
    "\n",
    "N-grams models applications: Predict the next word. \n",
    "\n",
    "Example of N-grams models applications: autocompletion and spellchecks systems like those used in emails\n",
    "\n"
   ]
  },
  {
   "cell_type": "code",
   "execution_count": 1,
   "id": "102ffca0",
   "metadata": {},
   "outputs": [],
   "source": [
    "import nltk\n",
    "\n",
    "from nltk.util import ngrams\n",
    "\n",
    "from nltk.corpus import stopwords\n",
    "\n",
    "from nltk.tokenize import word_tokenize, sent_tokenize"
   ]
  },
  {
   "cell_type": "code",
   "execution_count": 2,
   "id": "9bd61bb0",
   "metadata": {},
   "outputs": [],
   "source": [
    "text = \"\"\"\n",
    "    To all of you who need a miracle in their lives: don't stop believing \n",
    "because miracles happen and fortune will smile upon you – be brave.\n",
    "\n",
    "May everyone who sees this message receives the miracles they have been wishing for!\n",
    "\n",
    "Anyone reading this, may get whatever they want in life. \n",
    "\n",
    "If you’re reading this, it’s coming, be patient - the universe has your back-don’t worry about it.\n",
    "\n",
    "If you are reading this at night, you should get some sleep, and do not stress about anything – don’t worry about the world or what you are going through; don't dwell on things from the past and don't stress about the future; just live your life, because you have one, so do whatever makes you happy and do not what other people want from you.\n",
    "Surrender all the negativity and non-sense and you will see miracles happen in your life. I got everything for my highest good! You are loved!\n",
    "\n",
    "Anyone reading this, may you achieve whatever you are longing for, because the Universe always delivers, it never fails; I am telling you my friends, because I have witnessed it myself so many times.\n",
    "\n",
    "We don’t know each other, but I wish you all the best in life, and may all things work out in your favor.\n",
    "\n",
    "Years of deep anger and sadness have finally reached my consciousness to letting them go.\n",
    "\n",
    "I wish anyone and everyone health and safety because we are all one; peace, love and strength to all who read this and to all who need it.\n",
    "\n",
    "Radiating with positive energy, let any negativity go away to allow abundance coming in my way.\n",
    "To the person who is reading this, you are beautiful and loved, you are unique, you will receive your desires; trust the universe and tale care for yourself.\n",
    "\n",
    "If you don't get your results immediately, let some time as things take time; the Universe works at its own pace and you will get it; it is powerful. \n",
    "\n",
    "Our so-called objective reality can be shifted just by breathing deeper; I feel like we are eternal and that there are endless opportunities for this life to play out and it’s only my responsibility to choose the path I want to go. \n",
    "\n",
    "If you are reading this, you have no time and all the time in the world. You are loved, and your light is needed to brighten this world today.\n",
    "\n",
    "To anybody reading this, I wish that whatever is hurting you or whatever you are constantly stressing about, things will get better for you.\n",
    "May the dark thoughts, the overthinking, and the doubts exit your mind now; may clarity replace confusion, may peace and calmness fill your life; have no fears and take control of your life; there is \n",
    "abundance for everyone, and you deserve financial freedom and true love, and all the happiness and health.\n",
    "\n",
    "Whoever reads this, wherever you are in this world, I wish you many blessings of happiness, light, love and all of the miracles that you desire!\n",
    "\n",
    "If you are reading this, you are going to celebrate something special very soon. You will be full of joy and happiness and sharing your good news. It will almost seem out of this world; how suddenly it will all happened for you. Be ready, my friend, and expect it, it is happening!\n",
    "\n",
    "Whoever reads this, I hope your life is filled with joy and happiness.\n",
    "\n",
    "Helping people live their dreams; miracles happen.\n",
    "\n",
    "If you read this, I wish you great success, health, love and happiness.\n",
    "\n",
    "Greatness will come to you. Everything you’ve ever dreamed of is on its way. Be grateful for the things you have, and be grateful for what you want and you will receive.\n",
    "\n",
    "I see a lot of changes in my life; everything goes well; thanking the Universe.\n",
    "\n",
    "Sending love, peace, and protection to all of you, beautiful souls who are reading this. \n",
    "\n",
    "For those who have found my message: may you find peace within yourself; know that you are loved, \n",
    "you are favored, you are protected in every way; opportunities will flow towards you easily and endlessly, all of your needs are met, you wish nothing because you have everything. \n",
    "\n",
    "You have access to everything you want and need; your light matter, you are important and you are healed. \n",
    "\n",
    "You are not identified with your past or your mistakes or the trauma that you experienced, they pain that you suffered; you are made of light and love, you are creative being and you can give birth to new beginnings, ideas, etc. \n",
    "\n",
    "You are beautiful and you are accepted and loved.\n",
    "\n",
    "Have faith everyone; life will meet you whatever you are and will take you to where you want to be. If you are reading this, it's not too late to achieve your dreams!\n",
    "\n",
    "To anyone reading this, I send you positive energy; please try to stay on a high vibration.\n",
    "\n",
    "To everyone reading this, all negative cycles are ending. I forgive all those that ever brought me sadness or pain, and I forgive myself for all my mistakes and past self-induced hindrances.\n",
    "\n",
    "I welcome sincere love, joy, peace, good health and great wealth; I am ready and worthy of sincere love, joy, peace, good health and great wealth. \n",
    "\n",
    "May everyone have a blessed life and lot of successes.\n",
    "\n",
    "To anyone who may read this, you have everything you need to overcome your difficulties, and the Universe have you back.\n",
    "\n",
    "I wish everyone who read this to receive unexpected blessing, good health, abundance, love and peace.\n",
    "\n",
    "If you are reading this, you will achieve your dreams soon; have faith and be determined\n",
    "\n",
    "May all you who are struggling to achieve your goals, believe you are just one step closer, have faith; the Universe is own your side.\n",
    "\n",
    "If you are reading this, your dreams become a reality; your life is filled with peace and abundance, and you are loved.\n",
    "\n",
    "For everyone that is reading this, may the angels give you peace and fulfill you with love. \n",
    "\n",
    "Love is powerful and we must spread it to the world to protect us.\n",
    "\n",
    "Please accept this peace that I send you all, along with boundless love brightest light\n",
    "\n",
    "If you are reading this, do not give up. You are close to accomplish your goals; you will get the energy and motivation to get to the finish line. \n",
    "\n",
    "I choose to remain positive, and I receive all the abundance, love and peace; I am so grateful for everything.\n",
    "\n",
    "\n",
    "We all are an amazingly powerful healers; we have everything we need within ourselves to heal ourselves and others around us; raise your frequency, and start healing your life! \n",
    "\n",
    "May all your dreams come true.\n",
    "\n",
    "Best wishes to everyone who needs healing and miracles in their life.\n",
    "Stay positive -  love can change your entire life; I was having a rough time for the past 10 years and it is crazy how everything came to an end.\n",
    "\n",
    "You will achieve everything you have ever dreamt of! \n",
    "\n",
    "Tomorrow is going to be a good day; you are enough, you are worthy, you are loved.\n",
    "\n",
    "Wishing every soul: love, peace and healing.\n",
    "\n",
    "Stay blessed; always believe that miracles happen.\n",
    "\n",
    "Whoever is reading this, you will heal of all things that ail you, and absolved of all your worries.\n",
    "\n",
    "Thank you, the Universe. I am wishing everyone good health.\n",
    "\n",
    "Loving energy that you can share can make someone feel good; if you are reading this do not give up, whatever you are chasing will find it's way to you; claim it.\n",
    "\n",
    "You are loved, you are important, extraordinary, strong, no matter how big are the obstacle in your way, you shall persevere. \n",
    "\n",
    "It is all within our willpower as humans to keep going; it is our existence right. \n",
    "\n",
    "Do not ever doubt yourself.\n",
    "Sending positive vibrations, good fortune in wealth, health, and happiness. \n",
    "\n",
    "To anyone reading this, just remember my words: all your dreams will come true.\n",
    "\n",
    "I am so grateful to see the power of positive manifestation in my life, my mind, my body, my soul, my spirit is being cleansed and the universe is delivering my synchronicities multiple times a day. \n",
    "\n",
    "Believe and you can achieve, all my love to each and everyone one of you may you have an amazing life.\n",
    "\n",
    "Safety and blessings to everyone.\n",
    "\n",
    "Anyone reading this, I wish you abundance in your life.\n",
    "\n",
    "Wishing you all good health, wealth, prosperity, Love, peace and happiness; may all of your desires come full speed; don’t forget to be thankful for life- love is awesome.\n",
    "\n",
    "We are limitless, pure love and joy.\n",
    "\n",
    "Greatness will come to all of us.\n",
    "\n",
    "Everything you’ve ever dreamed of is on its way so be grateful for what you have and grateful for what you want to receive. \n",
    "\n",
    "\n",
    "To anyone reading this: yes, it’s coming; be patient - the universe has your back; don’t spend your life in worries.\n",
    "\"\"\""
   ]
  },
  {
   "cell_type": "code",
   "execution_count": 3,
   "id": "5ef4d1ad",
   "metadata": {},
   "outputs": [
    {
     "data": {
      "text/plain": [
       "[\"\\n    To all of you who need a miracle in their lives: don't stop believing \\nbecause miracles happen and fortune will smile upon you – be brave.\",\n",
       " 'May everyone who sees this message receives the miracles they have been wishing for!',\n",
       " 'Anyone reading this, may get whatever they want in life.',\n",
       " 'If you’re reading this, it’s coming, be patient - the universe has your back-don’t worry about it.',\n",
       " \"If you are reading this at night, you should get some sleep, and do not stress about anything – don’t worry about the world or what you are going through; don't dwell on things from the past and don't stress about the future; just live your life, because you have one, so do whatever makes you happy and do not what other people want from you.\",\n",
       " 'Surrender all the negativity and non-sense and you will see miracles happen in your life.',\n",
       " 'I got everything for my highest good!',\n",
       " 'You are loved!',\n",
       " 'Anyone reading this, may you achieve whatever you are longing for, because the Universe always delivers, it never fails; I am telling you my friends, because I have witnessed it myself so many times.',\n",
       " 'We don’t know each other, but I wish you all the best in life, and may all things work out in your favor.',\n",
       " 'Years of deep anger and sadness have finally reached my consciousness to letting them go.',\n",
       " 'I wish anyone and everyone health and safety because we are all one; peace, love and strength to all who read this and to all who need it.',\n",
       " 'Radiating with positive energy, let any negativity go away to allow abundance coming in my way.',\n",
       " 'To the person who is reading this, you are beautiful and loved, you are unique, you will receive your desires; trust the universe and tale care for yourself.',\n",
       " \"If you don't get your results immediately, let some time as things take time; the Universe works at its own pace and you will get it; it is powerful.\",\n",
       " 'Our so-called objective reality can be shifted just by breathing deeper; I feel like we are eternal and that there are endless opportunities for this life to play out and it’s only my responsibility to choose the path I want to go.',\n",
       " 'If you are reading this, you have no time and all the time in the world.',\n",
       " 'You are loved, and your light is needed to brighten this world today.',\n",
       " 'To anybody reading this, I wish that whatever is hurting you or whatever you are constantly stressing about, things will get better for you.',\n",
       " 'May the dark thoughts, the overthinking, and the doubts exit your mind now; may clarity replace confusion, may peace and calmness fill your life; have no fears and take control of your life; there is \\nabundance for everyone, and you deserve financial freedom and true love, and all the happiness and health.',\n",
       " 'Whoever reads this, wherever you are in this world, I wish you many blessings of happiness, light, love and all of the miracles that you desire!',\n",
       " 'If you are reading this, you are going to celebrate something special very soon.',\n",
       " 'You will be full of joy and happiness and sharing your good news.',\n",
       " 'It will almost seem out of this world; how suddenly it will all happened for you.',\n",
       " 'Be ready, my friend, and expect it, it is happening!',\n",
       " 'Whoever reads this, I hope your life is filled with joy and happiness.',\n",
       " 'Helping people live their dreams; miracles happen.',\n",
       " 'If you read this, I wish you great success, health, love and happiness.',\n",
       " 'Greatness will come to you.',\n",
       " 'Everything you’ve ever dreamed of is on its way.',\n",
       " 'Be grateful for the things you have, and be grateful for what you want and you will receive.',\n",
       " 'I see a lot of changes in my life; everything goes well; thanking the Universe.',\n",
       " 'Sending love, peace, and protection to all of you, beautiful souls who are reading this.',\n",
       " 'For those who have found my message: may you find peace within yourself; know that you are loved, \\nyou are favored, you are protected in every way; opportunities will flow towards you easily and endlessly, all of your needs are met, you wish nothing because you have everything.',\n",
       " 'You have access to everything you want and need; your light matter, you are important and you are healed.',\n",
       " 'You are not identified with your past or your mistakes or the trauma that you experienced, they pain that you suffered; you are made of light and love, you are creative being and you can give birth to new beginnings, ideas, etc.',\n",
       " 'You are beautiful and you are accepted and loved.',\n",
       " 'Have faith everyone; life will meet you whatever you are and will take you to where you want to be.',\n",
       " \"If you are reading this, it's not too late to achieve your dreams!\",\n",
       " 'To anyone reading this, I send you positive energy; please try to stay on a high vibration.',\n",
       " 'To everyone reading this, all negative cycles are ending.',\n",
       " 'I forgive all those that ever brought me sadness or pain, and I forgive myself for all my mistakes and past self-induced hindrances.',\n",
       " 'I welcome sincere love, joy, peace, good health and great wealth; I am ready and worthy of sincere love, joy, peace, good health and great wealth.',\n",
       " 'May everyone have a blessed life and lot of successes.',\n",
       " 'To anyone who may read this, you have everything you need to overcome your difficulties, and the Universe have you back.',\n",
       " 'I wish everyone who read this to receive unexpected blessing, good health, abundance, love and peace.',\n",
       " 'If you are reading this, you will achieve your dreams soon; have faith and be determined\\n\\nMay all you who are struggling to achieve your goals, believe you are just one step closer, have faith; the Universe is own your side.',\n",
       " 'If you are reading this, your dreams become a reality; your life is filled with peace and abundance, and you are loved.',\n",
       " 'For everyone that is reading this, may the angels give you peace and fulfill you with love.',\n",
       " 'Love is powerful and we must spread it to the world to protect us.',\n",
       " 'Please accept this peace that I send you all, along with boundless love brightest light\\n\\nIf you are reading this, do not give up.',\n",
       " 'You are close to accomplish your goals; you will get the energy and motivation to get to the finish line.',\n",
       " 'I choose to remain positive, and I receive all the abundance, love and peace; I am so grateful for everything.',\n",
       " 'We all are an amazingly powerful healers; we have everything we need within ourselves to heal ourselves and others around us; raise your frequency, and start healing your life!',\n",
       " 'May all your dreams come true.',\n",
       " 'Best wishes to everyone who needs healing and miracles in their life.',\n",
       " 'Stay positive -  love can change your entire life; I was having a rough time for the past 10 years and it is crazy how everything came to an end.',\n",
       " 'You will achieve everything you have ever dreamt of!',\n",
       " 'Tomorrow is going to be a good day; you are enough, you are worthy, you are loved.',\n",
       " 'Wishing every soul: love, peace and healing.',\n",
       " 'Stay blessed; always believe that miracles happen.',\n",
       " 'Whoever is reading this, you will heal of all things that ail you, and absolved of all your worries.',\n",
       " 'Thank you, the Universe.',\n",
       " 'I am wishing everyone good health.',\n",
       " \"Loving energy that you can share can make someone feel good; if you are reading this do not give up, whatever you are chasing will find it's way to you; claim it.\",\n",
       " 'You are loved, you are important, extraordinary, strong, no matter how big are the obstacle in your way, you shall persevere.',\n",
       " 'It is all within our willpower as humans to keep going; it is our existence right.',\n",
       " 'Do not ever doubt yourself.',\n",
       " 'Sending positive vibrations, good fortune in wealth, health, and happiness.',\n",
       " 'To anyone reading this, just remember my words: all your dreams will come true.',\n",
       " 'I am so grateful to see the power of positive manifestation in my life, my mind, my body, my soul, my spirit is being cleansed and the universe is delivering my synchronicities multiple times a day.',\n",
       " 'Believe and you can achieve, all my love to each and everyone one of you may you have an amazing life.',\n",
       " 'Safety and blessings to everyone.',\n",
       " 'Anyone reading this, I wish you abundance in your life.',\n",
       " 'Wishing you all good health, wealth, prosperity, Love, peace and happiness; may all of your desires come full speed; don’t forget to be thankful for life- love is awesome.',\n",
       " 'We are limitless, pure love and joy.',\n",
       " 'Greatness will come to all of us.',\n",
       " 'Everything you’ve ever dreamed of is on its way so be grateful for what you have and grateful for what you want to receive.',\n",
       " 'To anyone reading this: yes, it’s coming; be patient - the universe has your back; don’t spend your life in worries.']"
      ]
     },
     "execution_count": 3,
     "metadata": {},
     "output_type": "execute_result"
    }
   ],
   "source": [
    "# break the text into sentences on .\n",
    "sents = (sent_tokenize(text)) \n",
    "sents"
   ]
  },
  {
   "cell_type": "markdown",
   "id": "07607176",
   "metadata": {},
   "source": [
    "Unigrams:"
   ]
  },
  {
   "cell_type": "code",
   "execution_count": 4,
   "id": "a768efc2",
   "metadata": {},
   "outputs": [
    {
     "name": "stdout",
     "output_type": "stream",
     "text": [
      "['To', 'all', 'of', 'you', 'who', 'need', 'a', 'miracle', 'in', 'their', 'lives:', \"don't\", 'stop', 'believing', 'because', 'miracles', 'happen', 'and', 'fortune', 'will', 'smile', 'upon', 'you', '–', 'be', 'brave.', 'May', 'everyone', 'who', 'sees', 'this', 'message', 'receives', 'the', 'miracles', 'they', 'have', 'been', 'wishing', 'for!', 'Anyone', 'reading', 'this,', 'may', 'get', 'whatever', 'they', 'want', 'in', 'life.', 'If', 'you’re', 'reading', 'this,', 'it’s', 'coming,', 'be', 'patient', '-', 'the', 'universe', 'has', 'your', 'back-don’t', 'worry', 'about', 'it.', 'If', 'you', 'are', 'reading', 'this', 'at', 'night,', 'you', 'should', 'get', 'some', 'sleep,', 'and', 'do', 'not', 'stress', 'about', 'anything', '–', 'don’t', 'worry', 'about', 'the', 'world', 'or', 'what', 'you', 'are', 'going', 'through;', \"don't\", 'dwell', 'on', 'things', 'from', 'the', 'past', 'and', \"don't\", 'stress', 'about', 'the', 'future;', 'just', 'live', 'your', 'life,', 'because', 'you', 'have', 'one,', 'so', 'do', 'whatever', 'makes', 'you', 'happy', 'and', 'do', 'not', 'what', 'other', 'people', 'want', 'from', 'you.', 'Surrender', 'all', 'the', 'negativity', 'and', 'non-sense', 'and', 'you', 'will', 'see', 'miracles', 'happen', 'in', 'your', 'life.', 'I', 'got', 'everything', 'for', 'my', 'highest', 'good!', 'You', 'are', 'loved!', 'Anyone', 'reading', 'this,', 'may', 'you', 'achieve', 'whatever', 'you', 'are', 'longing', 'for,', 'because', 'the', 'Universe', 'always', 'delivers,', 'it', 'never', 'fails;', 'I', 'am', 'telling', 'you', 'my', 'friends,', 'because', 'I', 'have', 'witnessed', 'it', 'myself', 'so', 'many', 'times.', 'We', 'don’t', 'know', 'each', 'other,', 'but', 'I', 'wish', 'you', 'all', 'the', 'best', 'in', 'life,', 'and', 'may', 'all', 'things', 'work', 'out', 'in', 'your', 'favor.', 'Years', 'of', 'deep', 'anger', 'and', 'sadness', 'have', 'finally', 'reached', 'my', 'consciousness', 'to', 'letting', 'them', 'go.', 'I', 'wish', 'anyone', 'and', 'everyone', 'health', 'and', 'safety', 'because', 'we', 'are', 'all', 'one;', 'peace,', 'love', 'and', 'strength', 'to', 'all', 'who', 'read', 'this', 'and', 'to', 'all', 'who', 'need', 'it.', 'Radiating', 'with', 'positive', 'energy,', 'let', 'any', 'negativity', 'go', 'away', 'to', 'allow', 'abundance', 'coming', 'in', 'my', 'way.', 'To', 'the', 'person', 'who', 'is', 'reading', 'this,', 'you', 'are', 'beautiful', 'and', 'loved,', 'you', 'are', 'unique,', 'you', 'will', 'receive', 'your', 'desires;', 'trust', 'the', 'universe', 'and', 'tale', 'care', 'for', 'yourself.', 'If', 'you', \"don't\", 'get', 'your', 'results', 'immediately,', 'let', 'some', 'time', 'as', 'things', 'take', 'time;', 'the', 'Universe', 'works', 'at', 'its', 'own', 'pace', 'and', 'you', 'will', 'get', 'it;', 'it', 'is', 'powerful.', 'Our', 'so-called', 'objective', 'reality', 'can', 'be', 'shifted', 'just', 'by', 'breathing', 'deeper;', 'I', 'feel', 'like', 'we', 'are', 'eternal', 'and', 'that', 'there', 'are', 'endless', 'opportunities', 'for', 'this', 'life', 'to', 'play', 'out', 'and', 'it’s', 'only', 'my', 'responsibility', 'to', 'choose', 'the', 'path', 'I', 'want', 'to', 'go.', 'If', 'you', 'are', 'reading', 'this,', 'you', 'have', 'no', 'time', 'and', 'all', 'the', 'time', 'in', 'the', 'world.', 'You', 'are', 'loved,', 'and', 'your', 'light', 'is', 'needed', 'to', 'brighten', 'this', 'world', 'today.', 'To', 'anybody', 'reading', 'this,', 'I', 'wish', 'that', 'whatever', 'is', 'hurting', 'you', 'or', 'whatever', 'you', 'are', 'constantly', 'stressing', 'about,', 'things', 'will', 'get', 'better', 'for', 'you.', 'May', 'the', 'dark', 'thoughts,', 'the', 'overthinking,', 'and', 'the', 'doubts', 'exit', 'your', 'mind', 'now;', 'may', 'clarity', 'replace', 'confusion,', 'may', 'peace', 'and', 'calmness', 'fill', 'your', 'life;', 'have', 'no', 'fears', 'and', 'take', 'control', 'of', 'your', 'life;', 'there', 'is', 'abundance', 'for', 'everyone,', 'and', 'you', 'deserve', 'financial', 'freedom', 'and', 'true', 'love,', 'and', 'all', 'the', 'happiness', 'and', 'health.', 'Whoever', 'reads', 'this,', 'wherever', 'you', 'are', 'in', 'this', 'world,', 'I', 'wish', 'you', 'many', 'blessings', 'of', 'happiness,', 'light,', 'love', 'and', 'all', 'of', 'the', 'miracles', 'that', 'you', 'desire!', 'If', 'you', 'are', 'reading', 'this,', 'you', 'are', 'going', 'to', 'celebrate', 'something', 'special', 'very', 'soon.', 'You', 'will', 'be', 'full', 'of', 'joy', 'and', 'happiness', 'and', 'sharing', 'your', 'good', 'news.', 'It', 'will', 'almost', 'seem', 'out', 'of', 'this', 'world;', 'how', 'suddenly', 'it', 'will', 'all', 'happened', 'for', 'you.', 'Be', 'ready,', 'my', 'friend,', 'and', 'expect', 'it,', 'it', 'is', 'happening!', 'Whoever', 'reads', 'this,', 'I', 'hope', 'your', 'life', 'is', 'filled', 'with', 'joy', 'and', 'happiness.', 'Helping', 'people', 'live', 'their', 'dreams;', 'miracles', 'happen.', 'If', 'you', 'read', 'this,', 'I', 'wish', 'you', 'great', 'success,', 'health,', 'love', 'and', 'happiness.', 'Greatness', 'will', 'come', 'to', 'you.', 'Everything', 'you’ve', 'ever', 'dreamed', 'of', 'is', 'on', 'its', 'way.', 'Be', 'grateful', 'for', 'the', 'things', 'you', 'have,', 'and', 'be', 'grateful', 'for', 'what', 'you', 'want', 'and', 'you', 'will', 'receive.', 'I', 'see', 'a', 'lot', 'of', 'changes', 'in', 'my', 'life;', 'everything', 'goes', 'well;', 'thanking', 'the', 'Universe.', 'Sending', 'love,', 'peace,', 'and', 'protection', 'to', 'all', 'of', 'you,', 'beautiful', 'souls', 'who', 'are', 'reading', 'this.', 'For', 'those', 'who', 'have', 'found', 'my', 'message:', 'may', 'you', 'find', 'peace', 'within', 'yourself;', 'know', 'that', 'you', 'are', 'loved,', 'you', 'are', 'favored,', 'you', 'are', 'protected', 'in', 'every', 'way;', 'opportunities', 'will', 'flow', 'towards', 'you', 'easily', 'and', 'endlessly,', 'all', 'of', 'your', 'needs', 'are', 'met,', 'you', 'wish', 'nothing', 'because', 'you', 'have', 'everything.', 'You', 'have', 'access', 'to', 'everything', 'you', 'want', 'and', 'need;', 'your', 'light', 'matter,', 'you', 'are', 'important', 'and', 'you', 'are', 'healed.', 'You', 'are', 'not', 'identified', 'with', 'your', 'past', 'or', 'your', 'mistakes', 'or', 'the', 'trauma', 'that', 'you', 'experienced,', 'they', 'pain', 'that', 'you', 'suffered;', 'you', 'are', 'made', 'of', 'light', 'and', 'love,', 'you', 'are', 'creative', 'being', 'and', 'you', 'can', 'give', 'birth', 'to', 'new', 'beginnings,', 'ideas,', 'etc.', 'You', 'are', 'beautiful', 'and', 'you', 'are', 'accepted', 'and', 'loved.', 'Have', 'faith', 'everyone;', 'life', 'will', 'meet', 'you', 'whatever', 'you', 'are', 'and', 'will', 'take', 'you', 'to', 'where', 'you', 'want', 'to', 'be.', 'If', 'you', 'are', 'reading', 'this,', \"it's\", 'not', 'too', 'late', 'to', 'achieve', 'your', 'dreams!', 'To', 'anyone', 'reading', 'this,', 'I', 'send', 'you', 'positive', 'energy;', 'please', 'try', 'to', 'stay', 'on', 'a', 'high', 'vibration.', 'To', 'everyone', 'reading', 'this,', 'all', 'negative', 'cycles', 'are', 'ending.', 'I', 'forgive', 'all', 'those', 'that', 'ever', 'brought', 'me', 'sadness', 'or', 'pain,', 'and', 'I', 'forgive', 'myself', 'for', 'all', 'my', 'mistakes', 'and', 'past', 'self-induced', 'hindrances.', 'I', 'welcome', 'sincere', 'love,', 'joy,', 'peace,', 'good', 'health', 'and', 'great', 'wealth;', 'I', 'am', 'ready', 'and', 'worthy', 'of', 'sincere', 'love,', 'joy,', 'peace,', 'good', 'health', 'and', 'great', 'wealth.', 'May', 'everyone', 'have', 'a', 'blessed', 'life', 'and', 'lot', 'of', 'successes.', 'To', 'anyone', 'who', 'may', 'read', 'this,', 'you', 'have', 'everything', 'you', 'need', 'to', 'overcome', 'your', 'difficulties,', 'and', 'the', 'Universe', 'have', 'you', 'back.', 'I', 'wish', 'everyone', 'who', 'read', 'this', 'to', 'receive', 'unexpected', 'blessing,', 'good', 'health,', 'abundance,', 'love', 'and', 'peace.', 'If', 'you', 'are', 'reading', 'this,', 'you', 'will', 'achieve', 'your', 'dreams', 'soon;', 'have', 'faith', 'and', 'be', 'determined', 'May', 'all', 'you', 'who', 'are', 'struggling', 'to', 'achieve', 'your', 'goals,', 'believe', 'you', 'are', 'just', 'one', 'step', 'closer,', 'have', 'faith;', 'the', 'Universe', 'is', 'own', 'your', 'side.', 'If', 'you', 'are', 'reading', 'this,', 'your', 'dreams', 'become', 'a', 'reality;', 'your', 'life', 'is', 'filled', 'with', 'peace', 'and', 'abundance,', 'and', 'you', 'are', 'loved.', 'For', 'everyone', 'that', 'is', 'reading', 'this,', 'may', 'the', 'angels', 'give', 'you', 'peace', 'and', 'fulfill', 'you', 'with', 'love.', 'Love', 'is', 'powerful', 'and', 'we', 'must', 'spread', 'it', 'to', 'the', 'world', 'to', 'protect', 'us.', 'Please', 'accept', 'this', 'peace', 'that', 'I', 'send', 'you', 'all,', 'along', 'with', 'boundless', 'love', 'brightest', 'light', 'If', 'you', 'are', 'reading', 'this,', 'do', 'not', 'give', 'up.', 'You', 'are', 'close', 'to', 'accomplish', 'your', 'goals;', 'you', 'will', 'get', 'the', 'energy', 'and', 'motivation', 'to', 'get', 'to', 'the', 'finish', 'line.', 'I', 'choose', 'to', 'remain', 'positive,', 'and', 'I', 'receive', 'all', 'the', 'abundance,', 'love', 'and', 'peace;', 'I', 'am', 'so', 'grateful', 'for', 'everything.', 'We', 'all', 'are', 'an', 'amazingly', 'powerful', 'healers;', 'we', 'have', 'everything', 'we', 'need', 'within', 'ourselves', 'to', 'heal', 'ourselves', 'and', 'others', 'around', 'us;', 'raise', 'your', 'frequency,', 'and', 'start', 'healing', 'your', 'life!', 'May', 'all', 'your', 'dreams', 'come', 'true.', 'Best', 'wishes', 'to', 'everyone', 'who', 'needs', 'healing', 'and', 'miracles', 'in', 'their', 'life.', 'Stay', 'positive', '-', 'love', 'can', 'change', 'your', 'entire', 'life;', 'I', 'was', 'having', 'a', 'rough', 'time', 'for', 'the', 'past', '10', 'years', 'and', 'it', 'is', 'crazy', 'how', 'everything', 'came', 'to', 'an', 'end.', 'You', 'will', 'achieve', 'everything', 'you', 'have', 'ever', 'dreamt', 'of!', 'Tomorrow', 'is', 'going', 'to', 'be', 'a', 'good', 'day;', 'you', 'are', 'enough,', 'you', 'are', 'worthy,', 'you', 'are', 'loved.', 'Wishing', 'every', 'soul:', 'love,', 'peace', 'and', 'healing.', 'Stay', 'blessed;', 'always', 'believe', 'that', 'miracles', 'happen.', 'Whoever', 'is', 'reading', 'this,', 'you', 'will', 'heal', 'of', 'all', 'things', 'that', 'ail', 'you,', 'and', 'absolved', 'of', 'all', 'your', 'worries.', 'Thank', 'you,', 'the', 'Universe.', 'I', 'am', 'wishing', 'everyone', 'good', 'health.', 'Loving', 'energy', 'that', 'you', 'can', 'share', 'can', 'make', 'someone', 'feel', 'good;', 'if', 'you', 'are', 'reading', 'this', 'do', 'not', 'give', 'up,', 'whatever', 'you', 'are', 'chasing', 'will', 'find', \"it's\", 'way', 'to', 'you;', 'claim', 'it.', 'You', 'are', 'loved,', 'you', 'are', 'important,', 'extraordinary,', 'strong,', 'no', 'matter', 'how', 'big', 'are', 'the', 'obstacle', 'in', 'your', 'way,', 'you', 'shall', 'persevere.', 'It', 'is', 'all', 'within', 'our', 'willpower', 'as', 'humans', 'to', 'keep', 'going;', 'it', 'is', 'our', 'existence', 'right.', 'Do', 'not', 'ever', 'doubt', 'yourself.', 'Sending', 'positive', 'vibrations,', 'good', 'fortune', 'in', 'wealth,', 'health,', 'and', 'happiness.', 'To', 'anyone', 'reading', 'this,', 'just', 'remember', 'my', 'words:', 'all', 'your', 'dreams', 'will', 'come', 'true.', 'I', 'am', 'so', 'grateful', 'to', 'see', 'the', 'power', 'of', 'positive', 'manifestation', 'in', 'my', 'life,', 'my', 'mind,', 'my', 'body,', 'my', 'soul,', 'my', 'spirit', 'is', 'being', 'cleansed', 'and', 'the', 'universe', 'is', 'delivering', 'my', 'synchronicities', 'multiple', 'times', 'a', 'day.', 'Believe', 'and', 'you', 'can', 'achieve,', 'all', 'my', 'love', 'to', 'each', 'and', 'everyone', 'one', 'of', 'you', 'may', 'you', 'have', 'an', 'amazing', 'life.', 'Safety', 'and', 'blessings', 'to', 'everyone.', 'Anyone', 'reading', 'this,', 'I', 'wish', 'you', 'abundance', 'in', 'your', 'life.', 'Wishing', 'you', 'all', 'good', 'health,', 'wealth,', 'prosperity,', 'Love,', 'peace', 'and', 'happiness;', 'may', 'all', 'of', 'your', 'desires', 'come', 'full', 'speed;', 'don’t', 'forget', 'to', 'be', 'thankful', 'for', 'life-', 'love', 'is', 'awesome.', 'We', 'are', 'limitless,', 'pure', 'love', 'and', 'joy.', 'Greatness', 'will', 'come', 'to', 'all', 'of', 'us.', 'Everything', 'you’ve', 'ever', 'dreamed', 'of', 'is', 'on', 'its', 'way', 'so', 'be', 'grateful', 'for', 'what', 'you', 'have', 'and', 'grateful', 'for', 'what', 'you', 'want', 'to', 'receive.', 'To', 'anyone', 'reading', 'this:', 'yes,', 'it’s', 'coming;', 'be', 'patient', '-', 'the', 'universe', 'has', 'your', 'back;', 'don’t', 'spend', 'your', 'life', 'in', 'worries.']\n"
     ]
    }
   ],
   "source": [
    "#using split() because it doesn’t consider punctuation symbols as a separate token\n",
    "\n",
    "tokens=[]\n",
    "for i in range(len(sents)):\n",
    "    for w in sents[i].split():\n",
    "        tokens.append(w)   \n",
    "print(tokens)"
   ]
  },
  {
   "cell_type": "code",
   "execution_count": 53,
   "id": "46dc6d33",
   "metadata": {},
   "outputs": [
    {
     "name": "stdout",
     "output_type": "stream",
     "text": [
      "['to', 'all', 'of', 'you', 'who', 'need', 'a', 'miracle', 'in', 'their', 'stop', 'believing', 'because', 'miracles', 'happen', 'and', 'fortune', 'will', 'smile', 'upon', 'you', 'be', 'may', 'everyone', 'who', 'sees', 'this', 'message', 'receives', 'the', 'miracles', 'they', 'have', 'been', 'wishing', 'miracles', 'i', 'was', 'not', 'confident', 'in', 'myself', 'at', 'it', 'i', 'won', 'it', 'i', 'was', 'worrying', 'about', 'one', 'then', 'a', 'miracle', 'something', 'that', 'was', 'not', 'planned', 'nor', 'even', 'thought', 'of', 'really', 'anyone', 'reading', 'may', 'get', 'whatever', 'they', 'want', 'in', 'if', 'reading', 'be', 'patient', 'the', 'universe', 'has', 'your', 'worry', 'about', 'if', 'you', 'are', 'reading', 'this', 'at', 'you', 'should', 'get', 'some', 'and', 'do', 'not', 'stress', 'about', 'anything', 'worry', 'about', 'the', 'world', 'or', 'what', 'you', 'are', 'going', 'dwell', 'on', 'things', 'from', 'the', 'past', 'and', 'stress', 'about', 'the', 'just', 'live', 'your', 'because', 'you', 'have', 'so', 'do', 'whatever', 'makes', 'you', 'happy', 'and', 'do', 'not', 'what', 'other', 'people', 'want', 'from', 'surrender', 'all', 'the', 'negativity', 'and', 'and', 'you', 'will', 'see', 'miracles', 'happen', 'in', 'your', 'i', 'got', 'everything', 'for', 'my', 'highest', 'you', 'are', 'anyone', 'reading', 'may', 'you', 'achieve', 'whatever', 'you', 'are', 'longing', 'because', 'the', 'universe', 'always', 'it', 'never', 'i', 'am', 'telling', 'you', 'my', 'because', 'i', 'have', 'witnessed', 'it', 'myself', 'so', 'many', 'we', 'know', 'each', 'but', 'i', 'wish', 'you', 'all', 'the', 'best', 'in', 'and', 'may', 'all', 'things', 'work', 'out', 'in', 'your', 'years', 'of', 'deep', 'anger', 'and', 'sadness', 'have', 'finally', 'reached', 'my', 'consciousness', 'to', 'letting', 'them', 'i', 'wish', 'anyone', 'and', 'everyone', 'health', 'and', 'safety', 'because', 'we', 'are', 'all', 'love', 'and', 'strength', 'to', 'all', 'who', 'read', 'this', 'and', 'to', 'all', 'who', 'need', 'radiating', 'with', 'positive', 'let', 'any', 'negativity', 'go', 'away', 'to', 'allow', 'abundance', 'coming', 'in', 'my', 'to', 'the', 'person', 'who', 'is', 'reading', 'you', 'are', 'beautiful', 'and', 'you', 'are', 'you', 'will', 'receive', 'your', 'trust', 'the', 'universe', 'and', 'tale', 'care', 'for', 'if', 'you', 'get', 'your', 'results', 'let', 'some', 'time', 'as', 'things', 'take', 'the', 'universe', 'works', 'at', 'its', 'own', 'pace', 'and', 'you', 'will', 'get', 'it', 'is', 'our', 'objective', 'reality', 'can', 'be', 'shifted', 'just', 'by', 'breathing', 'i', 'feel', 'like', 'we', 'are', 'eternal', 'and', 'that', 'there', 'are', 'endless', 'opportunities', 'for', 'this', 'life', 'to', 'play', 'out', 'and', 'only', 'my', 'responsibility', 'to', 'choose', 'the', 'path', 'i', 'want', 'to', 'if', 'you', 'are', 'reading', 'you', 'have', 'no', 'time', 'and', 'all', 'the', 'time', 'in', 'the', 'you', 'are', 'and', 'your', 'light', 'is', 'needed', 'to', 'brighten', 'this', 'world', 'to', 'anybody', 'reading', 'i', 'wish', 'that', 'whatever', 'is', 'hurting', 'you', 'or', 'whatever', 'you', 'are', 'constantly', 'stressing', 'things', 'will', 'get', 'better', 'for', 'may', 'the', 'dark', 'the', 'and', 'the', 'doubts', 'exit', 'your', 'mind', 'may', 'clarity', 'replace', 'may', 'peace', 'and', 'calmness', 'fill', 'your', 'have', 'no', 'fears', 'and', 'take', 'control', 'of', 'your', 'there', 'is', 'abundance', 'for', 'and', 'you', 'deserve', 'financial', 'freedom', 'and', 'true', 'and', 'all', 'the', 'happiness', 'and', 'whoever', 'reads', 'wherever', 'you', 'are', 'in', 'this', 'i', 'wish', 'you', 'many', 'blessings', 'of', 'love', 'and', 'all', 'of', 'the', 'miracles', 'that', 'you', 'if', 'you', 'are', 'reading', 'you', 'are', 'going', 'to', 'celebrate', 'something', 'special', 'very', 'you', 'will', 'be', 'full', 'of', 'joy', 'and', 'happiness', 'and', 'sharing', 'your', 'good', 'it', 'will', 'almost', 'seem', 'out', 'of', 'this', 'how', 'suddenly', 'it', 'will', 'all', 'happened', 'for', 'be', 'my', 'and', 'expect', 'it', 'is', 'whoever', 'reads', 'i', 'hope', 'your', 'life', 'is', 'filled', 'with', 'joy', 'and', 'helping', 'people', 'live', 'their', 'miracles', 'if', 'you', 'read', 'i', 'wish', 'you', 'great', 'love', 'and', 'greatness', 'will', 'come', 'to', 'everything', 'ever', 'dreamed', 'of', 'is', 'on', 'its', 'be', 'grateful', 'for', 'the', 'things', 'you', 'and', 'be', 'grateful', 'for', 'what', 'you', 'want', 'and', 'you', 'will', 'i', 'see', 'a', 'lot', 'of', 'changes', 'in', 'my', 'everything', 'goes', 'thanking', 'the', 'sending', 'and', 'protection', 'to', 'all', 'of', 'beautiful', 'souls', 'who', 'are', 'reading', 'for', 'those', 'who', 'have', 'found', 'my', 'may', 'you', 'find', 'peace', 'within', 'know', 'that', 'you', 'are', 'you', 'are', 'you', 'are', 'protected', 'in', 'every', 'opportunities', 'will', 'flow', 'towards', 'you', 'easily', 'and', 'all', 'of', 'your', 'needs', 'are', 'you', 'wish', 'nothing', 'because', 'you', 'have', 'you', 'have', 'access', 'to', 'everything', 'you', 'want', 'and', 'your', 'light', 'you', 'are', 'important', 'and', 'you', 'are', 'you', 'are', 'not', 'identified', 'with', 'your', 'past', 'or', 'your', 'mistakes', 'or', 'the', 'trauma', 'that', 'you', 'they', 'pain', 'that', 'you', 'you', 'are', 'made', 'of', 'light', 'and', 'you', 'are', 'creative', 'being', 'and', 'you', 'can', 'give', 'birth', 'to', 'new', 'you', 'are', 'beautiful', 'and', 'you', 'are', 'accepted', 'and', 'have', 'faith', 'life', 'will', 'meet', 'you', 'whatever', 'you', 'are', 'and', 'will', 'take', 'you', 'to', 'where', 'you', 'want', 'to', 'if', 'you', 'are', 'reading', 'not', 'too', 'late', 'to', 'achieve', 'your', 'to', 'anyone', 'reading', 'i', 'send', 'you', 'positive', 'please', 'try', 'to', 'stay', 'on', 'a', 'high', 'to', 'everyone', 'reading', 'all', 'negative', 'cycles', 'are', 'i', 'forgive', 'all', 'those', 'that', 'ever', 'brought', 'me', 'sadness', 'or', 'and', 'i', 'forgive', 'myself', 'for', 'all', 'my', 'mistakes', 'and', 'past', 'i', 'welcome', 'sincere', 'good', 'health', 'and', 'great', 'i', 'am', 'ready', 'and', 'worthy', 'of', 'sincere', 'good', 'health', 'and', 'great', 'may', 'everyone', 'have', 'a', 'blessed', 'life', 'and', 'lot', 'of', 'to', 'anyone', 'who', 'may', 'read', 'you', 'have', 'everything', 'you', 'need', 'to', 'overcome', 'your', 'and', 'the', 'universe', 'have', 'you', 'i', 'wish', 'everyone', 'who', 'read', 'this', 'to', 'receive', 'unexpected', 'good', 'love', 'and', 'if', 'you', 'are', 'reading', 'you', 'will', 'achieve', 'your', 'dreams', 'have', 'faith', 'and', 'be', 'determined', 'may', 'all', 'you', 'who', 'are', 'struggling', 'to', 'achieve', 'your', 'believe', 'you', 'are', 'just', 'one', 'step', 'have', 'the', 'universe', 'is', 'own', 'your', 'if', 'you', 'are', 'reading', 'your', 'dreams', 'become', 'a', 'your', 'life', 'is', 'filled', 'with', 'peace', 'and', 'and', 'you', 'are', 'for', 'everyone', 'that', 'is', 'reading', 'may', 'the', 'angels', 'give', 'you', 'peace', 'and', 'fulfill', 'you', 'with', 'love', 'is', 'powerful', 'and', 'we', 'must', 'spread', 'it', 'to', 'the', 'world', 'to', 'protect', 'please', 'accept', 'this', 'peace', 'that', 'i', 'send', 'you', 'along', 'with', 'boundless', 'love', 'brightest', 'light', 'if', 'you', 'are', 'reading', 'do', 'not', 'give', 'you', 'are', 'close', 'to', 'accomplish', 'your', 'you', 'will', 'get', 'the', 'energy', 'and', 'motivation', 'to', 'get', 'to', 'the', 'finish', 'i', 'choose', 'to', 'remain', 'and', 'i', 'receive', 'all', 'the', 'love', 'and', 'i', 'am', 'so', 'grateful', 'for', 'we', 'all', 'are', 'an', 'amazingly', 'powerful', 'we', 'have', 'everything', 'we', 'need', 'within', 'ourselves', 'to', 'heal', 'ourselves', 'and', 'others', 'around', 'raise', 'your', 'and', 'start', 'healing', 'your', 'may', 'all', 'your', 'dreams', 'come', 'best', 'wishes', 'to', 'everyone', 'who', 'needs', 'healing', 'and', 'miracles', 'in', 'their', 'stay', 'positive', 'love', 'can', 'change', 'your', 'entire', 'i', 'was', 'having', 'a', 'rough', 'time', 'for', 'the', 'past', 'years', 'and', 'it', 'is', 'crazy', 'how', 'everything', 'came', 'to', 'an', 'you', 'will', 'achieve', 'everything', 'you', 'have', 'ever', 'dreamt', 'tomorrow', 'is', 'going', 'to', 'be', 'a', 'good', 'you', 'are', 'you', 'are', 'you', 'are', 'wishing', 'every', 'peace', 'and', 'stay', 'always', 'believe', 'that', 'miracles', 'whoever', 'is', 'reading', 'you', 'will', 'heal', 'of', 'all', 'things', 'that', 'ail', 'and', 'absolved', 'of', 'all', 'your', 'thank', 'the', 'i', 'am', 'wishing', 'everyone', 'good', 'loving', 'energy', 'that', 'you', 'can', 'share', 'can', 'make', 'someone', 'feel', 'if', 'you', 'are', 'reading', 'this', 'do', 'not', 'give', 'whatever', 'you', 'are', 'chasing', 'will', 'find', 'way', 'to', 'claim', 'you', 'are', 'you', 'are', 'no', 'matter', 'how', 'big', 'are', 'the', 'obstacle', 'in', 'your', 'you', 'shall', 'it', 'is', 'all', 'within', 'our', 'willpower', 'as', 'humans', 'to', 'keep', 'it', 'is', 'our', 'existence', 'do', 'not', 'ever', 'doubt', 'sending', 'positive', 'good', 'fortune', 'in', 'and', 'to', 'anyone', 'reading', 'just', 'remember', 'my', 'all', 'your', 'dreams', 'will', 'come', 'i', 'am', 'so', 'grateful', 'to', 'see', 'the', 'power', 'of', 'positive', 'manifestation', 'in', 'my', 'my', 'my', 'my', 'my', 'spirit', 'is', 'being', 'cleansed', 'and', 'the', 'universe', 'is', 'delivering', 'my', 'synchronicities', 'multiple', 'times', 'a', 'believe', 'and', 'you', 'can', 'all', 'my', 'love', 'to', 'each', 'and', 'everyone', 'one', 'of', 'you', 'may', 'you', 'have', 'an', 'amazing', 'safety', 'and', 'blessings', 'to', 'anyone', 'reading', 'i', 'wish', 'you', 'abundance', 'in', 'your', 'wishing', 'you', 'all', 'good', 'peace', 'and', 'may', 'all', 'of', 'your', 'desires', 'come', 'full', 'forget', 'to', 'be', 'thankful', 'for', 'love', 'is', 'we', 'are', 'pure', 'love', 'and', 'greatness', 'will', 'come', 'to', 'all', 'of', 'everything', 'ever', 'dreamed', 'of', 'is', 'on', 'its', 'way', 'so', 'be', 'grateful', 'for', 'what', 'you', 'have', 'and', 'grateful', 'for', 'what', 'you', 'want', 'to', 'to', 'anyone', 'reading', 'be', 'patient', 'the', 'universe', 'has', 'your', 'spend', 'your', 'life', 'in']\n"
     ]
    }
   ],
   "source": [
    "tokens=[w.lower() for w in tokens if w.isalpha()]\n",
    "print(tokens)"
   ]
  },
  {
   "cell_type": "markdown",
   "id": "30825e91",
   "metadata": {},
   "source": [
    "If you want you can easily remove the stop words:"
   ]
  },
  {
   "cell_type": "markdown",
   "id": "9b7dd792",
   "metadata": {},
   "source": [
    "#stop_words = set(stopwords.words('english'))\n",
    "#tokens = [w for w in tokens if not w.lower() in stop_words]"
   ]
  },
  {
   "cell_type": "code",
   "execution_count": 5,
   "id": "5de5f1f0",
   "metadata": {},
   "outputs": [
    {
     "name": "stdout",
     "output_type": "stream",
     "text": [
      "{'To': 8, 'all': 28, 'of': 21, 'you': 85, 'who': 11, 'need': 4, 'a': 8, 'miracle': 1, 'in': 16, 'their': 3, 'lives:': 1, \"don't\": 4, 'stop': 1, 'believing': 1, 'because': 6, 'miracles': 7, 'happen': 2, 'and': 73, 'fortune': 2, 'will': 20, 'smile': 1, 'upon': 1, '–': 2, 'be': 10, 'brave.': 1, 'May': 5, 'everyone': 9, 'sees': 1, 'this': 10, 'message': 1, 'receives': 1, 'the': 35, 'they': 3, 'have': 18, 'been': 1, 'wishing': 2, 'for!': 1, 'Anyone': 3, 'reading': 21, 'this,': 21, 'may': 10, 'get': 7, 'whatever': 7, 'want': 7, 'life.': 5, 'If': 10, 'you’re': 1, 'it’s': 3, 'coming,': 1, 'patient': 2, '-': 3, 'universe': 4, 'has': 2, 'your': 35, 'back-don’t': 1, 'worry': 2, 'about': 4, 'it.': 3, 'are': 47, 'at': 2, 'night,': 1, 'should': 1, 'some': 2, 'sleep,': 1, 'do': 5, 'not': 7, 'stress': 2, 'anything': 1, 'don’t': 4, 'world': 3, 'or': 5, 'what': 5, 'going': 3, 'through;': 1, 'dwell': 1, 'on': 4, 'things': 6, 'from': 2, 'past': 4, 'future;': 1, 'just': 4, 'live': 2, 'life,': 3, 'one,': 1, 'so': 5, 'makes': 1, 'happy': 1, 'other': 1, 'people': 2, 'you.': 4, 'Surrender': 1, 'negativity': 2, 'non-sense': 1, 'see': 3, 'I': 26, 'got': 1, 'everything': 7, 'for': 14, 'my': 17, 'highest': 1, 'good!': 1, 'You': 9, 'loved!': 1, 'achieve': 5, 'longing': 1, 'for,': 1, 'Universe': 4, 'always': 2, 'delivers,': 1, 'it': 8, 'never': 1, 'fails;': 1, 'am': 5, 'telling': 1, 'friends,': 1, 'witnessed': 1, 'myself': 2, 'many': 2, 'times.': 1, 'We': 3, 'know': 2, 'each': 2, 'other,': 1, 'but': 1, 'wish': 8, 'best': 1, 'work': 1, 'out': 3, 'favor.': 1, 'Years': 1, 'deep': 1, 'anger': 1, 'sadness': 2, 'finally': 1, 'reached': 1, 'consciousness': 1, 'to': 38, 'letting': 1, 'them': 1, 'go.': 2, 'anyone': 5, 'health': 3, 'safety': 1, 'we': 5, 'one;': 1, 'peace,': 4, 'love': 10, 'strength': 1, 'read': 4, 'Radiating': 1, 'with': 6, 'positive': 5, 'energy,': 1, 'let': 2, 'any': 1, 'go': 1, 'away': 1, 'allow': 1, 'abundance': 3, 'coming': 1, 'way.': 2, 'person': 1, 'is': 21, 'beautiful': 3, 'loved,': 4, 'unique,': 1, 'receive': 3, 'desires;': 1, 'trust': 1, 'tale': 1, 'care': 1, 'yourself.': 2, 'results': 1, 'immediately,': 1, 'time': 4, 'as': 2, 'take': 3, 'time;': 1, 'works': 1, 'its': 3, 'own': 2, 'pace': 1, 'it;': 1, 'powerful.': 1, 'Our': 1, 'so-called': 1, 'objective': 1, 'reality': 1, 'can': 6, 'shifted': 1, 'by': 1, 'breathing': 1, 'deeper;': 1, 'feel': 2, 'like': 1, 'eternal': 1, 'that': 12, 'there': 2, 'endless': 1, 'opportunities': 2, 'life': 6, 'play': 1, 'only': 1, 'responsibility': 1, 'choose': 2, 'path': 1, 'no': 3, 'world.': 1, 'light': 4, 'needed': 1, 'brighten': 1, 'today.': 1, 'anybody': 1, 'hurting': 1, 'constantly': 1, 'stressing': 1, 'about,': 1, 'better': 1, 'dark': 1, 'thoughts,': 1, 'overthinking,': 1, 'doubts': 1, 'exit': 1, 'mind': 1, 'now;': 1, 'clarity': 1, 'replace': 1, 'confusion,': 1, 'peace': 7, 'calmness': 1, 'fill': 1, 'life;': 4, 'fears': 1, 'control': 1, 'everyone,': 1, 'deserve': 1, 'financial': 1, 'freedom': 1, 'true': 1, 'love,': 6, 'happiness': 2, 'health.': 2, 'Whoever': 3, 'reads': 2, 'wherever': 1, 'world,': 1, 'blessings': 2, 'happiness,': 1, 'light,': 1, 'desire!': 1, 'celebrate': 1, 'something': 1, 'special': 1, 'very': 1, 'soon.': 1, 'full': 2, 'joy': 2, 'sharing': 1, 'good': 8, 'news.': 1, 'It': 2, 'almost': 1, 'seem': 1, 'world;': 1, 'how': 3, 'suddenly': 1, 'happened': 1, 'Be': 2, 'ready,': 1, 'friend,': 1, 'expect': 1, 'it,': 1, 'happening!': 1, 'hope': 1, 'filled': 2, 'happiness.': 3, 'Helping': 1, 'dreams;': 1, 'happen.': 2, 'great': 3, 'success,': 1, 'health,': 4, 'Greatness': 2, 'come': 5, 'Everything': 2, 'you’ve': 2, 'ever': 5, 'dreamed': 2, 'grateful': 6, 'have,': 1, 'receive.': 2, 'lot': 2, 'changes': 1, 'goes': 1, 'well;': 1, 'thanking': 1, 'Universe.': 2, 'Sending': 2, 'protection': 1, 'you,': 3, 'souls': 1, 'this.': 1, 'For': 2, 'those': 2, 'found': 1, 'message:': 1, 'find': 2, 'within': 3, 'yourself;': 1, 'favored,': 1, 'protected': 1, 'every': 2, 'way;': 1, 'flow': 1, 'towards': 1, 'easily': 1, 'endlessly,': 1, 'needs': 2, 'met,': 1, 'nothing': 1, 'everything.': 2, 'access': 1, 'need;': 1, 'matter,': 1, 'important': 1, 'healed.': 1, 'identified': 1, 'mistakes': 2, 'trauma': 1, 'experienced,': 1, 'pain': 1, 'suffered;': 1, 'made': 1, 'creative': 1, 'being': 2, 'give': 4, 'birth': 1, 'new': 1, 'beginnings,': 1, 'ideas,': 1, 'etc.': 1, 'accepted': 1, 'loved.': 3, 'Have': 1, 'faith': 2, 'everyone;': 1, 'meet': 1, 'where': 1, 'be.': 1, \"it's\": 2, 'too': 1, 'late': 1, 'dreams!': 1, 'send': 2, 'energy;': 1, 'please': 1, 'try': 1, 'stay': 1, 'high': 1, 'vibration.': 1, 'negative': 1, 'cycles': 1, 'ending.': 1, 'forgive': 2, 'brought': 1, 'me': 1, 'pain,': 1, 'self-induced': 1, 'hindrances.': 1, 'welcome': 1, 'sincere': 2, 'joy,': 2, 'wealth;': 1, 'ready': 1, 'worthy': 1, 'wealth.': 1, 'blessed': 1, 'successes.': 1, 'overcome': 1, 'difficulties,': 1, 'back.': 1, 'unexpected': 1, 'blessing,': 1, 'abundance,': 3, 'peace.': 1, 'dreams': 4, 'soon;': 1, 'determined': 1, 'struggling': 1, 'goals,': 1, 'believe': 2, 'one': 2, 'step': 1, 'closer,': 1, 'faith;': 1, 'side.': 1, 'become': 1, 'reality;': 1, 'angels': 1, 'fulfill': 1, 'love.': 1, 'Love': 1, 'powerful': 2, 'must': 1, 'spread': 1, 'protect': 1, 'us.': 2, 'Please': 1, 'accept': 1, 'all,': 1, 'along': 1, 'boundless': 1, 'brightest': 1, 'up.': 1, 'close': 1, 'accomplish': 1, 'goals;': 1, 'energy': 2, 'motivation': 1, 'finish': 1, 'line.': 1, 'remain': 1, 'positive,': 1, 'peace;': 1, 'an': 3, 'amazingly': 1, 'healers;': 1, 'ourselves': 2, 'heal': 2, 'others': 1, 'around': 1, 'us;': 1, 'raise': 1, 'frequency,': 1, 'start': 1, 'healing': 2, 'life!': 1, 'true.': 2, 'Best': 1, 'wishes': 1, 'Stay': 2, 'change': 1, 'entire': 1, 'was': 1, 'having': 1, 'rough': 1, '10': 1, 'years': 1, 'crazy': 1, 'came': 1, 'end.': 1, 'dreamt': 1, 'of!': 1, 'Tomorrow': 1, 'day;': 1, 'enough,': 1, 'worthy,': 1, 'Wishing': 2, 'soul:': 1, 'healing.': 1, 'blessed;': 1, 'ail': 1, 'absolved': 1, 'worries.': 1, 'Thank': 1, 'Loving': 1, 'share': 1, 'make': 1, 'someone': 1, 'good;': 1, 'if': 1, 'up,': 1, 'chasing': 1, 'way': 2, 'you;': 1, 'claim': 1, 'important,': 1, 'extraordinary,': 1, 'strong,': 1, 'matter': 1, 'big': 1, 'obstacle': 1, 'way,': 1, 'shall': 1, 'persevere.': 1, 'our': 2, 'willpower': 1, 'humans': 1, 'keep': 1, 'going;': 1, 'existence': 1, 'right.': 1, 'Do': 1, 'doubt': 1, 'vibrations,': 1, 'wealth,': 2, 'remember': 1, 'words:': 1, 'power': 1, 'manifestation': 1, 'mind,': 1, 'body,': 1, 'soul,': 1, 'spirit': 1, 'cleansed': 1, 'delivering': 1, 'synchronicities': 1, 'multiple': 1, 'times': 1, 'day.': 1, 'Believe': 1, 'achieve,': 1, 'amazing': 1, 'Safety': 1, 'everyone.': 1, 'prosperity,': 1, 'Love,': 1, 'happiness;': 1, 'desires': 1, 'speed;': 1, 'forget': 1, 'thankful': 1, 'life-': 1, 'awesome.': 1, 'limitless,': 1, 'pure': 1, 'joy.': 1, 'this:': 1, 'yes,': 1, 'coming;': 1, 'back;': 1, 'spend': 1}\n"
     ]
    }
   ],
   "source": [
    "# create a dict with frequency count of each word\n",
    "\n",
    "uCount = {} \n",
    "for i in range(len(tokens)-1):\n",
    "        if tokens[i] in uCount:\n",
    "            uCount[tokens[i]] += 1\n",
    "        else:\n",
    "            uCount[tokens[i]] = 1\n",
    "print(uCount)"
   ]
  },
  {
   "cell_type": "code",
   "execution_count": 6,
   "id": "b7a4e821",
   "metadata": {},
   "outputs": [
    {
     "data": {
      "text/plain": [
       "7"
      ]
     },
     "execution_count": 6,
     "metadata": {},
     "output_type": "execute_result"
    }
   ],
   "source": [
    "uCount.get('miracles')"
   ]
  },
  {
   "cell_type": "markdown",
   "id": "c7e1d2b0",
   "metadata": {},
   "source": [
    "Bigrams:"
   ]
  },
  {
   "cell_type": "code",
   "execution_count": 7,
   "id": "e10c4e80",
   "metadata": {},
   "outputs": [
    {
     "name": "stdout",
     "output_type": "stream",
     "text": [
      "[('\\n', ''), ('', ''), ('', ''), ('', 'To'), ('To', 'all'), ('all', 'of'), ('of', 'you'), ('you', 'who'), ('who', 'need'), ('need', 'a'), ('a', 'miracle'), ('miracle', 'in'), ('in', 'their'), ('their', 'lives:'), ('lives:', \"don't\"), (\"don't\", 'stop'), ('stop', 'believing'), ('believing', '\\nbecause'), ('\\nbecause', 'miracles'), ('miracles', 'happen'), ('happen', 'and'), ('and', 'fortune'), ('fortune', 'will'), ('will', 'smile'), ('smile', 'upon'), ('upon', 'you'), ('you', '–'), ('–', 'be'), ('be', 'brave.'), ('May', 'everyone'), ('everyone', 'who'), ('who', 'sees'), ('sees', 'this'), ('this', 'message'), ('message', 'receives'), ('receives', 'the'), ('the', 'miracles'), ('miracles', 'they'), ('they', 'have'), ('have', 'been'), ('been', 'wishing'), ('wishing', 'for!'), ('Anyone', 'reading'), ('reading', 'this,'), ('this,', 'may'), ('may', 'get'), ('get', 'whatever'), ('whatever', 'they'), ('they', 'want'), ('want', 'in'), ('in', 'life.'), ('If', 'you’re'), ('you’re', 'reading'), ('reading', 'this,'), ('this,', 'it’s'), ('it’s', 'coming,'), ('coming,', 'be'), ('be', 'patient'), ('patient', '-'), ('-', 'the'), ('the', 'universe'), ('universe', 'has'), ('has', 'your'), ('your', 'back-don’t'), ('back-don’t', 'worry'), ('worry', 'about'), ('about', 'it.'), ('If', 'you'), ('you', 'are'), ('are', 'reading'), ('reading', 'this'), ('this', 'at'), ('at', 'night,'), ('night,', 'you'), ('you', 'should'), ('should', 'get'), ('get', 'some'), ('some', 'sleep,'), ('sleep,', 'and'), ('and', 'do'), ('do', 'not'), ('not', 'stress'), ('stress', 'about'), ('about', 'anything'), ('anything', '–'), ('–', 'don’t'), ('don’t', 'worry'), ('worry', 'about'), ('about', 'the'), ('the', 'world'), ('world', 'or'), ('or', 'what'), ('what', 'you'), ('you', 'are'), ('are', 'going'), ('going', 'through;'), ('through;', \"don't\"), (\"don't\", 'dwell'), ('dwell', 'on'), ('on', 'things'), ('things', 'from'), ('from', 'the'), ('the', 'past'), ('past', 'and'), ('and', \"don't\"), (\"don't\", 'stress'), ('stress', 'about'), ('about', 'the'), ('the', 'future;'), ('future;', 'just'), ('just', 'live'), ('live', 'your'), ('your', 'life,'), ('life,', 'because'), ('because', 'you'), ('you', 'have'), ('have', 'one,'), ('one,', 'so'), ('so', 'do'), ('do', 'whatever'), ('whatever', 'makes'), ('makes', 'you'), ('you', 'happy'), ('happy', 'and'), ('and', 'do'), ('do', 'not'), ('not', 'what'), ('what', 'other'), ('other', 'people'), ('people', 'want'), ('want', 'from'), ('from', 'you.'), ('Surrender', 'all'), ('all', 'the'), ('the', 'negativity'), ('negativity', 'and'), ('and', 'non-sense'), ('non-sense', 'and'), ('and', 'you'), ('you', 'will'), ('will', 'see'), ('see', 'miracles'), ('miracles', 'happen'), ('happen', 'in'), ('in', 'your'), ('your', 'life.'), ('I', 'got'), ('got', 'everything'), ('everything', 'for'), ('for', 'my'), ('my', 'highest'), ('highest', 'good!'), ('You', 'are'), ('are', 'loved!'), ('Anyone', 'reading'), ('reading', 'this,'), ('this,', 'may'), ('may', 'you'), ('you', 'achieve'), ('achieve', 'whatever'), ('whatever', 'you'), ('you', 'are'), ('are', 'longing'), ('longing', 'for,'), ('for,', 'because'), ('because', 'the'), ('the', 'Universe'), ('Universe', 'always'), ('always', 'delivers,'), ('delivers,', 'it'), ('it', 'never'), ('never', 'fails;'), ('fails;', 'I'), ('I', 'am'), ('am', 'telling'), ('telling', 'you'), ('you', 'my'), ('my', 'friends,'), ('friends,', 'because'), ('because', 'I'), ('I', 'have'), ('have', 'witnessed'), ('witnessed', 'it'), ('it', 'myself'), ('myself', 'so'), ('so', 'many'), ('many', 'times.'), ('We', 'don’t'), ('don’t', 'know'), ('know', 'each'), ('each', 'other,'), ('other,', 'but'), ('but', 'I'), ('I', 'wish'), ('wish', 'you'), ('you', 'all'), ('all', 'the'), ('the', 'best'), ('best', 'in'), ('in', 'life,'), ('life,', 'and'), ('and', 'may'), ('may', 'all'), ('all', 'things'), ('things', 'work'), ('work', 'out'), ('out', 'in'), ('in', 'your'), ('your', 'favor.'), ('Years', 'of'), ('of', 'deep'), ('deep', 'anger'), ('anger', 'and'), ('and', 'sadness'), ('sadness', 'have'), ('have', 'finally'), ('finally', 'reached'), ('reached', 'my'), ('my', 'consciousness'), ('consciousness', 'to'), ('to', 'letting'), ('letting', 'them'), ('them', 'go.'), ('I', 'wish'), ('wish', 'anyone'), ('anyone', 'and'), ('and', 'everyone'), ('everyone', 'health'), ('health', 'and'), ('and', 'safety'), ('safety', 'because'), ('because', 'we'), ('we', 'are'), ('are', 'all'), ('all', 'one;'), ('one;', 'peace,'), ('peace,', 'love'), ('love', 'and'), ('and', 'strength'), ('strength', 'to'), ('to', 'all'), ('all', 'who'), ('who', 'read'), ('read', 'this'), ('this', 'and'), ('and', 'to'), ('to', 'all'), ('all', 'who'), ('who', 'need'), ('need', 'it.'), ('Radiating', 'with'), ('with', 'positive'), ('positive', 'energy,'), ('energy,', 'let'), ('let', 'any'), ('any', 'negativity'), ('negativity', 'go'), ('go', 'away'), ('away', 'to'), ('to', 'allow'), ('allow', 'abundance'), ('abundance', 'coming'), ('coming', 'in'), ('in', 'my'), ('my', 'way.'), ('To', 'the'), ('the', 'person'), ('person', 'who'), ('who', 'is'), ('is', 'reading'), ('reading', 'this,'), ('this,', 'you'), ('you', 'are'), ('are', 'beautiful'), ('beautiful', 'and'), ('and', 'loved,'), ('loved,', 'you'), ('you', 'are'), ('are', 'unique,'), ('unique,', 'you'), ('you', 'will'), ('will', 'receive'), ('receive', 'your'), ('your', 'desires;'), ('desires;', 'trust'), ('trust', 'the'), ('the', 'universe'), ('universe', 'and'), ('and', 'tale'), ('tale', 'care'), ('care', 'for'), ('for', 'yourself.'), ('If', 'you'), ('you', \"don't\"), (\"don't\", 'get'), ('get', 'your'), ('your', 'results'), ('results', 'immediately,'), ('immediately,', 'let'), ('let', 'some'), ('some', 'time'), ('time', 'as'), ('as', 'things'), ('things', 'take'), ('take', 'time;'), ('time;', 'the'), ('the', 'Universe'), ('Universe', 'works'), ('works', 'at'), ('at', 'its'), ('its', 'own'), ('own', 'pace'), ('pace', 'and'), ('and', 'you'), ('you', 'will'), ('will', 'get'), ('get', 'it;'), ('it;', 'it'), ('it', 'is'), ('is', 'powerful.'), ('Our', 'so-called'), ('so-called', 'objective'), ('objective', 'reality'), ('reality', 'can'), ('can', 'be'), ('be', 'shifted'), ('shifted', 'just'), ('just', 'by'), ('by', 'breathing'), ('breathing', 'deeper;'), ('deeper;', 'I'), ('I', 'feel'), ('feel', 'like'), ('like', 'we'), ('we', 'are'), ('are', 'eternal'), ('eternal', 'and'), ('and', 'that'), ('that', 'there'), ('there', 'are'), ('are', 'endless'), ('endless', 'opportunities'), ('opportunities', 'for'), ('for', 'this'), ('this', 'life'), ('life', 'to'), ('to', 'play'), ('play', 'out'), ('out', 'and'), ('and', 'it’s'), ('it’s', 'only'), ('only', 'my'), ('my', 'responsibility'), ('responsibility', 'to'), ('to', 'choose'), ('choose', 'the'), ('the', 'path'), ('path', 'I'), ('I', 'want'), ('want', 'to'), ('to', 'go.'), ('If', 'you'), ('you', 'are'), ('are', 'reading'), ('reading', 'this,'), ('this,', 'you'), ('you', 'have'), ('have', 'no'), ('no', 'time'), ('time', 'and'), ('and', 'all'), ('all', 'the'), ('the', 'time'), ('time', 'in'), ('in', 'the'), ('the', 'world.'), ('You', 'are'), ('are', 'loved,'), ('loved,', 'and'), ('and', 'your'), ('your', 'light'), ('light', 'is'), ('is', 'needed'), ('needed', 'to'), ('to', 'brighten'), ('brighten', 'this'), ('this', 'world'), ('world', 'today.'), ('To', 'anybody'), ('anybody', 'reading'), ('reading', 'this,'), ('this,', 'I'), ('I', 'wish'), ('wish', 'that'), ('that', 'whatever'), ('whatever', 'is'), ('is', 'hurting'), ('hurting', 'you'), ('you', 'or'), ('or', 'whatever'), ('whatever', 'you'), ('you', 'are'), ('are', 'constantly'), ('constantly', 'stressing'), ('stressing', 'about,'), ('about,', 'things'), ('things', 'will'), ('will', 'get'), ('get', 'better'), ('better', 'for'), ('for', 'you.'), ('May', 'the'), ('the', 'dark'), ('dark', 'thoughts,'), ('thoughts,', 'the'), ('the', 'overthinking,'), ('overthinking,', 'and'), ('and', 'the'), ('the', 'doubts'), ('doubts', 'exit'), ('exit', 'your'), ('your', 'mind'), ('mind', 'now;'), ('now;', 'may'), ('may', 'clarity'), ('clarity', 'replace'), ('replace', 'confusion,'), ('confusion,', 'may'), ('may', 'peace'), ('peace', 'and'), ('and', 'calmness'), ('calmness', 'fill'), ('fill', 'your'), ('your', 'life;'), ('life;', 'have'), ('have', 'no'), ('no', 'fears'), ('fears', 'and'), ('and', 'take'), ('take', 'control'), ('control', 'of'), ('of', 'your'), ('your', 'life;'), ('life;', 'there'), ('there', 'is'), ('is', '\\nabundance'), ('\\nabundance', 'for'), ('for', 'everyone,'), ('everyone,', 'and'), ('and', 'you'), ('you', 'deserve'), ('deserve', 'financial'), ('financial', 'freedom'), ('freedom', 'and'), ('and', 'true'), ('true', 'love,'), ('love,', 'and'), ('and', 'all'), ('all', 'the'), ('the', 'happiness'), ('happiness', 'and'), ('and', 'health.'), ('Whoever', 'reads'), ('reads', 'this,'), ('this,', 'wherever'), ('wherever', 'you'), ('you', 'are'), ('are', 'in'), ('in', 'this'), ('this', 'world,'), ('world,', 'I'), ('I', 'wish'), ('wish', 'you'), ('you', 'many'), ('many', 'blessings'), ('blessings', 'of'), ('of', 'happiness,'), ('happiness,', 'light,'), ('light,', 'love'), ('love', 'and'), ('and', 'all'), ('all', 'of'), ('of', 'the'), ('the', 'miracles'), ('miracles', 'that'), ('that', 'you'), ('you', 'desire!'), ('If', 'you'), ('you', 'are'), ('are', 'reading'), ('reading', 'this,'), ('this,', 'you'), ('you', 'are'), ('are', 'going'), ('going', 'to'), ('to', 'celebrate'), ('celebrate', 'something'), ('something', 'special'), ('special', 'very'), ('very', 'soon.'), ('You', 'will'), ('will', 'be'), ('be', 'full'), ('full', 'of'), ('of', 'joy'), ('joy', 'and'), ('and', 'happiness'), ('happiness', 'and'), ('and', 'sharing'), ('sharing', 'your'), ('your', 'good'), ('good', 'news.'), ('It', 'will'), ('will', 'almost'), ('almost', 'seem'), ('seem', 'out'), ('out', 'of'), ('of', 'this'), ('this', 'world;'), ('world;', 'how'), ('how', 'suddenly'), ('suddenly', 'it'), ('it', 'will'), ('will', 'all'), ('all', 'happened'), ('happened', 'for'), ('for', 'you.'), ('Be', 'ready,'), ('ready,', 'my'), ('my', 'friend,'), ('friend,', 'and'), ('and', 'expect'), ('expect', 'it,'), ('it,', 'it'), ('it', 'is'), ('is', 'happening!'), ('Whoever', 'reads'), ('reads', 'this,'), ('this,', 'I'), ('I', 'hope'), ('hope', 'your'), ('your', 'life'), ('life', 'is'), ('is', 'filled'), ('filled', 'with'), ('with', 'joy'), ('joy', 'and'), ('and', 'happiness.'), ('Helping', 'people'), ('people', 'live'), ('live', 'their'), ('their', 'dreams;'), ('dreams;', 'miracles'), ('miracles', 'happen.'), ('If', 'you'), ('you', 'read'), ('read', 'this,'), ('this,', 'I'), ('I', 'wish'), ('wish', 'you'), ('you', 'great'), ('great', 'success,'), ('success,', 'health,'), ('health,', 'love'), ('love', 'and'), ('and', 'happiness.'), ('Greatness', 'will'), ('will', 'come'), ('come', 'to'), ('to', 'you.'), ('Everything', 'you’ve'), ('you’ve', 'ever'), ('ever', 'dreamed'), ('dreamed', 'of'), ('of', 'is'), ('is', 'on'), ('on', 'its'), ('its', 'way.'), ('Be', 'grateful'), ('grateful', 'for'), ('for', 'the'), ('the', 'things'), ('things', 'you'), ('you', 'have,'), ('have,', 'and'), ('and', 'be'), ('be', 'grateful'), ('grateful', 'for'), ('for', 'what'), ('what', 'you'), ('you', 'want'), ('want', 'and'), ('and', 'you'), ('you', 'will'), ('will', 'receive.'), ('I', 'see'), ('see', 'a'), ('a', 'lot'), ('lot', 'of'), ('of', 'changes'), ('changes', 'in'), ('in', 'my'), ('my', 'life;'), ('life;', 'everything'), ('everything', 'goes'), ('goes', 'well;'), ('well;', 'thanking'), ('thanking', 'the'), ('the', 'Universe.'), ('Sending', 'love,'), ('love,', 'peace,'), ('peace,', 'and'), ('and', 'protection'), ('protection', 'to'), ('to', 'all'), ('all', 'of'), ('of', 'you,'), ('you,', 'beautiful'), ('beautiful', 'souls'), ('souls', 'who'), ('who', 'are'), ('are', 'reading'), ('reading', 'this.'), ('For', 'those'), ('those', 'who'), ('who', 'have'), ('have', 'found'), ('found', 'my'), ('my', 'message:'), ('message:', 'may'), ('may', 'you'), ('you', 'find'), ('find', 'peace'), ('peace', 'within'), ('within', 'yourself;'), ('yourself;', 'know'), ('know', 'that'), ('that', 'you'), ('you', 'are'), ('are', 'loved,'), ('loved,', '\\nyou'), ('\\nyou', 'are'), ('are', 'favored,'), ('favored,', 'you'), ('you', 'are'), ('are', 'protected'), ('protected', 'in'), ('in', 'every'), ('every', 'way;'), ('way;', 'opportunities'), ('opportunities', 'will'), ('will', 'flow'), ('flow', 'towards'), ('towards', 'you'), ('you', 'easily'), ('easily', 'and'), ('and', 'endlessly,'), ('endlessly,', 'all'), ('all', 'of'), ('of', 'your'), ('your', 'needs'), ('needs', 'are'), ('are', 'met,'), ('met,', 'you'), ('you', 'wish'), ('wish', 'nothing'), ('nothing', 'because'), ('because', 'you'), ('you', 'have'), ('have', 'everything.'), ('You', 'have'), ('have', 'access'), ('access', 'to'), ('to', 'everything'), ('everything', 'you'), ('you', 'want'), ('want', 'and'), ('and', 'need;'), ('need;', 'your'), ('your', 'light'), ('light', 'matter,'), ('matter,', 'you'), ('you', 'are'), ('are', 'important'), ('important', 'and'), ('and', 'you'), ('you', 'are'), ('are', 'healed.'), ('You', 'are'), ('are', 'not'), ('not', 'identified'), ('identified', 'with'), ('with', 'your'), ('your', 'past'), ('past', 'or'), ('or', 'your'), ('your', 'mistakes'), ('mistakes', 'or'), ('or', 'the'), ('the', 'trauma'), ('trauma', 'that'), ('that', 'you'), ('you', 'experienced,'), ('experienced,', 'they'), ('they', 'pain'), ('pain', 'that'), ('that', 'you'), ('you', 'suffered;'), ('suffered;', 'you'), ('you', 'are'), ('are', 'made'), ('made', 'of'), ('of', 'light'), ('light', 'and'), ('and', 'love,'), ('love,', 'you'), ('you', 'are'), ('are', 'creative'), ('creative', 'being'), ('being', 'and'), ('and', 'you'), ('you', 'can'), ('can', 'give'), ('give', 'birth'), ('birth', 'to'), ('to', 'new'), ('new', 'beginnings,'), ('beginnings,', 'ideas,'), ('ideas,', 'etc.'), ('You', 'are'), ('are', 'beautiful'), ('beautiful', 'and'), ('and', 'you'), ('you', 'are'), ('are', 'accepted'), ('accepted', 'and'), ('and', 'loved.'), ('Have', 'faith'), ('faith', 'everyone;'), ('everyone;', 'life'), ('life', 'will'), ('will', 'meet'), ('meet', 'you'), ('you', 'whatever'), ('whatever', 'you'), ('you', 'are'), ('are', 'and'), ('and', 'will'), ('will', 'take'), ('take', 'you'), ('you', 'to'), ('to', 'where'), ('where', 'you'), ('you', 'want'), ('want', 'to'), ('to', 'be.'), ('If', 'you'), ('you', 'are'), ('are', 'reading'), ('reading', 'this,'), ('this,', \"it's\"), (\"it's\", 'not'), ('not', 'too'), ('too', 'late'), ('late', 'to'), ('to', 'achieve'), ('achieve', 'your'), ('your', 'dreams!'), ('To', 'anyone'), ('anyone', 'reading'), ('reading', 'this,'), ('this,', 'I'), ('I', 'send'), ('send', 'you'), ('you', 'positive'), ('positive', 'energy;'), ('energy;', 'please'), ('please', 'try'), ('try', 'to'), ('to', 'stay'), ('stay', 'on'), ('on', 'a'), ('a', 'high'), ('high', 'vibration.'), ('To', 'everyone'), ('everyone', 'reading'), ('reading', 'this,'), ('this,', 'all'), ('all', 'negative'), ('negative', 'cycles'), ('cycles', 'are'), ('are', 'ending.'), ('I', 'forgive'), ('forgive', 'all'), ('all', 'those'), ('those', 'that'), ('that', 'ever'), ('ever', 'brought'), ('brought', 'me'), ('me', 'sadness'), ('sadness', 'or'), ('or', 'pain,'), ('pain,', 'and'), ('and', 'I'), ('I', 'forgive'), ('forgive', 'myself'), ('myself', 'for'), ('for', 'all'), ('all', 'my'), ('my', 'mistakes'), ('mistakes', 'and'), ('and', 'past'), ('past', 'self-induced'), ('self-induced', 'hindrances.'), ('I', 'welcome'), ('welcome', 'sincere'), ('sincere', 'love,'), ('love,', 'joy,'), ('joy,', 'peace,'), ('peace,', 'good'), ('good', 'health'), ('health', 'and'), ('and', 'great'), ('great', 'wealth;'), ('wealth;', 'I'), ('I', 'am'), ('am', 'ready'), ('ready', 'and'), ('and', 'worthy'), ('worthy', 'of'), ('of', 'sincere'), ('sincere', 'love,'), ('love,', 'joy,'), ('joy,', 'peace,'), ('peace,', 'good'), ('good', 'health'), ('health', 'and'), ('and', 'great'), ('great', 'wealth.'), ('May', 'everyone'), ('everyone', 'have'), ('have', 'a'), ('a', 'blessed'), ('blessed', 'life'), ('life', 'and'), ('and', 'lot'), ('lot', 'of'), ('of', 'successes.'), ('To', 'anyone'), ('anyone', 'who'), ('who', 'may'), ('may', 'read'), ('read', 'this,'), ('this,', 'you'), ('you', 'have'), ('have', 'everything'), ('everything', 'you'), ('you', 'need'), ('need', 'to'), ('to', 'overcome'), ('overcome', 'your'), ('your', 'difficulties,'), ('difficulties,', 'and'), ('and', 'the'), ('the', 'Universe'), ('Universe', 'have'), ('have', 'you'), ('you', 'back.'), ('I', 'wish'), ('wish', 'everyone'), ('everyone', 'who'), ('who', 'read'), ('read', 'this'), ('this', 'to'), ('to', 'receive'), ('receive', 'unexpected'), ('unexpected', 'blessing,'), ('blessing,', 'good'), ('good', 'health,'), ('health,', 'abundance,'), ('abundance,', 'love'), ('love', 'and'), ('and', 'peace.'), ('If', 'you'), ('you', 'are'), ('are', 'reading'), ('reading', 'this,'), ('this,', 'you'), ('you', 'will'), ('will', 'achieve'), ('achieve', 'your'), ('your', 'dreams'), ('dreams', 'soon;'), ('soon;', 'have'), ('have', 'faith'), ('faith', 'and'), ('and', 'be'), ('be', 'determined\\n\\nMay'), ('determined\\n\\nMay', 'all'), ('all', 'you'), ('you', 'who'), ('who', 'are'), ('are', 'struggling'), ('struggling', 'to'), ('to', 'achieve'), ('achieve', 'your'), ('your', 'goals,'), ('goals,', 'believe'), ('believe', 'you'), ('you', 'are'), ('are', 'just'), ('just', 'one'), ('one', 'step'), ('step', 'closer,'), ('closer,', 'have'), ('have', 'faith;'), ('faith;', 'the'), ('the', 'Universe'), ('Universe', 'is'), ('is', 'own'), ('own', 'your'), ('your', 'side.'), ('If', 'you'), ('you', 'are'), ('are', 'reading'), ('reading', 'this,'), ('this,', 'your'), ('your', 'dreams'), ('dreams', 'become'), ('become', 'a'), ('a', 'reality;'), ('reality;', 'your'), ('your', 'life'), ('life', 'is'), ('is', 'filled'), ('filled', 'with'), ('with', 'peace'), ('peace', 'and'), ('and', 'abundance,'), ('abundance,', 'and'), ('and', 'you'), ('you', 'are'), ('are', 'loved.'), ('For', 'everyone'), ('everyone', 'that'), ('that', 'is'), ('is', 'reading'), ('reading', 'this,'), ('this,', 'may'), ('may', 'the'), ('the', 'angels'), ('angels', 'give'), ('give', 'you'), ('you', 'peace'), ('peace', 'and'), ('and', 'fulfill'), ('fulfill', 'you'), ('you', 'with'), ('with', 'love.'), ('Love', 'is'), ('is', 'powerful'), ('powerful', 'and'), ('and', 'we'), ('we', 'must'), ('must', 'spread'), ('spread', 'it'), ('it', 'to'), ('to', 'the'), ('the', 'world'), ('world', 'to'), ('to', 'protect'), ('protect', 'us.'), ('Please', 'accept'), ('accept', 'this'), ('this', 'peace'), ('peace', 'that'), ('that', 'I'), ('I', 'send'), ('send', 'you'), ('you', 'all,'), ('all,', 'along'), ('along', 'with'), ('with', 'boundless'), ('boundless', 'love'), ('love', 'brightest'), ('brightest', 'light\\n\\nIf'), ('light\\n\\nIf', 'you'), ('you', 'are'), ('are', 'reading'), ('reading', 'this,'), ('this,', 'do'), ('do', 'not'), ('not', 'give'), ('give', 'up.'), ('You', 'are'), ('are', 'close'), ('close', 'to'), ('to', 'accomplish'), ('accomplish', 'your'), ('your', 'goals;'), ('goals;', 'you'), ('you', 'will'), ('will', 'get'), ('get', 'the'), ('the', 'energy'), ('energy', 'and'), ('and', 'motivation'), ('motivation', 'to'), ('to', 'get'), ('get', 'to'), ('to', 'the'), ('the', 'finish'), ('finish', 'line.'), ('I', 'choose'), ('choose', 'to'), ('to', 'remain'), ('remain', 'positive,'), ('positive,', 'and'), ('and', 'I'), ('I', 'receive'), ('receive', 'all'), ('all', 'the'), ('the', 'abundance,'), ('abundance,', 'love'), ('love', 'and'), ('and', 'peace;'), ('peace;', 'I'), ('I', 'am'), ('am', 'so'), ('so', 'grateful'), ('grateful', 'for'), ('for', 'everything.'), ('We', 'all'), ('all', 'are'), ('are', 'an'), ('an', 'amazingly'), ('amazingly', 'powerful'), ('powerful', 'healers;'), ('healers;', 'we'), ('we', 'have'), ('have', 'everything'), ('everything', 'we'), ('we', 'need'), ('need', 'within'), ('within', 'ourselves'), ('ourselves', 'to'), ('to', 'heal'), ('heal', 'ourselves'), ('ourselves', 'and'), ('and', 'others'), ('others', 'around'), ('around', 'us;'), ('us;', 'raise'), ('raise', 'your'), ('your', 'frequency,'), ('frequency,', 'and'), ('and', 'start'), ('start', 'healing'), ('healing', 'your'), ('your', 'life!'), ('May', 'all'), ('all', 'your'), ('your', 'dreams'), ('dreams', 'come'), ('come', 'true.'), ('Best', 'wishes'), ('wishes', 'to'), ('to', 'everyone'), ('everyone', 'who'), ('who', 'needs'), ('needs', 'healing'), ('healing', 'and'), ('and', 'miracles'), ('miracles', 'in'), ('in', 'their'), ('their', 'life.'), ('Stay', 'positive'), ('positive', '-'), ('-', ''), ('', 'love'), ('love', 'can'), ('can', 'change'), ('change', 'your'), ('your', 'entire'), ('entire', 'life;'), ('life;', 'I'), ('I', 'was'), ('was', 'having'), ('having', 'a'), ('a', 'rough'), ('rough', 'time'), ('time', 'for'), ('for', 'the'), ('the', 'past'), ('past', '10'), ('10', 'years'), ('years', 'and'), ('and', 'it'), ('it', 'is'), ('is', 'crazy'), ('crazy', 'how'), ('how', 'everything'), ('everything', 'came'), ('came', 'to'), ('to', 'an'), ('an', 'end.'), ('You', 'will'), ('will', 'achieve'), ('achieve', 'everything'), ('everything', 'you'), ('you', 'have'), ('have', 'ever'), ('ever', 'dreamt'), ('dreamt', 'of!'), ('Tomorrow', 'is'), ('is', 'going'), ('going', 'to'), ('to', 'be'), ('be', 'a'), ('a', 'good'), ('good', 'day;'), ('day;', 'you'), ('you', 'are'), ('are', 'enough,'), ('enough,', 'you'), ('you', 'are'), ('are', 'worthy,'), ('worthy,', 'you'), ('you', 'are'), ('are', 'loved.'), ('Wishing', 'every'), ('every', 'soul:'), ('soul:', 'love,'), ('love,', 'peace'), ('peace', 'and'), ('and', 'healing.'), ('Stay', 'blessed;'), ('blessed;', 'always'), ('always', 'believe'), ('believe', 'that'), ('that', 'miracles'), ('miracles', 'happen.'), ('Whoever', 'is'), ('is', 'reading'), ('reading', 'this,'), ('this,', 'you'), ('you', 'will'), ('will', 'heal'), ('heal', 'of'), ('of', 'all'), ('all', 'things'), ('things', 'that'), ('that', 'ail'), ('ail', 'you,'), ('you,', 'and'), ('and', 'absolved'), ('absolved', 'of'), ('of', 'all'), ('all', 'your'), ('your', 'worries.'), ('Thank', 'you,'), ('you,', 'the'), ('the', 'Universe.'), ('I', 'am'), ('am', 'wishing'), ('wishing', 'everyone'), ('everyone', 'good'), ('good', 'health.'), ('Loving', 'energy'), ('energy', 'that'), ('that', 'you'), ('you', 'can'), ('can', 'share'), ('share', 'can'), ('can', 'make'), ('make', 'someone'), ('someone', 'feel'), ('feel', 'good;'), ('good;', 'if'), ('if', 'you'), ('you', 'are'), ('are', 'reading'), ('reading', 'this'), ('this', 'do'), ('do', 'not'), ('not', 'give'), ('give', 'up,'), ('up,', 'whatever'), ('whatever', 'you'), ('you', 'are'), ('are', 'chasing'), ('chasing', 'will'), ('will', 'find'), ('find', \"it's\"), (\"it's\", 'way'), ('way', 'to'), ('to', 'you;'), ('you;', 'claim'), ('claim', 'it.'), ('You', 'are'), ('are', 'loved,'), ('loved,', 'you'), ('you', 'are'), ('are', 'important,'), ('important,', 'extraordinary,'), ('extraordinary,', 'strong,'), ('strong,', 'no'), ('no', 'matter'), ('matter', 'how'), ('how', 'big'), ('big', 'are'), ('are', 'the'), ('the', 'obstacle'), ('obstacle', 'in'), ('in', 'your'), ('your', 'way,'), ('way,', 'you'), ('you', 'shall'), ('shall', 'persevere.'), ('It', 'is'), ('is', 'all'), ('all', 'within'), ('within', 'our'), ('our', 'willpower'), ('willpower', 'as'), ('as', 'humans'), ('humans', 'to'), ('to', 'keep'), ('keep', 'going;'), ('going;', 'it'), ('it', 'is'), ('is', 'our'), ('our', 'existence'), ('existence', 'right.'), ('Do', 'not'), ('not', 'ever'), ('ever', 'doubt'), ('doubt', 'yourself.'), ('Sending', 'positive'), ('positive', 'vibrations,'), ('vibrations,', 'good'), ('good', 'fortune'), ('fortune', 'in'), ('in', 'wealth,'), ('wealth,', 'health,'), ('health,', 'and'), ('and', 'happiness.'), ('To', 'anyone'), ('anyone', 'reading'), ('reading', 'this,'), ('this,', 'just'), ('just', 'remember'), ('remember', 'my'), ('my', 'words:'), ('words:', 'all'), ('all', 'your'), ('your', 'dreams'), ('dreams', 'will'), ('will', 'come'), ('come', 'true.'), ('I', 'am'), ('am', 'so'), ('so', 'grateful'), ('grateful', 'to'), ('to', 'see'), ('see', 'the'), ('the', 'power'), ('power', 'of'), ('of', 'positive'), ('positive', 'manifestation'), ('manifestation', 'in'), ('in', 'my'), ('my', 'life,'), ('life,', 'my'), ('my', 'mind,'), ('mind,', 'my'), ('my', 'body,'), ('body,', 'my'), ('my', 'soul,'), ('soul,', 'my'), ('my', 'spirit'), ('spirit', 'is'), ('is', 'being'), ('being', 'cleansed'), ('cleansed', 'and'), ('and', 'the'), ('the', 'universe'), ('universe', 'is'), ('is', 'delivering'), ('delivering', 'my'), ('my', 'synchronicities'), ('synchronicities', 'multiple'), ('multiple', 'times'), ('times', 'a'), ('a', 'day.'), ('Believe', 'and'), ('and', 'you'), ('you', 'can'), ('can', 'achieve,'), ('achieve,', 'all'), ('all', 'my'), ('my', 'love'), ('love', 'to'), ('to', 'each'), ('each', 'and'), ('and', 'everyone'), ('everyone', 'one'), ('one', 'of'), ('of', 'you'), ('you', 'may'), ('may', 'you'), ('you', 'have'), ('have', 'an'), ('an', 'amazing'), ('amazing', 'life.'), ('Safety', 'and'), ('and', 'blessings'), ('blessings', 'to'), ('to', 'everyone.'), ('Anyone', 'reading'), ('reading', 'this,'), ('this,', 'I'), ('I', 'wish'), ('wish', 'you'), ('you', 'abundance'), ('abundance', 'in'), ('in', 'your'), ('your', 'life.'), ('Wishing', 'you'), ('you', 'all'), ('all', 'good'), ('good', 'health,'), ('health,', 'wealth,'), ('wealth,', 'prosperity,'), ('prosperity,', 'Love,'), ('Love,', 'peace'), ('peace', 'and'), ('and', 'happiness;'), ('happiness;', 'may'), ('may', 'all'), ('all', 'of'), ('of', 'your'), ('your', 'desires'), ('desires', 'come'), ('come', 'full'), ('full', 'speed;'), ('speed;', 'don’t'), ('don’t', 'forget'), ('forget', 'to'), ('to', 'be'), ('be', 'thankful'), ('thankful', 'for'), ('for', 'life-'), ('life-', 'love'), ('love', 'is'), ('is', 'awesome.'), ('We', 'are'), ('are', 'limitless,'), ('limitless,', 'pure'), ('pure', 'love'), ('love', 'and'), ('and', 'joy.'), ('Greatness', 'will'), ('will', 'come'), ('come', 'to'), ('to', 'all'), ('all', 'of'), ('of', 'us.'), ('Everything', 'you’ve'), ('you’ve', 'ever'), ('ever', 'dreamed'), ('dreamed', 'of'), ('of', 'is'), ('is', 'on'), ('on', 'its'), ('its', 'way'), ('way', 'so'), ('so', 'be'), ('be', 'grateful'), ('grateful', 'for'), ('for', 'what'), ('what', 'you'), ('you', 'have'), ('have', 'and'), ('and', 'grateful'), ('grateful', 'for'), ('for', 'what'), ('what', 'you'), ('you', 'want'), ('want', 'to'), ('to', 'receive.'), ('To', 'anyone'), ('anyone', 'reading'), ('reading', 'this:'), ('this:', 'yes,'), ('yes,', 'it’s'), ('it’s', 'coming;'), ('coming;', 'be'), ('be', 'patient'), ('patient', '-'), ('-', 'the'), ('the', 'universe'), ('universe', 'has'), ('has', 'your'), ('your', 'back;'), ('back;', 'don’t'), ('don’t', 'spend'), ('spend', 'your'), ('your', 'life'), ('life', 'in'), ('in', 'worries.')]\n"
     ]
    }
   ],
   "source": [
    "bigrams = [a for s in sents for a in zip(s.split(\" \")[:-1], s.split(\" \")[1:])]\n",
    "  \n",
    "print(bigrams)"
   ]
  },
  {
   "cell_type": "code",
   "execution_count": 8,
   "id": "6dab9815",
   "metadata": {},
   "outputs": [
    {
     "name": "stdout",
     "output_type": "stream",
     "text": [
      "{('To', 'all'): 1, ('all', 'of'): 6, ('of', 'you'): 2, ('you', 'who'): 2, ('who', 'need'): 2, ('need', 'a'): 1, ('a', 'miracle'): 1, ('miracle', 'in'): 1, ('in', 'their'): 2, ('their', 'lives:'): 1, ('lives:', \"don't\"): 1, (\"don't\", 'stop'): 1, ('stop', 'believing'): 1, ('believing', 'because'): 1, ('because', 'miracles'): 1, ('miracles', 'happen'): 2, ('happen', 'and'): 1, ('and', 'fortune'): 1, ('fortune', 'will'): 1, ('will', 'smile'): 1, ('smile', 'upon'): 1, ('upon', 'you'): 1, ('you', '–'): 1, ('–', 'be'): 1, ('be', 'brave.'): 1, ('brave.', 'May'): 1, ('May', 'everyone'): 2, ('everyone', 'who'): 3, ('who', 'sees'): 1, ('sees', 'this'): 1, ('this', 'message'): 1, ('message', 'receives'): 1, ('receives', 'the'): 1, ('the', 'miracles'): 2, ('miracles', 'they'): 1, ('they', 'have'): 1, ('have', 'been'): 1, ('been', 'wishing'): 1, ('wishing', 'for!'): 1, ('for!', 'Anyone'): 1, ('Anyone', 'reading'): 3, ('reading', 'this,'): 17, ('this,', 'may'): 3, ('may', 'get'): 1, ('get', 'whatever'): 1, ('whatever', 'they'): 1, ('they', 'want'): 1, ('want', 'in'): 1, ('in', 'life.'): 1, ('life.', 'If'): 1, ('If', 'you’re'): 1, ('you’re', 'reading'): 1, ('this,', 'it’s'): 1, ('it’s', 'coming,'): 1, ('coming,', 'be'): 1, ('be', 'patient'): 2, ('patient', '-'): 2, ('-', 'the'): 2, ('the', 'universe'): 4, ('universe', 'has'): 2, ('has', 'your'): 2, ('your', 'back-don’t'): 1, ('back-don’t', 'worry'): 1, ('worry', 'about'): 2, ('about', 'it.'): 1, ('it.', 'If'): 1, ('If', 'you'): 9, ('you', 'are'): 31, ('are', 'reading'): 9, ('reading', 'this'): 2, ('this', 'at'): 1, ('at', 'night,'): 1, ('night,', 'you'): 1, ('you', 'should'): 1, ('should', 'get'): 1, ('get', 'some'): 1, ('some', 'sleep,'): 1, ('sleep,', 'and'): 1, ('and', 'do'): 2, ('do', 'not'): 4, ('not', 'stress'): 1, ('stress', 'about'): 2, ('about', 'anything'): 1, ('anything', '–'): 1, ('–', 'don’t'): 1, ('don’t', 'worry'): 1, ('about', 'the'): 2, ('the', 'world'): 2, ('world', 'or'): 1, ('or', 'what'): 1, ('what', 'you'): 4, ('are', 'going'): 2, ('going', 'through;'): 1, ('through;', \"don't\"): 1, (\"don't\", 'dwell'): 1, ('dwell', 'on'): 1, ('on', 'things'): 1, ('things', 'from'): 1, ('from', 'the'): 1, ('the', 'past'): 2, ('past', 'and'): 1, ('and', \"don't\"): 1, (\"don't\", 'stress'): 1, ('the', 'future;'): 1, ('future;', 'just'): 1, ('just', 'live'): 1, ('live', 'your'): 1, ('your', 'life,'): 1, ('life,', 'because'): 1, ('because', 'you'): 2, ('you', 'have'): 7, ('have', 'one,'): 1, ('one,', 'so'): 1, ('so', 'do'): 1, ('do', 'whatever'): 1, ('whatever', 'makes'): 1, ('makes', 'you'): 1, ('you', 'happy'): 1, ('happy', 'and'): 1, ('not', 'what'): 1, ('what', 'other'): 1, ('other', 'people'): 1, ('people', 'want'): 1, ('want', 'from'): 1, ('from', 'you.'): 1, ('you.', 'Surrender'): 1, ('Surrender', 'all'): 1, ('all', 'the'): 5, ('the', 'negativity'): 1, ('negativity', 'and'): 1, ('and', 'non-sense'): 1, ('non-sense', 'and'): 1, ('and', 'you'): 9, ('you', 'will'): 7, ('will', 'see'): 1, ('see', 'miracles'): 1, ('happen', 'in'): 1, ('in', 'your'): 4, ('your', 'life.'): 2, ('life.', 'I'): 1, ('I', 'got'): 1, ('got', 'everything'): 1, ('everything', 'for'): 1, ('for', 'my'): 1, ('my', 'highest'): 1, ('highest', 'good!'): 1, ('good!', 'You'): 1, ('You', 'are'): 6, ('are', 'loved!'): 1, ('loved!', 'Anyone'): 1, ('may', 'you'): 3, ('you', 'achieve'): 1, ('achieve', 'whatever'): 1, ('whatever', 'you'): 4, ('are', 'longing'): 1, ('longing', 'for,'): 1, ('for,', 'because'): 1, ('because', 'the'): 1, ('the', 'Universe'): 4, ('Universe', 'always'): 1, ('always', 'delivers,'): 1, ('delivers,', 'it'): 1, ('it', 'never'): 1, ('never', 'fails;'): 1, ('fails;', 'I'): 1, ('I', 'am'): 5, ('am', 'telling'): 1, ('telling', 'you'): 1, ('you', 'my'): 1, ('my', 'friends,'): 1, ('friends,', 'because'): 1, ('because', 'I'): 1, ('I', 'have'): 1, ('have', 'witnessed'): 1, ('witnessed', 'it'): 1, ('it', 'myself'): 1, ('myself', 'so'): 1, ('so', 'many'): 1, ('many', 'times.'): 1, ('times.', 'We'): 1, ('We', 'don’t'): 1, ('don’t', 'know'): 1, ('know', 'each'): 1, ('each', 'other,'): 1, ('other,', 'but'): 1, ('but', 'I'): 1, ('I', 'wish'): 7, ('wish', 'you'): 4, ('you', 'all'): 2, ('the', 'best'): 1, ('best', 'in'): 1, ('in', 'life,'): 1, ('life,', 'and'): 1, ('and', 'may'): 1, ('may', 'all'): 2, ('all', 'things'): 2, ('things', 'work'): 1, ('work', 'out'): 1, ('out', 'in'): 1, ('your', 'favor.'): 1, ('favor.', 'Years'): 1, ('Years', 'of'): 1, ('of', 'deep'): 1, ('deep', 'anger'): 1, ('anger', 'and'): 1, ('and', 'sadness'): 1, ('sadness', 'have'): 1, ('have', 'finally'): 1, ('finally', 'reached'): 1, ('reached', 'my'): 1, ('my', 'consciousness'): 1, ('consciousness', 'to'): 1, ('to', 'letting'): 1, ('letting', 'them'): 1, ('them', 'go.'): 1, ('go.', 'I'): 1, ('wish', 'anyone'): 1, ('anyone', 'and'): 1, ('and', 'everyone'): 2, ('everyone', 'health'): 1, ('health', 'and'): 3, ('and', 'safety'): 1, ('safety', 'because'): 1, ('because', 'we'): 1, ('we', 'are'): 2, ('are', 'all'): 1, ('all', 'one;'): 1, ('one;', 'peace,'): 1, ('peace,', 'love'): 1, ('love', 'and'): 6, ('and', 'strength'): 1, ('strength', 'to'): 1, ('to', 'all'): 4, ('all', 'who'): 2, ('who', 'read'): 2, ('read', 'this'): 2, ('this', 'and'): 1, ('and', 'to'): 1, ('need', 'it.'): 1, ('it.', 'Radiating'): 1, ('Radiating', 'with'): 1, ('with', 'positive'): 1, ('positive', 'energy,'): 1, ('energy,', 'let'): 1, ('let', 'any'): 1, ('any', 'negativity'): 1, ('negativity', 'go'): 1, ('go', 'away'): 1, ('away', 'to'): 1, ('to', 'allow'): 1, ('allow', 'abundance'): 1, ('abundance', 'coming'): 1, ('coming', 'in'): 1, ('in', 'my'): 3, ('my', 'way.'): 1, ('way.', 'To'): 1, ('To', 'the'): 1, ('the', 'person'): 1, ('person', 'who'): 1, ('who', 'is'): 1, ('is', 'reading'): 3, ('this,', 'you'): 6, ('are', 'beautiful'): 2, ('beautiful', 'and'): 2, ('and', 'loved,'): 1, ('loved,', 'you'): 3, ('are', 'unique,'): 1, ('unique,', 'you'): 1, ('will', 'receive'): 1, ('receive', 'your'): 1, ('your', 'desires;'): 1, ('desires;', 'trust'): 1, ('trust', 'the'): 1, ('universe', 'and'): 1, ('and', 'tale'): 1, ('tale', 'care'): 1, ('care', 'for'): 1, ('for', 'yourself.'): 1, ('yourself.', 'If'): 1, ('you', \"don't\"): 1, (\"don't\", 'get'): 1, ('get', 'your'): 1, ('your', 'results'): 1, ('results', 'immediately,'): 1, ('immediately,', 'let'): 1, ('let', 'some'): 1, ('some', 'time'): 1, ('time', 'as'): 1, ('as', 'things'): 1, ('things', 'take'): 1, ('take', 'time;'): 1, ('time;', 'the'): 1, ('Universe', 'works'): 1, ('works', 'at'): 1, ('at', 'its'): 1, ('its', 'own'): 1, ('own', 'pace'): 1, ('pace', 'and'): 1, ('will', 'get'): 3, ('get', 'it;'): 1, ('it;', 'it'): 1, ('it', 'is'): 4, ('is', 'powerful.'): 1, ('powerful.', 'Our'): 1, ('Our', 'so-called'): 1, ('so-called', 'objective'): 1, ('objective', 'reality'): 1, ('reality', 'can'): 1, ('can', 'be'): 1, ('be', 'shifted'): 1, ('shifted', 'just'): 1, ('just', 'by'): 1, ('by', 'breathing'): 1, ('breathing', 'deeper;'): 1, ('deeper;', 'I'): 1, ('I', 'feel'): 1, ('feel', 'like'): 1, ('like', 'we'): 1, ('are', 'eternal'): 1, ('eternal', 'and'): 1, ('and', 'that'): 1, ('that', 'there'): 1, ('there', 'are'): 1, ('are', 'endless'): 1, ('endless', 'opportunities'): 1, ('opportunities', 'for'): 1, ('for', 'this'): 1, ('this', 'life'): 1, ('life', 'to'): 1, ('to', 'play'): 1, ('play', 'out'): 1, ('out', 'and'): 1, ('and', 'it’s'): 1, ('it’s', 'only'): 1, ('only', 'my'): 1, ('my', 'responsibility'): 1, ('responsibility', 'to'): 1, ('to', 'choose'): 1, ('choose', 'the'): 1, ('the', 'path'): 1, ('path', 'I'): 1, ('I', 'want'): 1, ('want', 'to'): 3, ('to', 'go.'): 1, ('go.', 'If'): 1, ('have', 'no'): 2, ('no', 'time'): 1, ('time', 'and'): 1, ('and', 'all'): 3, ('the', 'time'): 1, ('time', 'in'): 1, ('in', 'the'): 1, ('the', 'world.'): 1, ('world.', 'You'): 1, ('are', 'loved,'): 3, ('loved,', 'and'): 1, ('and', 'your'): 1, ('your', 'light'): 2, ('light', 'is'): 1, ('is', 'needed'): 1, ('needed', 'to'): 1, ('to', 'brighten'): 1, ('brighten', 'this'): 1, ('this', 'world'): 1, ('world', 'today.'): 1, ('today.', 'To'): 1, ('To', 'anybody'): 1, ('anybody', 'reading'): 1, ('this,', 'I'): 5, ('wish', 'that'): 1, ('that', 'whatever'): 1, ('whatever', 'is'): 1, ('is', 'hurting'): 1, ('hurting', 'you'): 1, ('you', 'or'): 1, ('or', 'whatever'): 1, ('are', 'constantly'): 1, ('constantly', 'stressing'): 1, ('stressing', 'about,'): 1, ('about,', 'things'): 1, ('things', 'will'): 1, ('get', 'better'): 1, ('better', 'for'): 1, ('for', 'you.'): 2, ('you.', 'May'): 1, ('May', 'the'): 1, ('the', 'dark'): 1, ('dark', 'thoughts,'): 1, ('thoughts,', 'the'): 1, ('the', 'overthinking,'): 1, ('overthinking,', 'and'): 1, ('and', 'the'): 3, ('the', 'doubts'): 1, ('doubts', 'exit'): 1, ('exit', 'your'): 1, ('your', 'mind'): 1, ('mind', 'now;'): 1, ('now;', 'may'): 1, ('may', 'clarity'): 1, ('clarity', 'replace'): 1, ('replace', 'confusion,'): 1, ('confusion,', 'may'): 1, ('may', 'peace'): 1, ('peace', 'and'): 5, ('and', 'calmness'): 1, ('calmness', 'fill'): 1, ('fill', 'your'): 1, ('your', 'life;'): 2, ('life;', 'have'): 1, ('no', 'fears'): 1, ('fears', 'and'): 1, ('and', 'take'): 1, ('take', 'control'): 1, ('control', 'of'): 1, ('of', 'your'): 3, ('life;', 'there'): 1, ('there', 'is'): 1, ('is', 'abundance'): 1, ('abundance', 'for'): 1, ('for', 'everyone,'): 1, ('everyone,', 'and'): 1, ('you', 'deserve'): 1, ('deserve', 'financial'): 1, ('financial', 'freedom'): 1, ('freedom', 'and'): 1, ('and', 'true'): 1, ('true', 'love,'): 1, ('love,', 'and'): 1, ('the', 'happiness'): 1, ('happiness', 'and'): 2, ('and', 'health.'): 1, ('health.', 'Whoever'): 1, ('Whoever', 'reads'): 2, ('reads', 'this,'): 2, ('this,', 'wherever'): 1, ('wherever', 'you'): 1, ('are', 'in'): 1, ('in', 'this'): 1, ('this', 'world,'): 1, ('world,', 'I'): 1, ('you', 'many'): 1, ('many', 'blessings'): 1, ('blessings', 'of'): 1, ('of', 'happiness,'): 1, ('happiness,', 'light,'): 1, ('light,', 'love'): 1, ('of', 'the'): 1, ('miracles', 'that'): 1, ('that', 'you'): 5, ('you', 'desire!'): 1, ('desire!', 'If'): 1, ('going', 'to'): 2, ('to', 'celebrate'): 1, ('celebrate', 'something'): 1, ('something', 'special'): 1, ('special', 'very'): 1, ('very', 'soon.'): 1, ('soon.', 'You'): 1, ('You', 'will'): 2, ('will', 'be'): 1, ('be', 'full'): 1, ('full', 'of'): 1, ('of', 'joy'): 1, ('joy', 'and'): 2, ('and', 'happiness'): 1, ('and', 'sharing'): 1, ('sharing', 'your'): 1, ('your', 'good'): 1, ('good', 'news.'): 1, ('news.', 'It'): 1, ('It', 'will'): 1, ('will', 'almost'): 1, ('almost', 'seem'): 1, ('seem', 'out'): 1, ('out', 'of'): 1, ('of', 'this'): 1, ('this', 'world;'): 1, ('world;', 'how'): 1, ('how', 'suddenly'): 1, ('suddenly', 'it'): 1, ('it', 'will'): 1, ('will', 'all'): 1, ('all', 'happened'): 1, ('happened', 'for'): 1, ('you.', 'Be'): 1, ('Be', 'ready,'): 1, ('ready,', 'my'): 1, ('my', 'friend,'): 1, ('friend,', 'and'): 1, ('and', 'expect'): 1, ('expect', 'it,'): 1, ('it,', 'it'): 1, ('is', 'happening!'): 1, ('happening!', 'Whoever'): 1, ('I', 'hope'): 1, ('hope', 'your'): 1, ('your', 'life'): 3, ('life', 'is'): 2, ('is', 'filled'): 2, ('filled', 'with'): 2, ('with', 'joy'): 1, ('and', 'happiness.'): 3, ('happiness.', 'Helping'): 1, ('Helping', 'people'): 1, ('people', 'live'): 1, ('live', 'their'): 1, ('their', 'dreams;'): 1, ('dreams;', 'miracles'): 1, ('miracles', 'happen.'): 2, ('happen.', 'If'): 1, ('you', 'read'): 1, ('read', 'this,'): 2, ('you', 'great'): 1, ('great', 'success,'): 1, ('success,', 'health,'): 1, ('health,', 'love'): 1, ('happiness.', 'Greatness'): 1, ('Greatness', 'will'): 2, ('will', 'come'): 3, ('come', 'to'): 2, ('to', 'you.'): 1, ('you.', 'Everything'): 1, ('Everything', 'you’ve'): 2, ('you’ve', 'ever'): 2, ('ever', 'dreamed'): 2, ('dreamed', 'of'): 2, ('of', 'is'): 2, ('is', 'on'): 2, ('on', 'its'): 2, ('its', 'way.'): 1, ('way.', 'Be'): 1, ('Be', 'grateful'): 1, ('grateful', 'for'): 5, ('for', 'the'): 2, ('the', 'things'): 1, ('things', 'you'): 1, ('you', 'have,'): 1, ('have,', 'and'): 1, ('and', 'be'): 2, ('be', 'grateful'): 2, ('for', 'what'): 3, ('you', 'want'): 4, ('want', 'and'): 2, ('will', 'receive.'): 1, ('receive.', 'I'): 1, ('I', 'see'): 1, ('see', 'a'): 1, ('a', 'lot'): 1, ('lot', 'of'): 2, ('of', 'changes'): 1, ('changes', 'in'): 1, ('my', 'life;'): 1, ('life;', 'everything'): 1, ('everything', 'goes'): 1, ('goes', 'well;'): 1, ('well;', 'thanking'): 1, ('thanking', 'the'): 1, ('the', 'Universe.'): 2, ('Universe.', 'Sending'): 1, ('Sending', 'love,'): 1, ('love,', 'peace,'): 1, ('peace,', 'and'): 1, ('and', 'protection'): 1, ('protection', 'to'): 1, ('of', 'you,'): 1, ('you,', 'beautiful'): 1, ('beautiful', 'souls'): 1, ('souls', 'who'): 1, ('who', 'are'): 2, ('reading', 'this.'): 1, ('this.', 'For'): 1, ('For', 'those'): 1, ('those', 'who'): 1, ('who', 'have'): 1, ('have', 'found'): 1, ('found', 'my'): 1, ('my', 'message:'): 1, ('message:', 'may'): 1, ('you', 'find'): 1, ('find', 'peace'): 1, ('peace', 'within'): 1, ('within', 'yourself;'): 1, ('yourself;', 'know'): 1, ('know', 'that'): 1, ('are', 'favored,'): 1, ('favored,', 'you'): 1, ('are', 'protected'): 1, ('protected', 'in'): 1, ('in', 'every'): 1, ('every', 'way;'): 1, ('way;', 'opportunities'): 1, ('opportunities', 'will'): 1, ('will', 'flow'): 1, ('flow', 'towards'): 1, ('towards', 'you'): 1, ('you', 'easily'): 1, ('easily', 'and'): 1, ('and', 'endlessly,'): 1, ('endlessly,', 'all'): 1, ('your', 'needs'): 1, ('needs', 'are'): 1, ('are', 'met,'): 1, ('met,', 'you'): 1, ('you', 'wish'): 1, ('wish', 'nothing'): 1, ('nothing', 'because'): 1, ('have', 'everything.'): 1, ('everything.', 'You'): 1, ('You', 'have'): 1, ('have', 'access'): 1, ('access', 'to'): 1, ('to', 'everything'): 1, ('everything', 'you'): 3, ('and', 'need;'): 1, ('need;', 'your'): 1, ('light', 'matter,'): 1, ('matter,', 'you'): 1, ('are', 'important'): 1, ('important', 'and'): 1, ('are', 'healed.'): 1, ('healed.', 'You'): 1, ('are', 'not'): 1, ('not', 'identified'): 1, ('identified', 'with'): 1, ('with', 'your'): 1, ('your', 'past'): 1, ('past', 'or'): 1, ('or', 'your'): 1, ('your', 'mistakes'): 1, ('mistakes', 'or'): 1, ('or', 'the'): 1, ('the', 'trauma'): 1, ('trauma', 'that'): 1, ('you', 'experienced,'): 1, ('experienced,', 'they'): 1, ('they', 'pain'): 1, ('pain', 'that'): 1, ('you', 'suffered;'): 1, ('suffered;', 'you'): 1, ('are', 'made'): 1, ('made', 'of'): 1, ('of', 'light'): 1, ('light', 'and'): 1, ('and', 'love,'): 1, ('love,', 'you'): 1, ('are', 'creative'): 1, ('creative', 'being'): 1, ('being', 'and'): 1, ('you', 'can'): 3, ('can', 'give'): 1, ('give', 'birth'): 1, ('birth', 'to'): 1, ('to', 'new'): 1, ('new', 'beginnings,'): 1, ('beginnings,', 'ideas,'): 1, ('ideas,', 'etc.'): 1, ('etc.', 'You'): 1, ('are', 'accepted'): 1, ('accepted', 'and'): 1, ('and', 'loved.'): 1, ('loved.', 'Have'): 1, ('Have', 'faith'): 1, ('faith', 'everyone;'): 1, ('everyone;', 'life'): 1, ('life', 'will'): 1, ('will', 'meet'): 1, ('meet', 'you'): 1, ('you', 'whatever'): 1, ('are', 'and'): 1, ('and', 'will'): 1, ('will', 'take'): 1, ('take', 'you'): 1, ('you', 'to'): 1, ('to', 'where'): 1, ('where', 'you'): 1, ('to', 'be.'): 1, ('be.', 'If'): 1, ('this,', \"it's\"): 1, (\"it's\", 'not'): 1, ('not', 'too'): 1, ('too', 'late'): 1, ('late', 'to'): 1, ('to', 'achieve'): 2, ('achieve', 'your'): 3, ('your', 'dreams!'): 1, ('dreams!', 'To'): 1, ('To', 'anyone'): 4, ('anyone', 'reading'): 3, ('I', 'send'): 2, ('send', 'you'): 2, ('you', 'positive'): 1, ('positive', 'energy;'): 1, ('energy;', 'please'): 1, ('please', 'try'): 1, ('try', 'to'): 1, ('to', 'stay'): 1, ('stay', 'on'): 1, ('on', 'a'): 1, ('a', 'high'): 1, ('high', 'vibration.'): 1, ('vibration.', 'To'): 1, ('To', 'everyone'): 1, ('everyone', 'reading'): 1, ('this,', 'all'): 1, ('all', 'negative'): 1, ('negative', 'cycles'): 1, ('cycles', 'are'): 1, ('are', 'ending.'): 1, ('ending.', 'I'): 1, ('I', 'forgive'): 2, ('forgive', 'all'): 1, ('all', 'those'): 1, ('those', 'that'): 1, ('that', 'ever'): 1, ('ever', 'brought'): 1, ('brought', 'me'): 1, ('me', 'sadness'): 1, ('sadness', 'or'): 1, ('or', 'pain,'): 1, ('pain,', 'and'): 1, ('and', 'I'): 2, ('forgive', 'myself'): 1, ('myself', 'for'): 1, ('for', 'all'): 1, ('all', 'my'): 2, ('my', 'mistakes'): 1, ('mistakes', 'and'): 1, ('and', 'past'): 1, ('past', 'self-induced'): 1, ('self-induced', 'hindrances.'): 1, ('hindrances.', 'I'): 1, ('I', 'welcome'): 1, ('welcome', 'sincere'): 1, ('sincere', 'love,'): 2, ('love,', 'joy,'): 2, ('joy,', 'peace,'): 2, ('peace,', 'good'): 2, ('good', 'health'): 2, ('and', 'great'): 2, ('great', 'wealth;'): 1, ('wealth;', 'I'): 1, ('am', 'ready'): 1, ('ready', 'and'): 1, ('and', 'worthy'): 1, ('worthy', 'of'): 1, ('of', 'sincere'): 1, ('great', 'wealth.'): 1, ('wealth.', 'May'): 1, ('everyone', 'have'): 1, ('have', 'a'): 1, ('a', 'blessed'): 1, ('blessed', 'life'): 1, ('life', 'and'): 1, ('and', 'lot'): 1, ('of', 'successes.'): 1, ('successes.', 'To'): 1, ('anyone', 'who'): 1, ('who', 'may'): 1, ('may', 'read'): 1, ('have', 'everything'): 2, ('you', 'need'): 1, ('need', 'to'): 1, ('to', 'overcome'): 1, ('overcome', 'your'): 1, ('your', 'difficulties,'): 1, ('difficulties,', 'and'): 1, ('Universe', 'have'): 1, ('have', 'you'): 1, ('you', 'back.'): 1, ('back.', 'I'): 1, ('wish', 'everyone'): 1, ('this', 'to'): 1, ('to', 'receive'): 1, ('receive', 'unexpected'): 1, ('unexpected', 'blessing,'): 1, ('blessing,', 'good'): 1, ('good', 'health,'): 2, ('health,', 'abundance,'): 1, ('abundance,', 'love'): 2, ('and', 'peace.'): 1, ('peace.', 'If'): 1, ('will', 'achieve'): 2, ('your', 'dreams'): 4, ('dreams', 'soon;'): 1, ('soon;', 'have'): 1, ('have', 'faith'): 1, ('faith', 'and'): 1, ('be', 'determined'): 1, ('determined', 'May'): 1, ('May', 'all'): 2, ('all', 'you'): 1, ('are', 'struggling'): 1, ('struggling', 'to'): 1, ('your', 'goals,'): 1, ('goals,', 'believe'): 1, ('believe', 'you'): 1, ('are', 'just'): 1, ('just', 'one'): 1, ('one', 'step'): 1, ('step', 'closer,'): 1, ('closer,', 'have'): 1, ('have', 'faith;'): 1, ('faith;', 'the'): 1, ('Universe', 'is'): 1, ('is', 'own'): 1, ('own', 'your'): 1, ('your', 'side.'): 1, ('side.', 'If'): 1, ('this,', 'your'): 1, ('dreams', 'become'): 1, ('become', 'a'): 1, ('a', 'reality;'): 1, ('reality;', 'your'): 1, ('with', 'peace'): 1, ('and', 'abundance,'): 1, ('abundance,', 'and'): 1, ('are', 'loved.'): 2, ('loved.', 'For'): 1, ('For', 'everyone'): 1, ('everyone', 'that'): 1, ('that', 'is'): 1, ('may', 'the'): 1, ('the', 'angels'): 1, ('angels', 'give'): 1, ('give', 'you'): 1, ('you', 'peace'): 1, ('and', 'fulfill'): 1, ('fulfill', 'you'): 1, ('you', 'with'): 1, ('with', 'love.'): 1, ('love.', 'Love'): 1, ('Love', 'is'): 1, ('is', 'powerful'): 1, ('powerful', 'and'): 1, ('and', 'we'): 1, ('we', 'must'): 1, ('must', 'spread'): 1, ('spread', 'it'): 1, ('it', 'to'): 1, ('to', 'the'): 2, ('world', 'to'): 1, ('to', 'protect'): 1, ('protect', 'us.'): 1, ('us.', 'Please'): 1, ('Please', 'accept'): 1, ('accept', 'this'): 1, ('this', 'peace'): 1, ('peace', 'that'): 1, ('that', 'I'): 1, ('you', 'all,'): 1, ('all,', 'along'): 1, ('along', 'with'): 1, ('with', 'boundless'): 1, ('boundless', 'love'): 1, ('love', 'brightest'): 1, ('brightest', 'light'): 1, ('light', 'If'): 1, ('this,', 'do'): 1, ('not', 'give'): 2, ('give', 'up.'): 1, ('up.', 'You'): 1, ('are', 'close'): 1, ('close', 'to'): 1, ('to', 'accomplish'): 1, ('accomplish', 'your'): 1, ('your', 'goals;'): 1, ('goals;', 'you'): 1, ('get', 'the'): 1, ('the', 'energy'): 1, ('energy', 'and'): 1, ('and', 'motivation'): 1, ('motivation', 'to'): 1, ('to', 'get'): 1, ('get', 'to'): 1, ('the', 'finish'): 1, ('finish', 'line.'): 1, ('line.', 'I'): 1, ('I', 'choose'): 1, ('choose', 'to'): 1, ('to', 'remain'): 1, ('remain', 'positive,'): 1, ('positive,', 'and'): 1, ('I', 'receive'): 1, ('receive', 'all'): 1, ('the', 'abundance,'): 1, ('and', 'peace;'): 1, ('peace;', 'I'): 1, ('am', 'so'): 2, ('so', 'grateful'): 2, ('for', 'everything.'): 1, ('everything.', 'We'): 1, ('We', 'all'): 1, ('all', 'are'): 1, ('are', 'an'): 1, ('an', 'amazingly'): 1, ('amazingly', 'powerful'): 1, ('powerful', 'healers;'): 1, ('healers;', 'we'): 1, ('we', 'have'): 1, ('everything', 'we'): 1, ('we', 'need'): 1, ('need', 'within'): 1, ('within', 'ourselves'): 1, ('ourselves', 'to'): 1, ('to', 'heal'): 1, ('heal', 'ourselves'): 1, ('ourselves', 'and'): 1, ('and', 'others'): 1, ('others', 'around'): 1, ('around', 'us;'): 1, ('us;', 'raise'): 1, ('raise', 'your'): 1, ('your', 'frequency,'): 1, ('frequency,', 'and'): 1, ('and', 'start'): 1, ('start', 'healing'): 1, ('healing', 'your'): 1, ('your', 'life!'): 1, ('life!', 'May'): 1, ('all', 'your'): 3, ('dreams', 'come'): 1, ('come', 'true.'): 2, ('true.', 'Best'): 1, ('Best', 'wishes'): 1, ('wishes', 'to'): 1, ('to', 'everyone'): 1, ('who', 'needs'): 1, ('needs', 'healing'): 1, ('healing', 'and'): 1, ('and', 'miracles'): 1, ('miracles', 'in'): 1, ('their', 'life.'): 1, ('life.', 'Stay'): 1, ('Stay', 'positive'): 1, ('positive', '-'): 1, ('-', 'love'): 1, ('love', 'can'): 1, ('can', 'change'): 1, ('change', 'your'): 1, ('your', 'entire'): 1, ('entire', 'life;'): 1, ('life;', 'I'): 1, ('I', 'was'): 1, ('was', 'having'): 1, ('having', 'a'): 1, ('a', 'rough'): 1, ('rough', 'time'): 1, ('time', 'for'): 1, ('past', '10'): 1, ('10', 'years'): 1, ('years', 'and'): 1, ('and', 'it'): 1, ('is', 'crazy'): 1, ('crazy', 'how'): 1, ('how', 'everything'): 1, ('everything', 'came'): 1, ('came', 'to'): 1, ('to', 'an'): 1, ('an', 'end.'): 1, ('end.', 'You'): 1, ('achieve', 'everything'): 1, ('have', 'ever'): 1, ('ever', 'dreamt'): 1, ('dreamt', 'of!'): 1, ('of!', 'Tomorrow'): 1, ('Tomorrow', 'is'): 1, ('is', 'going'): 1, ('to', 'be'): 2, ('be', 'a'): 1, ('a', 'good'): 1, ('good', 'day;'): 1, ('day;', 'you'): 1, ('are', 'enough,'): 1, ('enough,', 'you'): 1, ('are', 'worthy,'): 1, ('worthy,', 'you'): 1, ('loved.', 'Wishing'): 1, ('Wishing', 'every'): 1, ('every', 'soul:'): 1, ('soul:', 'love,'): 1, ('love,', 'peace'): 1, ('and', 'healing.'): 1, ('healing.', 'Stay'): 1, ('Stay', 'blessed;'): 1, ('blessed;', 'always'): 1, ('always', 'believe'): 1, ('believe', 'that'): 1, ('that', 'miracles'): 1, ('happen.', 'Whoever'): 1, ('Whoever', 'is'): 1, ('will', 'heal'): 1, ('heal', 'of'): 1, ('of', 'all'): 2, ('things', 'that'): 1, ('that', 'ail'): 1, ('ail', 'you,'): 1, ('you,', 'and'): 1, ('and', 'absolved'): 1, ('absolved', 'of'): 1, ('your', 'worries.'): 1, ('worries.', 'Thank'): 1, ('Thank', 'you,'): 1, ('you,', 'the'): 1, ('Universe.', 'I'): 1, ('am', 'wishing'): 1, ('wishing', 'everyone'): 1, ('everyone', 'good'): 1, ('good', 'health.'): 1, ('health.', 'Loving'): 1, ('Loving', 'energy'): 1, ('energy', 'that'): 1, ('can', 'share'): 1, ('share', 'can'): 1, ('can', 'make'): 1, ('make', 'someone'): 1, ('someone', 'feel'): 1, ('feel', 'good;'): 1, ('good;', 'if'): 1, ('if', 'you'): 1, ('this', 'do'): 1, ('give', 'up,'): 1, ('up,', 'whatever'): 1, ('are', 'chasing'): 1, ('chasing', 'will'): 1, ('will', 'find'): 1, ('find', \"it's\"): 1, (\"it's\", 'way'): 1, ('way', 'to'): 1, ('to', 'you;'): 1, ('you;', 'claim'): 1, ('claim', 'it.'): 1, ('it.', 'You'): 1, ('are', 'important,'): 1, ('important,', 'extraordinary,'): 1, ('extraordinary,', 'strong,'): 1, ('strong,', 'no'): 1, ('no', 'matter'): 1, ('matter', 'how'): 1, ('how', 'big'): 1, ('big', 'are'): 1, ('are', 'the'): 1, ('the', 'obstacle'): 1, ('obstacle', 'in'): 1, ('your', 'way,'): 1, ('way,', 'you'): 1, ('you', 'shall'): 1, ('shall', 'persevere.'): 1, ('persevere.', 'It'): 1, ('It', 'is'): 1, ('is', 'all'): 1, ('all', 'within'): 1, ('within', 'our'): 1, ('our', 'willpower'): 1, ('willpower', 'as'): 1, ('as', 'humans'): 1, ('humans', 'to'): 1, ('to', 'keep'): 1, ('keep', 'going;'): 1, ('going;', 'it'): 1, ('is', 'our'): 1, ('our', 'existence'): 1, ('existence', 'right.'): 1, ('right.', 'Do'): 1, ('Do', 'not'): 1, ('not', 'ever'): 1, ('ever', 'doubt'): 1, ('doubt', 'yourself.'): 1, ('yourself.', 'Sending'): 1, ('Sending', 'positive'): 1, ('positive', 'vibrations,'): 1, ('vibrations,', 'good'): 1, ('good', 'fortune'): 1, ('fortune', 'in'): 1, ('in', 'wealth,'): 1, ('wealth,', 'health,'): 1, ('health,', 'and'): 1, ('happiness.', 'To'): 1, ('this,', 'just'): 1, ('just', 'remember'): 1, ('remember', 'my'): 1, ('my', 'words:'): 1, ('words:', 'all'): 1, ('dreams', 'will'): 1, ('true.', 'I'): 1, ('grateful', 'to'): 1, ('to', 'see'): 1, ('see', 'the'): 1, ('the', 'power'): 1, ('power', 'of'): 1, ('of', 'positive'): 1, ('positive', 'manifestation'): 1, ('manifestation', 'in'): 1, ('my', 'life,'): 1, ('life,', 'my'): 1, ('my', 'mind,'): 1, ('mind,', 'my'): 1, ('my', 'body,'): 1, ('body,', 'my'): 1, ('my', 'soul,'): 1, ('soul,', 'my'): 1, ('my', 'spirit'): 1, ('spirit', 'is'): 1, ('is', 'being'): 1, ('being', 'cleansed'): 1, ('cleansed', 'and'): 1, ('universe', 'is'): 1, ('is', 'delivering'): 1, ('delivering', 'my'): 1, ('my', 'synchronicities'): 1, ('synchronicities', 'multiple'): 1, ('multiple', 'times'): 1, ('times', 'a'): 1, ('a', 'day.'): 1, ('day.', 'Believe'): 1, ('Believe', 'and'): 1, ('can', 'achieve,'): 1, ('achieve,', 'all'): 1, ('my', 'love'): 1, ('love', 'to'): 1, ('to', 'each'): 1, ('each', 'and'): 1, ('everyone', 'one'): 1, ('one', 'of'): 1, ('you', 'may'): 1, ('have', 'an'): 1, ('an', 'amazing'): 1, ('amazing', 'life.'): 1, ('life.', 'Safety'): 1, ('Safety', 'and'): 1, ('and', 'blessings'): 1, ('blessings', 'to'): 1, ('to', 'everyone.'): 1, ('everyone.', 'Anyone'): 1, ('you', 'abundance'): 1, ('abundance', 'in'): 1, ('life.', 'Wishing'): 1, ('Wishing', 'you'): 1, ('all', 'good'): 1, ('health,', 'wealth,'): 1, ('wealth,', 'prosperity,'): 1, ('prosperity,', 'Love,'): 1, ('Love,', 'peace'): 1, ('and', 'happiness;'): 1, ('happiness;', 'may'): 1, ('your', 'desires'): 1, ('desires', 'come'): 1, ('come', 'full'): 1, ('full', 'speed;'): 1, ('speed;', 'don’t'): 1, ('don’t', 'forget'): 1, ('forget', 'to'): 1, ('be', 'thankful'): 1, ('thankful', 'for'): 1, ('for', 'life-'): 1, ('life-', 'love'): 1, ('love', 'is'): 1, ('is', 'awesome.'): 1, ('awesome.', 'We'): 1, ('We', 'are'): 1, ('are', 'limitless,'): 1, ('limitless,', 'pure'): 1, ('pure', 'love'): 1, ('and', 'joy.'): 1, ('joy.', 'Greatness'): 1, ('of', 'us.'): 1, ('us.', 'Everything'): 1, ('its', 'way'): 1, ('way', 'so'): 1, ('so', 'be'): 1, ('have', 'and'): 1, ('and', 'grateful'): 1, ('to', 'receive.'): 1, ('receive.', 'To'): 1, ('reading', 'this:'): 1, ('this:', 'yes,'): 1, ('yes,', 'it’s'): 1, ('it’s', 'coming;'): 1, ('coming;', 'be'): 1, ('your', 'back;'): 1, ('back;', 'don’t'): 1, ('don’t', 'spend'): 1, ('spend', 'your'): 1, ('life', 'in'): 1, ('in', 'worries.'): 1}\n"
     ]
    }
   ],
   "source": [
    "#create a dict with frequency count of each bigram\n",
    "\n",
    "bCount = {} \n",
    "for i in range(len(tokens)-1):\n",
    "    if (tokens[i], tokens[i+1]) in bCount:\n",
    "        bCount[(tokens[i], tokens[i + 1])] += 1\n",
    "    else:\n",
    "        bCount[(tokens[i], tokens[i + 1])] = 1\n",
    "print(bCount)"
   ]
  },
  {
   "cell_type": "code",
   "execution_count": 9,
   "id": "8536fd59",
   "metadata": {},
   "outputs": [],
   "source": [
    "bCount.get(('light,', 'love'))"
   ]
  },
  {
   "cell_type": "code",
   "execution_count": 10,
   "id": "36ec51ea",
   "metadata": {},
   "outputs": [
    {
     "data": {
      "text/plain": [
       "2"
      ]
     },
     "execution_count": 10,
     "metadata": {},
     "output_type": "execute_result"
    }
   ],
   "source": [
    "bCount.get(('miracles', 'happen'))"
   ]
  },
  {
   "cell_type": "code",
   "execution_count": 12,
   "id": "cb1fb51a",
   "metadata": {},
   "outputs": [
    {
     "name": "stdout",
     "output_type": "stream",
     "text": [
      "7\n"
     ]
    }
   ],
   "source": [
    "print(uCount.get('miracles'))"
   ]
  },
  {
   "cell_type": "markdown",
   "id": "a54edec5",
   "metadata": {},
   "source": [
    "Calculating Probabilities:"
   ]
  },
  {
   "cell_type": "code",
   "execution_count": 13,
   "id": "44d1dc86",
   "metadata": {},
   "outputs": [
    {
     "name": "stdout",
     "output_type": "stream",
     "text": [
      "Probability that 'happen' occurs after 'miracles is: 0.2857142857142857\n"
     ]
    }
   ],
   "source": [
    "print(f\"Probability that 'happen' occurs after 'miracles is: {bCount.get(('miracles', 'happen'))/uCount.get('miracles')}\")"
   ]
  },
  {
   "cell_type": "code",
   "execution_count": null,
   "id": "1f659a4e",
   "metadata": {},
   "outputs": [],
   "source": []
  }
 ],
 "metadata": {
  "kernelspec": {
   "display_name": "Python 3 (ipykernel)",
   "language": "python",
   "name": "python3"
  },
  "language_info": {
   "codemirror_mode": {
    "name": "ipython",
    "version": 3
   },
   "file_extension": ".py",
   "mimetype": "text/x-python",
   "name": "python",
   "nbconvert_exporter": "python",
   "pygments_lexer": "ipython3",
   "version": "3.9.12"
  }
 },
 "nbformat": 4,
 "nbformat_minor": 5
}
