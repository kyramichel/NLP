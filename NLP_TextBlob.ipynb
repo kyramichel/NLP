{
 "cells": [
  {
   "cell_type": "markdown",
   "metadata": {},
   "source": [
    "## Classifying Yelp Reviews using various NLP techniques in Data Science\n",
    "\n",
    "\n",
    "Vectorizing for machine learning:\n",
    "Count Vectorization\n",
    "Term Frequency–Inverse Document Frequency Vectorization\n",
    "\n",
    "Text Classification with Logistic Regression\n",
    "\n",
    "N-Grams\n",
    "\n",
    "Stop-Word Removal\n",
    "\n",
    "Using CountVectorizer in a Model\n",
    "\n",
    "Using Grid Search for Logistic Regression\n",
    "\n",
    "TextBlob, Stemming and Lemmatization, Count Vector Options etc\n",
    "\n",
    "Sentiment Analysis using Naive Bayes Classifier In TextBlob For NLP\n",
    "\n",
    "\n",
    "#### Data\n",
    "\n",
    "This dataset is a subset of Yelp's businesses, reviews, and user data that is available at https://www.yelp.com/dataset\n",
    "\n",
    "The original JSON files can be found in yelp_academic_dataset.zip. \n",
    "\n",
    "To create yelp_academic_dataset.csv I used\n",
    "$ python json_to_csv_converter.py yelp_academic_dataset.json "
   ]
  },
  {
   "cell_type": "code",
   "execution_count": 166,
   "metadata": {},
   "outputs": [],
   "source": [
    "import pandas as pd\n",
    "import numpy as np\n",
    "import seaborn as sns\n",
    "import matplotlib.pyplot as plt\n",
    "plt.style.use(\"fivethirtyeight\")\n",
    "\n",
    "import scipy as sp\n",
    "from sklearn.model_selection import train_test_split\n",
    "from sklearn.feature_extraction.text import CountVectorizer, TfidfVectorizer\n",
    "from sklearn.model_selection import GridSearchCV\n",
    "from sklearn.pipeline import Pipeline\n",
    "from sklearn.linear_model import LogisticRegression\n",
    "from sklearn import metrics\n",
    "from nltk.stem.snowball import SnowballStemmer\n",
    "\n",
    "\n",
    "import warnings\n",
    "warnings.filterwarnings('ignore')"
   ]
  },
  {
   "cell_type": "code",
   "execution_count": 2,
   "metadata": {},
   "outputs": [
    {
     "data": {
      "text/html": [
       "<div>\n",
       "<style scoped>\n",
       "    .dataframe tbody tr th:only-of-type {\n",
       "        vertical-align: middle;\n",
       "    }\n",
       "\n",
       "    .dataframe tbody tr th {\n",
       "        vertical-align: top;\n",
       "    }\n",
       "\n",
       "    .dataframe thead th {\n",
       "        text-align: right;\n",
       "    }\n",
       "</style>\n",
       "<table border=\"1\" class=\"dataframe\">\n",
       "  <thead>\n",
       "    <tr style=\"text-align: right;\">\n",
       "      <th></th>\n",
       "      <th>business_id</th>\n",
       "      <th>date</th>\n",
       "      <th>review_id</th>\n",
       "      <th>stars</th>\n",
       "      <th>text</th>\n",
       "      <th>type</th>\n",
       "      <th>user_id</th>\n",
       "      <th>cool</th>\n",
       "      <th>useful</th>\n",
       "      <th>funny</th>\n",
       "    </tr>\n",
       "  </thead>\n",
       "  <tbody>\n",
       "    <tr>\n",
       "      <th>0</th>\n",
       "      <td>9yKzy9PApeiPPOUJEtnvkg</td>\n",
       "      <td>2011-01-26</td>\n",
       "      <td>fWKvX83p0-ka4JS3dc6E5A</td>\n",
       "      <td>5</td>\n",
       "      <td>My wife took me here on my birthday for breakf...</td>\n",
       "      <td>review</td>\n",
       "      <td>rLtl8ZkDX5vH5nAx9C3q5Q</td>\n",
       "      <td>2</td>\n",
       "      <td>5</td>\n",
       "      <td>0</td>\n",
       "    </tr>\n",
       "    <tr>\n",
       "      <th>1</th>\n",
       "      <td>ZRJwVLyzEJq1VAihDhYiow</td>\n",
       "      <td>2011-07-27</td>\n",
       "      <td>IjZ33sJrzXqU-0X6U8NwyA</td>\n",
       "      <td>5</td>\n",
       "      <td>I have no idea why some people give bad review...</td>\n",
       "      <td>review</td>\n",
       "      <td>0a2KyEL0d3Yb1V6aivbIuQ</td>\n",
       "      <td>0</td>\n",
       "      <td>0</td>\n",
       "      <td>0</td>\n",
       "    </tr>\n",
       "    <tr>\n",
       "      <th>2</th>\n",
       "      <td>6oRAC4uyJCsJl1X0WZpVSA</td>\n",
       "      <td>2012-06-14</td>\n",
       "      <td>IESLBzqUCLdSzSqm0eCSxQ</td>\n",
       "      <td>4</td>\n",
       "      <td>love the gyro plate. Rice is so good and I als...</td>\n",
       "      <td>review</td>\n",
       "      <td>0hT2KtfLiobPvh6cDC8JQg</td>\n",
       "      <td>0</td>\n",
       "      <td>1</td>\n",
       "      <td>0</td>\n",
       "    </tr>\n",
       "    <tr>\n",
       "      <th>3</th>\n",
       "      <td>_1QQZuf4zZOyFCvXc0o6Vg</td>\n",
       "      <td>2010-05-27</td>\n",
       "      <td>G-WvGaISbqqaMHlNnByodA</td>\n",
       "      <td>5</td>\n",
       "      <td>Rosie, Dakota, and I LOVE Chaparral Dog Park!!...</td>\n",
       "      <td>review</td>\n",
       "      <td>uZetl9T0NcROGOyFfughhg</td>\n",
       "      <td>1</td>\n",
       "      <td>2</td>\n",
       "      <td>0</td>\n",
       "    </tr>\n",
       "    <tr>\n",
       "      <th>4</th>\n",
       "      <td>6ozycU1RpktNG2-1BroVtw</td>\n",
       "      <td>2012-01-05</td>\n",
       "      <td>1uJFq2r5QfJG_6ExMRCaGw</td>\n",
       "      <td>5</td>\n",
       "      <td>General Manager Scott Petello is a good egg!!!...</td>\n",
       "      <td>review</td>\n",
       "      <td>vYmM4KTsC8ZfQBg-j5MWkw</td>\n",
       "      <td>0</td>\n",
       "      <td>0</td>\n",
       "      <td>0</td>\n",
       "    </tr>\n",
       "  </tbody>\n",
       "</table>\n",
       "</div>"
      ],
      "text/plain": [
       "              business_id        date               review_id  stars  \\\n",
       "0  9yKzy9PApeiPPOUJEtnvkg  2011-01-26  fWKvX83p0-ka4JS3dc6E5A      5   \n",
       "1  ZRJwVLyzEJq1VAihDhYiow  2011-07-27  IjZ33sJrzXqU-0X6U8NwyA      5   \n",
       "2  6oRAC4uyJCsJl1X0WZpVSA  2012-06-14  IESLBzqUCLdSzSqm0eCSxQ      4   \n",
       "3  _1QQZuf4zZOyFCvXc0o6Vg  2010-05-27  G-WvGaISbqqaMHlNnByodA      5   \n",
       "4  6ozycU1RpktNG2-1BroVtw  2012-01-05  1uJFq2r5QfJG_6ExMRCaGw      5   \n",
       "\n",
       "                                                text    type  \\\n",
       "0  My wife took me here on my birthday for breakf...  review   \n",
       "1  I have no idea why some people give bad review...  review   \n",
       "2  love the gyro plate. Rice is so good and I als...  review   \n",
       "3  Rosie, Dakota, and I LOVE Chaparral Dog Park!!...  review   \n",
       "4  General Manager Scott Petello is a good egg!!!...  review   \n",
       "\n",
       "                  user_id  cool  useful  funny  \n",
       "0  rLtl8ZkDX5vH5nAx9C3q5Q     2       5      0  \n",
       "1  0a2KyEL0d3Yb1V6aivbIuQ     0       0      0  \n",
       "2  0hT2KtfLiobPvh6cDC8JQg     0       1      0  \n",
       "3  uZetl9T0NcROGOyFfughhg     1       2      0  \n",
       "4  vYmM4KTsC8ZfQBg-j5MWkw     0       0      0  "
      ]
     },
     "execution_count": 2,
     "metadata": {},
     "output_type": "execute_result"
    }
   ],
   "source": [
    "# Read yelp.csv into a DataFrame.\n",
    "\n",
    "yelp = pd.read_csv('C:/Users/uknow/Desktop/yelp.csv')\n",
    "yelp.head()"
   ]
  },
  {
   "cell_type": "code",
   "execution_count": 3,
   "metadata": {},
   "outputs": [
    {
     "data": {
      "text/plain": [
       "(10000, 10)"
      ]
     },
     "execution_count": 3,
     "metadata": {},
     "output_type": "execute_result"
    }
   ],
   "source": [
    "yelp.shape\n"
   ]
  },
  {
   "cell_type": "code",
   "execution_count": 14,
   "metadata": {},
   "outputs": [
    {
     "data": {
      "text/plain": [
       "Index(['business_id', 'date', 'review_id', 'stars', 'text', 'type', 'user_id',\n",
       "       'cool', 'useful', 'funny'],\n",
       "      dtype='object')"
      ]
     },
     "execution_count": 14,
     "metadata": {},
     "output_type": "execute_result"
    }
   ],
   "source": [
    "yelp.columns\n"
   ]
  },
  {
   "cell_type": "markdown",
   "metadata": {},
   "source": [
    "Text classification is the task of predicting which category or topic a text sample is from.\n",
    "\n",
    "Here the goal is to identify: Does a review has positive or negative sentiment?\n",
    "\n",
    "This is a classification problem. We will train a ML model to classify reviews that have 5 or 1 stars."
   ]
  },
  {
   "cell_type": "code",
   "execution_count": 6,
   "metadata": {},
   "outputs": [
    {
     "data": {
      "text/plain": [
       "(4086, 10)"
      ]
     },
     "execution_count": 6,
     "metadata": {},
     "output_type": "execute_result"
    }
   ],
   "source": [
    "# Extract the data that contains only the 5-stars and 1-stars (highest and lowest reviews)\n",
    "\n",
    "yelp_5_1 = yelp[(yelp.stars==5) | (yelp.stars==1)]\n",
    "yelp_5_1.shape"
   ]
  },
  {
   "cell_type": "code",
   "execution_count": 7,
   "metadata": {},
   "outputs": [],
   "source": [
    "# Define X and y using 'text' (reviews) as features and 'stars' (labels) as the target output\n",
    "X = yelp_5_1.text\n",
    "y = yelp_5_1.stars"
   ]
  },
  {
   "cell_type": "markdown",
   "metadata": {},
   "source": [
    "## Text classification\n",
    "\n",
    "is done in the same way as all other classification models. Steps: \n",
    "\n",
    "**1. Split** the data into training and testing\n"
   ]
  },
  {
   "cell_type": "code",
   "execution_count": 9,
   "metadata": {},
   "outputs": [
    {
     "name": "stdout",
     "output_type": "stream",
     "text": [
      "(2043,) (2043,)\n",
      "(2043,) (2043,)\n"
     ]
    }
   ],
   "source": [
    "from sklearn.model_selection import train_test_split \n",
    "\n",
    "X_train, X_test, y_train, y_test = train_test_split(X, y, test_size=0.5, random_state=0)\n",
    "\n",
    "print(X_train.shape, y_train.shape)\n",
    "print(X_test.shape, y_test.shape)"
   ]
  },
  {
   "cell_type": "markdown",
   "metadata": {},
   "source": [
    "To use a machine learning model, we must convert unstructured text into numeric features.\n",
    "\n",
    "**2. Encode** (vectorize) text into a set of numeric features"
   ]
  },
  {
   "cell_type": "code",
   "execution_count": 20,
   "metadata": {},
   "outputs": [],
   "source": [
    "#Initialize the vectorizer\n",
    "vect = CountVectorizer(lowercase=False)\n",
    "\n",
    "# calling the fit_transform method on X_train and transform on X_test  \n",
    "X_train_s = vect.fit_transform(X_train) \n",
    "X_test_s = vect.transform(X_test) "
   ]
  },
  {
   "cell_type": "code",
   "execution_count": 21,
   "metadata": {},
   "outputs": [
    {
     "name": "stdout",
     "output_type": "stream",
     "text": [
      "<class 'scipy.sparse.csr.csr_matrix'>\n"
     ]
    }
   ],
   "source": [
    "#X_train_s and X_test_s are sparse matrices: rows are documents, columns are terms (\"tokens\", individual words in this case).\n",
    "    \n",
    "print(type(X_train_s)) "
   ]
  },
  {
   "cell_type": "code",
   "execution_count": 22,
   "metadata": {},
   "outputs": [
    {
     "data": {
      "text/plain": [
       "(2043, 16722)"
      ]
     },
     "execution_count": 22,
     "metadata": {},
     "output_type": "execute_result"
    }
   ],
   "source": [
    "#We have 2043 Yelp reviews in our training set\n",
    "#13684 unique words were found across all documents.\n",
    "X_train_s.shape"
   ]
  },
  {
   "cell_type": "code",
   "execution_count": 23,
   "metadata": {},
   "outputs": [
    {
     "data": {
      "text/plain": [
       "(2043, 16722)"
      ]
     },
     "execution_count": 23,
     "metadata": {},
     "output_type": "execute_result"
    }
   ],
   "source": [
    "X_test_s.shape"
   ]
  },
  {
   "cell_type": "code",
   "execution_count": 24,
   "metadata": {},
   "outputs": [
    {
     "data": {
      "text/plain": [
       "<2043x16722 sparse matrix of type '<class 'numpy.int64'>'\n",
       "\twith 164990 stored elements in Compressed Sparse Row format>"
      ]
     },
     "execution_count": 24,
     "metadata": {},
     "output_type": "execute_result"
    }
   ],
   "source": [
    "X_train_s"
   ]
  },
  {
   "cell_type": "markdown",
   "metadata": {},
   "source": [
    "**Count Vectorizer** simply counts the number of times a \"word\" appears in a document"
   ]
  },
  {
   "cell_type": "code",
   "execution_count": 25,
   "metadata": {},
   "outputs": [
    {
     "data": {
      "text/plain": [
       "{'Heard': 2356,\n",
       " 'about': 5396,\n",
       " 'this': 15557,\n",
       " 'restaurant': 13660,\n",
       " 'from': 9485,\n",
       " 'friend': 9466,\n",
       " 'and': 5726,\n",
       " 'was': 16352,\n",
       " 'amaze': 5686,\n",
       " 'by': 6760,\n",
       " 'the': 15512,\n",
       " 'food': 9350,\n",
       " 'their': 15518,\n",
       " 'friendly': 9470,\n",
       " 'service': 14165,\n",
       " 'tried': 15825,\n",
       " 'chicken': 7086,\n",
       " 'adobo': 5519,\n",
       " 'it': 10717,\n",
       " 'amazing': 5689,\n",
       " 'The': 4811,\n",
       " 'came': 6802,\n",
       " 'apart': 5777,\n",
       " 'with': 16541,\n",
       " 'no': 11979,\n",
       " 'effort': 8641,\n",
       " 'had': 9950,\n",
       " 'great': 9825,\n",
       " 'honey': 10243,\n",
       " 'glazed': 9685,\n",
       " 'taste': 15379,\n",
       " 'portions': 12858,\n",
       " 'were': 16430,\n",
       " 'good': 9734,\n",
       " 'amount': 5710,\n",
       " 'for': 9370,\n",
       " 'low': 11282,\n",
       " 'prices': 13002,\n",
       " 'couldn': 7667,\n",
       " 'get': 9639,\n",
       " 'enough': 8766,\n",
       " 'of': 12099,\n",
       " 'dessert': 8163,\n",
       " 'Some': 4470,\n",
       " 'my': 11854,\n",
       " 'friends': 9471,\n",
       " 'brought': 6623,\n",
       " 'me': 11503,\n",
       " 'here': 10140,\n",
       " 'last': 10974,\n",
       " 'night': 11962,\n",
       " 'first': 9226,\n",
       " 'thing': 15545,\n",
       " 'that': 15507,\n",
       " 'into': 10651,\n",
       " 'mind': 11648,\n",
       " 'set': 14172,\n",
       " 'up': 16066,\n",
       " 'To': 4858,\n",
       " 'Catch': 1088,\n",
       " 'Predator': 3851,\n",
       " 'ready': 13358,\n",
       " 'Chris': 1197,\n",
       " 'Hansen': 2318,\n",
       " 'to': 15652,\n",
       " 'pop': 12836,\n",
       " 'out': 12235,\n",
       " 'grill': 9846,\n",
       " 'What': 5219,\n",
       " 'are': 5851,\n",
       " 'you': 16682,\n",
       " 'doing': 8389,\n",
       " 'If': 2527,\n",
       " 'feel': 9125,\n",
       " 'like': 11124,\n",
       " 'Kubrick': 2790,\n",
       " 'Lolita': 2944,\n",
       " 'really': 13367,\n",
       " 'speaks': 14718,\n",
       " 'as': 5904,\n",
       " 'in': 10457,\n",
       " 'mirrors': 11675,\n",
       " 'your': 16687,\n",
       " 'life': 11109,\n",
       " 'then': 15526,\n",
       " 've': 16156,\n",
       " 'found': 9412,\n",
       " 'place': 12715,\n",
       " 'comfortable': 7339,\n",
       " 'pervert': 12595,\n",
       " 'skin': 14427,\n",
       " 're': 13346,\n",
       " 'age': 5578,\n",
       " 'consume': 7535,\n",
       " 'alcohol': 5628,\n",
       " 'they': 15537,\n",
       " 'got': 9757,\n",
       " 'bar': 6139,\n",
       " 'though': 15564,\n",
       " 'is': 10705,\n",
       " 'sloppy': 14492,\n",
       " 'pouring': 12897,\n",
       " 'drinks': 8495,\n",
       " 'ie': 10405,\n",
       " 'Manhattan': 3088,\n",
       " 'should': 14289,\n",
       " 'not': 12016,\n",
       " 'barber': 6145,\n",
       " 'cleaning': 7209,\n",
       " 'solution': 14617,\n",
       " 'decor': 8019,\n",
       " 'needs': 11915,\n",
       " 'face': 9011,\n",
       " 'lift': 11112,\n",
       " 'few': 9152,\n",
       " 'pluses': 12782,\n",
       " 'under': 15955,\n",
       " '21': 114,\n",
       " 'could': 7666,\n",
       " 'see': 14109,\n",
       " 'how': 10313,\n",
       " 'would': 16606,\n",
       " 'be': 6205,\n",
       " 'appealing': 5800,\n",
       " 'll': 11192,\n",
       " 'admit': 5513,\n",
       " 'clubs': 7264,\n",
       " 'went': 16429,\n",
       " 'when': 16446,\n",
       " 'fun': 9529,\n",
       " 'but': 6736,\n",
       " 'now': 12037,\n",
       " 'think': 15549,\n",
       " 'them': 15521,\n",
       " 'suck': 15131,\n",
       " 'It': 2583,\n",
       " 'seems': 14118,\n",
       " 'an': 5718,\n",
       " 'alright': 5666,\n",
       " 'experience': 8946,\n",
       " 'if': 10406,\n",
       " 'step': 14933,\n",
       " 'club': 7260,\n",
       " 'world': 16588,\n",
       " 'DJ': 1449,\n",
       " 'spin': 14764,\n",
       " 'pretty': 12991,\n",
       " 'much': 11813,\n",
       " 'straight': 15001,\n",
       " 'hip': 10184,\n",
       " 'hop': 10259,\n",
       " 'which': 16454,\n",
       " 'fine': 9199,\n",
       " 'very': 16202,\n",
       " 'mainstream': 11348,\n",
       " 'nasty': 11887,\n",
       " 'bumping': 6691,\n",
       " 'music': 11842,\n",
       " 'go': 9710,\n",
       " 'one': 12147,\n",
       " 'three': 15577,\n",
       " 'types': 15906,\n",
       " 'people': 12536,\n",
       " 'You': 5348,\n",
       " 'dragged': 8451,\n",
       " 'or': 12191,\n",
       " 'Your': 5351,\n",
       " 'usual': 16110,\n",
       " 'excuse': 8909,\n",
       " 'heart': 10085,\n",
       " 'felt': 9136,\n",
       " 'plea': 12757,\n",
       " 'complete': 7414,\n",
       " 'waterworks': 16380,\n",
       " 'goes': 9720,\n",
       " 'something': 14631,\n",
       " 'along': 5658,\n",
       " 'lines': 11148,\n",
       " 'swear': 15257,\n",
       " 'Officer': 3519,\n",
       " 'thought': 15565,\n",
       " 'she': 14225,\n",
       " '18': 69,\n",
       " 'We': 5190,\n",
       " 'Care': 1065,\n",
       " 'Family': 1870,\n",
       " 'Wellness': 5208,\n",
       " 'Center': 1100,\n",
       " 'most': 11780,\n",
       " 'exceptional': 8897,\n",
       " 'doctor': 8371,\n",
       " 'office': 12110,\n",
       " 'staff': 14844,\n",
       " 'have': 10054,\n",
       " 'ever': 8861,\n",
       " 'Every': 1782,\n",
       " 'employee': 8706,\n",
       " 'genuinely': 9636,\n",
       " 'cares': 6868,\n",
       " 'highly': 10168,\n",
       " 'recommend': 13417,\n",
       " 'beer': 6242,\n",
       " 'selection': 14126,\n",
       " 'live': 11183,\n",
       " 'atmosphere': 5974,\n",
       " 'used': 16104,\n",
       " 'across': 5466,\n",
       " 'street': 15021,\n",
       " 'nightcap': 11963,\n",
       " 'everynight': 8867,\n",
       " 'there': 15532,\n",
       " 'always': 5678,\n",
       " 'at': 5964,\n",
       " 'rosie': 13822,\n",
       " 'Always': 405,\n",
       " 'marvelous': 11454,\n",
       " 'patio': 12468,\n",
       " 'area': 5852,\n",
       " 'simply': 14365,\n",
       " 'lovely': 11277,\n",
       " 'weather': 16399,\n",
       " 'permitting': 12576,\n",
       " 'menus': 11571,\n",
       " 'excellent': 8894,\n",
       " 'cheese': 7062,\n",
       " 'plate': 12740,\n",
       " 'start': 14884,\n",
       " 'servers': 14163,\n",
       " 'will': 16503,\n",
       " 'help': 10124,\n",
       " 'pick': 12637,\n",
       " 'cheeses': 7067,\n",
       " 'suggest': 15149,\n",
       " 'wines': 16517,\n",
       " 'also': 5667,\n",
       " 'unique': 16008,\n",
       " 'rabbit': 13267,\n",
       " 'favourite': 9103,\n",
       " 'proteins': 13119,\n",
       " 'prepare': 12953,\n",
       " 'been': 6241,\n",
       " 'Valentine': 5042,\n",
       " 'Day': 1496,\n",
       " 'our': 12232,\n",
       " 'wedding': 16403,\n",
       " 'anniversary': 5740,\n",
       " 'make': 11358,\n",
       " 'evening': 8856,\n",
       " 'special': 14719,\n",
       " 'pricey': 13003,\n",
       " 'worth': 16601,\n",
       " 'every': 8864,\n",
       " 'penny': 12534,\n",
       " 'pay': 12485,\n",
       " 'OK': 3475,\n",
       " 'based': 6169,\n",
       " 'on': 12145,\n",
       " 'Tim': 4847,\n",
       " 'Yelp': 5324,\n",
       " 'review': 13705,\n",
       " 'am': 5679,\n",
       " 'so': 14577,\n",
       " 'glad': 9675,\n",
       " 'did': 8204,\n",
       " 'rode': 13793,\n",
       " 'bike': 6329,\n",
       " 'around': 5868,\n",
       " '1PM': 93,\n",
       " 'Wednesday': 5194,\n",
       " 'afternoon': 5569,\n",
       " 'say': 13988,\n",
       " 'disappointed': 8274,\n",
       " 'Even': 1778,\n",
       " 'hot': 10293,\n",
       " 'outdoor': 12240,\n",
       " 'table': 15311,\n",
       " 'surprisingly': 15226,\n",
       " 'cool': 7596,\n",
       " 'iced': 10390,\n",
       " 'soy': 14691,\n",
       " 'latte': 10985,\n",
       " 'don': 8399,\n",
       " 'know': 10900,\n",
       " 'explain': 8959,\n",
       " 'tasting': 15388,\n",
       " 'espresso': 8827,\n",
       " 'bland': 6376,\n",
       " 'This': 4826,\n",
       " 'just': 10816,\n",
       " 'has': 10035,\n",
       " 'while': 16455,\n",
       " 'Ted': 4774,\n",
       " 'guy': 9931,\n",
       " 'who': 16470,\n",
       " 'made': 11329,\n",
       " 'roasted': 13781,\n",
       " 'beans': 6210,\n",
       " 'himself': 10181,\n",
       " 'can': 6810,\n",
       " 'buy': 6752,\n",
       " 'those': 15562,\n",
       " 'industrious': 10519,\n",
       " 'grind': 9850,\n",
       " 'brew': 6576,\n",
       " 'own': 12309,\n",
       " 'prefer': 12935,\n",
       " 'leave': 11037,\n",
       " 'professionals': 13065,\n",
       " 'He': 2348,\n",
       " 'actually': 5482,\n",
       " 'ground': 9876,\n",
       " 'ordered': 12200,\n",
       " 'drink': 8490,\n",
       " 'chance': 7004,\n",
       " 'please': 12761,\n",
       " 'what': 16439,\n",
       " 'talking': 15343,\n",
       " 'notice': 12024,\n",
       " 'better': 6312,\n",
       " 'itself': 10725,\n",
       " 'beautiful': 6221,\n",
       " 'relaxing': 13518,\n",
       " 'sit': 14392,\n",
       " 'outside': 12258,\n",
       " 'basically': 6173,\n",
       " 'sitting': 14397,\n",
       " 'big': 6324,\n",
       " 'garden': 9588,\n",
       " 'kept': 10840,\n",
       " 'overhead': 12275,\n",
       " 'canopy': 6830,\n",
       " 'swamp': 15247,\n",
       " 'cooler': 7598,\n",
       " 'air': 5606,\n",
       " 'blowing': 6418,\n",
       " 'inside': 10581,\n",
       " 'coffee': 7291,\n",
       " 'shop': 14272,\n",
       " 'hanging': 9998,\n",
       " 'reading': 13356,\n",
       " 'book': 6462,\n",
       " 'Unfortunately': 5005,\n",
       " 'closes': 7250,\n",
       " 'PM': 3622,\n",
       " 'otherwise': 12227,\n",
       " 'bet': 6309,\n",
       " 'definitely': 8048,\n",
       " 'looks': 11244,\n",
       " 'little': 11181,\n",
       " 'town': 15738,\n",
       " 'somewhere': 14636,\n",
       " 'off': 12100,\n",
       " 'busy': 6735,\n",
       " 'Hayden': 2346,\n",
       " 'Rd': 3991,\n",
       " 'told': 15667,\n",
       " 'he': 10064,\n",
       " 'makes': 11360,\n",
       " 'lemonade': 11062,\n",
       " 'fresh': 9456,\n",
       " 'squeezed': 14824,\n",
       " 'love': 11275,\n",
       " 'try': 15860,\n",
       " 'When': 5222,\n",
       " 'back': 6070,\n",
       " 'bit': 6352,\n",
       " 'earlier': 8576,\n",
       " 'may': 11497,\n",
       " 'do': 8368,\n",
       " 'plant': 12733,\n",
       " 'shopping': 14278,\n",
       " 'well': 16426,\n",
       " 'Bottom': 845,\n",
       " 'line': 11143,\n",
       " 'Great': 2203,\n",
       " 'PHO': 3607,\n",
       " 'spring': 14806,\n",
       " 'rolls': 13799,\n",
       " 'fast': 9081,\n",
       " 'plus': 12781,\n",
       " 'cheap': 7041,\n",
       " 'Oh': 3521,\n",
       " 'truly': 15852,\n",
       " 'must': 11846,\n",
       " 'Fuddruckers': 2041,\n",
       " 'because': 6225,\n",
       " 'put': 13211,\n",
       " 'toppings': 15702,\n",
       " 'including': 10476,\n",
       " 'gooey': 9742,\n",
       " 'melty': 11550,\n",
       " 'fake': 9043,\n",
       " 'Also': 400,\n",
       " 'frings': 9478,\n",
       " 'combo': 7333,\n",
       " 'fries': 9473,\n",
       " 'onion': 12149,\n",
       " 'rings': 13751,\n",
       " 'Very': 5074,\n",
       " 'tasty': 15390,\n",
       " 'close': 7246,\n",
       " 'doors': 8411,\n",
       " 'act': 5468,\n",
       " 'together': 15663,\n",
       " 'reopen': 13583,\n",
       " 'boring': 6482,\n",
       " 'obvious': 12075,\n",
       " 'bare': 6147,\n",
       " 'minimum': 11661,\n",
       " 'coverup': 7710,\n",
       " 'horribly': 10273,\n",
       " 'flavor': 9268,\n",
       " 'avocado': 6039,\n",
       " 'pizza': 12708,\n",
       " 'literally': 11178,\n",
       " 'tasted': 15381,\n",
       " 'nothing': 12022,\n",
       " 'nachos': 11863,\n",
       " 'chips': 7119,\n",
       " 'tiny': 15639,\n",
       " 'pinch': 12673,\n",
       " 'soggy': 14603,\n",
       " 'beef': 6239,\n",
       " 'In': 2542,\n",
       " 'addition': 5500,\n",
       " 'server': 14161,\n",
       " 'didn': 8206,\n",
       " 'order': 12199,\n",
       " 'hardly': 10022,\n",
       " 'apologized': 5785,\n",
       " '30': 136,\n",
       " 'minutes': 11670,\n",
       " 'after': 5566,\n",
       " 'done': 8403,\n",
       " 'eating': 8603,\n",
       " 'One': 3539,\n",
       " 'ahi': 5598,\n",
       " 'tuna': 15872,\n",
       " 'switched': 15290,\n",
       " 'someone': 14628,\n",
       " 'else': 8675,\n",
       " 'kitchen': 10884,\n",
       " 'reordered': 13585,\n",
       " 'only': 12153,\n",
       " 'liked': 11126,\n",
       " 'too': 15686,\n",
       " 'took': 15688,\n",
       " 'forever': 9380,\n",
       " 'remind': 13554,\n",
       " 'several': 14180,\n",
       " 'times': 15630,\n",
       " 'refill': 13456,\n",
       " 'Way': 5188,\n",
       " 'sub': 15098,\n",
       " 'par': 12402,\n",
       " 'best': 6307,\n",
       " 'favorite': 9100,\n",
       " 'places': 12717,\n",
       " 'take': 15332,\n",
       " 'year': 16650,\n",
       " 'old': 12129,\n",
       " 'Only': 3541,\n",
       " 'drawback': 8462,\n",
       " 'gets': 9641,\n",
       " 'crowded': 7814,\n",
       " 'especially': 8826,\n",
       " 'school': 14020,\n",
       " 'groups': 9882,\n",
       " 'we': 16389,\n",
       " 'call': 6790,\n",
       " 'early': 8578,\n",
       " 'many': 11409,\n",
       " 'decide': 8005,\n",
       " 'its': 10724,\n",
       " 'They': 4819,\n",
       " 'sometimes': 14634,\n",
       " 'host': 10287,\n",
       " '500': 196,\n",
       " 'kids': 10860,\n",
       " 'museum': 11835,\n",
       " 'thats': 15508,\n",
       " 'Other': 3568,\n",
       " 'than': 15499,\n",
       " 'happy': 10012,\n",
       " 'called': 6791,\n",
       " 'Enterprise': 1751,\n",
       " 'Pools': 3831,\n",
       " 'worked': 16580,\n",
       " 'schedule': 14016,\n",
       " 'asked': 5915,\n",
       " 'estimate': 8836,\n",
       " 'Mike': 3218,\n",
       " 'knowledgeable': 10904,\n",
       " 'quickly': 13249,\n",
       " 'determined': 8175,\n",
       " 'problem': 13040,\n",
       " 'even': 8855,\n",
       " 'fix': 9237,\n",
       " 'offered': 12106,\n",
       " 'reasonable': 13374,\n",
       " 'price': 13000,\n",
       " 'never': 11940,\n",
       " 'sell': 14130,\n",
       " 'sake': 13897,\n",
       " 'sales': 13904,\n",
       " 'relief': 13531,\n",
       " 'find': 9196,\n",
       " 'honest': 10240,\n",
       " 'business': 6725,\n",
       " 'man': 11378,\n",
       " 'dealing': 7975,\n",
       " 'Leslie': 2887,\n",
       " 'such': 15129,\n",
       " 'long': 11234,\n",
       " 'time': 15626,\n",
       " 'Enjoyed': 1744,\n",
       " 'date': 7950,\n",
       " 'hubby': 10323,\n",
       " 'Try': 4935,\n",
       " 'gluten': 9703,\n",
       " 'free': 9440,\n",
       " 'Mmmmmmm': 3255,\n",
       " 'Not': 3447,\n",
       " 'any': 5764,\n",
       " 'SBUX': 4148,\n",
       " 'going': 9721,\n",
       " 'way': 16384,\n",
       " 'skipping': 14431,\n",
       " 'experienced': 8947,\n",
       " 'each': 8571,\n",
       " 'dang': 7931,\n",
       " 'poor': 12833,\n",
       " 'seem': 14115,\n",
       " 'quite': 13258,\n",
       " 'cold': 7300,\n",
       " 'noon': 11999,\n",
       " 'during': 8557,\n",
       " 'break': 6557,\n",
       " 'walked': 16310,\n",
       " 'rang': 13305,\n",
       " 'bell': 6276,\n",
       " 'counter': 7672,\n",
       " 'No': 3422,\n",
       " 'waited': 16293,\n",
       " 'again': 5574,\n",
       " 'Nobody': 3424,\n",
       " 'third': 15554,\n",
       " 'having': 10056,\n",
       " 'unable': 15927,\n",
       " 'less': 11080,\n",
       " 'Pathetic': 3696,\n",
       " 'birthday': 6346,\n",
       " 'falls': 9049,\n",
       " 'right': 13745,\n",
       " 'Mother': 3295,\n",
       " 'Which': 5227,\n",
       " 'means': 11511,\n",
       " 'want': 16328,\n",
       " 'eat': 8595,\n",
       " 'packed': 12332,\n",
       " 'celebrate': 6950,\n",
       " 'Saturday': 4271,\n",
       " 'still': 14954,\n",
       " 'ahead': 5596,\n",
       " 'earliest': 8577,\n",
       " 'reservation': 13629,\n",
       " 'person': 12581,\n",
       " 'phone': 12619,\n",
       " 'said': 13894,\n",
       " 'down': 8434,\n",
       " 'fit': 9229,\n",
       " 'us': 16101,\n",
       " 'So': 4454,\n",
       " 'sat': 13954,\n",
       " 'maybe': 11498,\n",
       " '20': 96,\n",
       " 'IN': 2507,\n",
       " 'YOUR': 5303,\n",
       " 'FACE': 1814,\n",
       " 'CHAIN': 980,\n",
       " 'RESTAURANTS': 3947,\n",
       " 'beers': 6243,\n",
       " 'small': 14503,\n",
       " 'appetizer': 5810,\n",
       " 'salami': 13901,\n",
       " 'These': 4818,\n",
       " 'everything': 8870,\n",
       " 'And': 432,\n",
       " 'wait': 16292,\n",
       " 'damn': 7921,\n",
       " 'attentive': 5994,\n",
       " 'hostess': 10289,\n",
       " 'heard': 10083,\n",
       " 'passed': 12439,\n",
       " 'waitress': 16299,\n",
       " 'super': 15185,\n",
       " 'huge': 10329,\n",
       " 'yummy': 16702,\n",
       " 'meal': 11505,\n",
       " 'ended': 8738,\n",
       " 'delicious': 8076,\n",
       " 'choosing': 7139,\n",
       " 'bread': 6551,\n",
       " 'relish': 13534,\n",
       " 'tray': 15799,\n",
       " 'more': 11770,\n",
       " 'partners': 12432,\n",
       " 'crime': 7791,\n",
       " 'wanted': 16329,\n",
       " 'spinach': 14765,\n",
       " 'artichoke': 5887,\n",
       " 'dip': 8253,\n",
       " 'soooo': 14651,\n",
       " 'My': 3324,\n",
       " 'steak': 14914,\n",
       " 'SOFT': 4185,\n",
       " 'cooked': 7589,\n",
       " 'exactly': 8881,\n",
       " 'true': 15847,\n",
       " 'Asparagus': 528,\n",
       " 'perfectly': 12556,\n",
       " 'pot': 12879,\n",
       " 'pie': 12653,\n",
       " 'soup': 14677,\n",
       " 'expected': 8939,\n",
       " 'Triple': 4926,\n",
       " 'creme': 7783,\n",
       " 'brulee': 6634,\n",
       " 'kahlua': 10824,\n",
       " 'caucasian': 6928,\n",
       " 'chocolate': 7126,\n",
       " 'managed': 11381,\n",
       " 'chocolately': 7127,\n",
       " 'rich': 13728,\n",
       " 'mixed': 11699,\n",
       " 'berry': 6302,\n",
       " 'fabulous': 9009,\n",
       " 'normal': 12005,\n",
       " 'rasberry': 13317,\n",
       " 'human': 10334,\n",
       " 'Yes': 5330,\n",
       " 'easily': 8590,\n",
       " 'meals': 11506,\n",
       " 'dish': 8309,\n",
       " 'Especially': 1763,\n",
       " 'presented': 12968,\n",
       " 'before': 6248,\n",
       " 'cozy': 7722,\n",
       " 'wierd': 16490,\n",
       " 'personal': 12583,\n",
       " 'space': 14694,\n",
       " 'probably': 13037,\n",
       " 'Overall': 3578,\n",
       " 'opportunity': 12180,\n",
       " 'Really': 3997,\n",
       " 'breakfast': 6558,\n",
       " 'burritos': 6712,\n",
       " 'Mexican': 3199,\n",
       " 'style': 15091,\n",
       " 'ham': 9973,\n",
       " 'egg': 8643,\n",
       " 'burrito': 6711,\n",
       " 'comes': 7337,\n",
       " 'tortilla': 15709,\n",
       " 'inexpensive': 10523,\n",
       " 'work': 16579,\n",
       " 'mile': 11634,\n",
       " 'least': 11034,\n",
       " 'once': 12146,\n",
       " 'week': 16407,\n",
       " 'met': 11591,\n",
       " 'some': 14623,\n",
       " 'dinner': 8251,\n",
       " 'end': 8734,\n",
       " 'October': 3512,\n",
       " 'mental': 11561,\n",
       " 'note': 12019,\n",
       " 'write': 16626,\n",
       " 'later': 10982,\n",
       " 'signed': 14344,\n",
       " 'onto': 12155,\n",
       " 'Our': 3570,\n",
       " 'group': 9878,\n",
       " 'hadn': 9952,\n",
       " 'seen': 14119,\n",
       " 'other': 12225,\n",
       " 'Busy': 952,\n",
       " 'catching': 6918,\n",
       " 'open': 12163,\n",
       " 'impressed': 10445,\n",
       " 'her': 10134,\n",
       " 'name': 11872,\n",
       " 'might': 11626,\n",
       " 'Mel': 3180,\n",
       " 'coming': 7347,\n",
       " 'nicest': 11956,\n",
       " 'check': 7047,\n",
       " 'interrupt': 10642,\n",
       " 'conversation': 7578,\n",
       " 'She': 4363,\n",
       " 'letting': 11088,\n",
       " 'finally': 9191,\n",
       " 'Separate': 4336,\n",
       " 'checks': 7053,\n",
       " 'Terrific': 4794,\n",
       " 'That': 4809,\n",
       " 'needed': 11912,\n",
       " 'read': 13354,\n",
       " 'all': 5638,\n",
       " 'high': 10163,\n",
       " 'calorie': 6799,\n",
       " 'comfort': 7338,\n",
       " 'variety': 16150,\n",
       " 'nice': 11953,\n",
       " 'surprise': 15222,\n",
       " 'able': 5394,\n",
       " 'substitutions': 15114,\n",
       " 'sides': 14333,\n",
       " 'entree': 8789,\n",
       " 'sorry': 14662,\n",
       " 'lone': 11232,\n",
       " 'star': 14875,\n",
       " 'Either': 1713,\n",
       " 'worst': 16599,\n",
       " 'day': 7958,\n",
       " 'history': 10196,\n",
       " 'everyone': 8868,\n",
       " 'drank': 8458,\n",
       " 'Koolaid': 2773,\n",
       " 'different': 8219,\n",
       " 'expectations': 8938,\n",
       " 'buds': 6669,\n",
       " 'idea': 10397,\n",
       " 'build': 6677,\n",
       " 'burger': 6702,\n",
       " 'joint': 10779,\n",
       " '00': 0,\n",
       " 'sauces': 13965,\n",
       " 'choices': 7133,\n",
       " 'claim': 7190,\n",
       " 'local': 11207,\n",
       " 'hormone': 10270,\n",
       " 'etcetera': 8840,\n",
       " 'chose': 7148,\n",
       " 'rare': 13313,\n",
       " 'American': 419,\n",
       " 'grilled': 9847,\n",
       " 'onions': 12150,\n",
       " 'sauteed': 13973,\n",
       " 'mushrooms': 11839,\n",
       " 'tomato': 15673,\n",
       " 'lettuce': 11089,\n",
       " 'mayo': 11499,\n",
       " 'mustard': 11848,\n",
       " 'potato': 12880,\n",
       " 'bun': 6693,\n",
       " 'added': 5491,\n",
       " 'bacon': 6076,\n",
       " 'dollar': 8392,\n",
       " 'First': 1935,\n",
       " 'let': 11084,\n",
       " 'point': 12791,\n",
       " 'hurry': 10361,\n",
       " 'DON': 1457,\n",
       " 'GO': 2066,\n",
       " 'HERE': 2263,\n",
       " 'TO': 4702,\n",
       " 'EAT': 1657,\n",
       " '39': 157,\n",
       " 'deal': 7973,\n",
       " 'warned': 16345,\n",
       " 'ran': 13299,\n",
       " 'credit': 7776,\n",
       " 'card': 6857,\n",
       " 'lunch': 11301,\n",
       " 'full': 9524,\n",
       " 'magazines': 11331,\n",
       " 'jukebox': 10804,\n",
       " 'ANYTHING': 313,\n",
       " 'entertain': 8775,\n",
       " 'sip': 14383,\n",
       " 'At': 532,\n",
       " 'minute': 11669,\n",
       " 'mark': 11430,\n",
       " 'cardboard': 6859,\n",
       " 'ketchup': 10841,\n",
       " 'tastes': 15385,\n",
       " 'Anyway': 463,\n",
       " 'lady': 10939,\n",
       " 'behind': 6264,\n",
       " 'saying': 13990,\n",
       " 'orders': 12203,\n",
       " 'overwhelmed': 12303,\n",
       " 'look': 11241,\n",
       " 'ONE': 3480,\n",
       " 'GUY': 2084,\n",
       " 'TRYING': 4718,\n",
       " 'DO': 1453,\n",
       " 'ALL': 294,\n",
       " 'THIS': 4691,\n",
       " 'getting': 9642,\n",
       " 'share': 14212,\n",
       " 'profits': 13071,\n",
       " 'Now': 3456,\n",
       " 'jsut': 10792,\n",
       " 'feeling': 9126,\n",
       " 'bad': 6078,\n",
       " 'YAY': 5294,\n",
       " 'SO': 4184,\n",
       " 'excited': 8903,\n",
       " 'All': 389,\n",
       " 'reviews': 13710,\n",
       " 'bite': 6355,\n",
       " 'patty': 12480,\n",
       " 'shoots': 14271,\n",
       " 'side': 14331,\n",
       " 'shot': 14287,\n",
       " 'cannon': 6828,\n",
       " 'WTH': 5145,\n",
       " 'clean': 7204,\n",
       " 'whistle': 16466,\n",
       " 'mean': 11508,\n",
       " 'smeared': 14513,\n",
       " 'turn': 15879,\n",
       " 'over': 12263,\n",
       " 'slides': 14469,\n",
       " 'fingers': 9206,\n",
       " 'basket': 6178,\n",
       " 'freakin': 9437,\n",
       " 'greasy': 9824,\n",
       " 'slid': 14465,\n",
       " 'Then': 4815,\n",
       " 'glop': 9695,\n",
       " 'Still': 4580,\n",
       " 'seeing': 14113,\n",
       " 'anywhere': 5775,\n",
       " 'Just': 2688,\n",
       " 'oil': 12121,\n",
       " 'Tons': 4878,\n",
       " 'tons': 15685,\n",
       " 'On': 3537,\n",
       " 'heavily': 10102,\n",
       " 'oiled': 12122,\n",
       " 'slick': 14464,\n",
       " 'glued': 9702,\n",
       " 'guessing': 9906,\n",
       " 'slice': 14460,\n",
       " 'residue': 13636,\n",
       " 'grossed': 9874,\n",
       " 'hungry': 10353,\n",
       " 'oddly': 12094,\n",
       " 'faintly': 9032,\n",
       " 'liver': 11186,\n",
       " 'BTW': 626,\n",
       " 'remember': 13550,\n",
       " 'paid': 12342,\n",
       " 'puzzled': 13218,\n",
       " 'instead': 10603,\n",
       " 'SOMETHING': 4188,\n",
       " 'faint': 9031,\n",
       " 'livery': 11188,\n",
       " 'another': 5746,\n",
       " 'There': 4816,\n",
       " 'isn': 10711,\n",
       " 'salt': 13915,\n",
       " 'pepper': 12540,\n",
       " 'anything': 5770,\n",
       " 'perhaps': 12563,\n",
       " 'grade': 9777,\n",
       " 'meat': 11518,\n",
       " 'available': 6030,\n",
       " 'consumption': 7538,\n",
       " 'second': 14093,\n",
       " 'memory': 11557,\n",
       " 'company': 7378,\n",
       " 'recognize': 13414,\n",
       " 'ate': 5966,\n",
       " 'Two': 4959,\n",
       " 'Hippies': 2408,\n",
       " 'dairy': 7918,\n",
       " 'cow': 7712,\n",
       " 'EXACTLY': 1675,\n",
       " 'shriveled': 14315,\n",
       " 'DARK': 1419,\n",
       " 'fried': 9465,\n",
       " 'microwaved': 11618,\n",
       " 'Forget': 1978,\n",
       " 'danged': 7932,\n",
       " 'car': 6851,\n",
       " 'Exactly': 1792,\n",
       " 'hour': 10302,\n",
       " 'vicious': 16214,\n",
       " 'diarrhea': 8198,\n",
       " 'haven': 10055,\n",
       " 'trouble': 15842,\n",
       " 'junk': 10811,\n",
       " 'fair': 9033,\n",
       " 'NO': 3344,\n",
       " 'thousand': 15569,\n",
       " 'Red': 4006,\n",
       " 'Robin': 4086,\n",
       " 'next': 11950,\n",
       " 'stop': 14985,\n",
       " 'Period': 3740,\n",
       " 'significant': 14346,\n",
       " '25': 121,\n",
       " 'coupon': 7687,\n",
       " 'Restaurant': 4036,\n",
       " 'com': 7325,\n",
       " 'LOL': 2820,\n",
       " 'sum': 15163,\n",
       " 'whole': 16472,\n",
       " 'trip': 15833,\n",
       " 'restaurants': 13661,\n",
       " 'participate': 12424,\n",
       " 'decent': 8002,\n",
       " 'wasn': 16361,\n",
       " 'expecting': 8940,\n",
       " 'shouldn': 14292,\n",
       " 'mood': 11765,\n",
       " 'red': 13431,\n",
       " 'sushi': 15233,\n",
       " 'dishes': 8310,\n",
       " 'teriyaki': 15474,\n",
       " 'stuff': 15074,\n",
       " 'checking': 7051,\n",
       " 'since': 14368,\n",
       " 'boolgogee': 6468,\n",
       " 'plain': 12720,\n",
       " 'salad': 13899,\n",
       " 'nearly': 11903,\n",
       " 'warrant': 16348,\n",
       " 'tag': 15323,\n",
       " 'rice': 13726,\n",
       " 'cost': 7649,\n",
       " '50': 195,\n",
       " 'happened': 10004,\n",
       " 'either': 8654,\n",
       " 'spicy': 14756,\n",
       " 'By': 960,\n",
       " 'same': 13921,\n",
       " 'overwhelming': 12304,\n",
       " 'bites': 6356,\n",
       " 'After': 357,\n",
       " 'roll': 13795,\n",
       " 'honestly': 10241,\n",
       " 'rip': 13755,\n",
       " 'considering': 7513,\n",
       " 'cheaper': 7042,\n",
       " 'higher': 10164,\n",
       " 'quality': 13226,\n",
       " 'Teharu': 4778,\n",
       " 'opinion': 12176,\n",
       " 'Its': 2589,\n",
       " 'hefty': 10114,\n",
       " 'sad': 13883,\n",
       " 'part': 12422,\n",
       " 'interior': 10635,\n",
       " 'extremely': 8994,\n",
       " 'interesting': 10634,\n",
       " 'Love': 2962,\n",
       " 'Friendly': 2022,\n",
       " 'treat': 15806,\n",
       " 'cooking': 7594,\n",
       " 'weekend': 16410,\n",
       " 'standing': 14869,\n",
       " 'meet': 11537,\n",
       " 'new': 11941,\n",
       " 'talk': 15340,\n",
       " 'ones': 12148,\n",
       " 'Ask': 526,\n",
       " 'Kiersten': 2741,\n",
       " 'cortadito': 7644,\n",
       " 'completed': 7415,\n",
       " 'tour': 15726,\n",
       " 'Taste': 4760,\n",
       " 'Tours': 4898,\n",
       " 'tours': 15730,\n",
       " 'distinct': 8345,\n",
       " 'loaded': 11196,\n",
       " 'spent': 14747,\n",
       " 'downtown': 8443,\n",
       " 'daunting': 7956,\n",
       " 'ventured': 16185,\n",
       " 'explore': 8966,\n",
       " 'things': 15547,\n",
       " 'whiz': 16469,\n",
       " 'give': 9668,\n",
       " 'yes': 16671,\n",
       " 'Phoenix': 3762,\n",
       " 'overall': 12264,\n",
       " 'slow': 14495,\n",
       " 'sights': 14339,\n",
       " 'sounds': 14675,\n",
       " 'course': 7690,\n",
       " 'Can': 1040,\n",
       " 'Start': 4560,\n",
       " 'Original': 3563,\n",
       " 'warehouse': 16334,\n",
       " 'Tips': 4854,\n",
       " ...}"
      ]
     },
     "execution_count": 25,
     "metadata": {},
     "output_type": "execute_result"
    }
   ],
   "source": [
    "# Return a list of every word in the corpus, with its index position in the bag-of-words\n",
    "#contains 16,825 unique words.\n",
    "vect.vocabulary_"
   ]
  },
  {
   "cell_type": "code",
   "execution_count": 28,
   "metadata": {},
   "outputs": [
    {
     "name": "stdout",
     "output_type": "stream",
     "text": [
      "['ziploc', 'zipper', 'zone', 'zoning', 'zoo', 'zucchini', 'zuchinni', 'zupa', 'zwiebel', 'ém']\n"
     ]
    }
   ],
   "source": [
    "# Last 10 features\n",
    "print((vect.get_feature_names()[-10:]))"
   ]
  },
  {
   "cell_type": "code",
   "execution_count": 27,
   "metadata": {},
   "outputs": [
    {
     "data": {
      "text/plain": [
       "CountVectorizer(analyzer='word', binary=False, decode_error='strict',\n",
       "        dtype=<class 'numpy.int64'>, encoding='utf-8', input='content',\n",
       "        lowercase=False, max_df=1.0, max_features=None, min_df=1,\n",
       "        ngram_range=(1, 1), preprocessor=None, stop_words=None,\n",
       "        strip_accents=None, token_pattern='(?u)\\\\b\\\\w\\\\w+\\\\b',\n",
       "        tokenizer=None, vocabulary=None)"
      ]
     },
     "execution_count": 27,
     "metadata": {},
     "output_type": "execute_result"
    }
   ],
   "source": [
    "# Show vectorizer options.\n",
    "vect"
   ]
  },
  {
   "cell_type": "markdown",
   "metadata": {},
   "source": [
    "**3. Apply a standard machine learning classifier**\n",
    "\n",
    "Use Logistic Regression to predict the star rating\n"
   ]
  },
  {
   "cell_type": "code",
   "execution_count": 141,
   "metadata": {},
   "outputs": [
    {
     "data": {
      "text/plain": [
       "LogisticRegression(C=1.0, class_weight=None, dual=False, fit_intercept=True,\n",
       "          intercept_scaling=1, max_iter=100, multi_class='warn',\n",
       "          n_jobs=None, penalty='l2', random_state=None, solver='warn',\n",
       "          tol=0.0001, verbose=0, warm_start=False)"
      ]
     },
     "execution_count": 141,
     "metadata": {},
     "output_type": "execute_result"
    }
   ],
   "source": [
    "logreg = LogisticRegression()\n",
    "logreg.fit(X_train_s, y_train)\n"
   ]
  },
  {
   "cell_type": "code",
   "execution_count": 142,
   "metadata": {},
   "outputs": [
    {
     "data": {
      "text/plain": [
       "1.0"
      ]
     },
     "execution_count": 142,
     "metadata": {},
     "output_type": "execute_result"
    }
   ],
   "source": [
    "#Predictions\n",
    "y_pred = logreg.predict(X_test_s)\n",
    "\n",
    "#Accuracy\n",
    "logreg.score(X_test_s, y_pred)"
   ]
  },
  {
   "cell_type": "code",
   "execution_count": 139,
   "metadata": {},
   "outputs": [
    {
     "name": "stdout",
     "output_type": "stream",
     "text": [
      "Test Accuracy: 0.864\n"
     ]
    }
   ],
   "source": [
    "# Classification accuracy on the test dataset\n",
    "\n",
    "print('Test Accuracy: %.3f' % logreg.score(X_test, y_test))"
   ]
  },
  {
   "cell_type": "code",
   "execution_count": 40,
   "metadata": {},
   "outputs": [
    {
     "data": {
      "text/plain": [
       "5    1688\n",
       "1     355\n",
       "Name: stars, dtype: int64"
      ]
     },
     "execution_count": 40,
     "metadata": {},
     "output_type": "execute_result"
    }
   ],
   "source": [
    "y_test.value_counts()"
   ]
  },
  {
   "cell_type": "markdown",
   "metadata": {},
   "source": [
    "### Other Useful Parameters of CountVectorizer():\n",
    "\n",
    "Include **1-grams and 2-grams** (both single and two independent features) \n",
    " - ngram_range = (min_n, max_n)"
   ]
  },
  {
   "cell_type": "code",
   "execution_count": 46,
   "metadata": {},
   "outputs": [
    {
     "data": {
      "text/plain": [
       "(2043, 125457)"
      ]
     },
     "execution_count": 46,
     "metadata": {},
     "output_type": "execute_result"
    }
   ],
   "source": [
    "vect = CountVectorizer(ngram_range=(1, 2))\n",
    "X_train_s = vect.fit_transform(X_train)\n",
    "X_train_s.shape"
   ]
  },
  {
   "cell_type": "code",
   "execution_count": 49,
   "metadata": {},
   "outputs": [
    {
     "name": "stdout",
     "output_type": "stream",
     "text": [
      "['zupas cater', 'zuzu', 'zuzu in', 'zuzu is', 'zuzu the', 'zuzu was', 'zwiebel', 'zwiebel kräuter', 'ém', 'ém all']\n"
     ]
    }
   ],
   "source": [
    "# Last 10 features\n",
    "print((vect.get_feature_names()[-10:]))"
   ]
  },
  {
   "cell_type": "markdown",
   "metadata": {},
   "source": [
    "Remove **stop words** and limit **max_features=1000**"
   ]
  },
  {
   "cell_type": "code",
   "execution_count": 59,
   "metadata": {},
   "outputs": [
    {
     "data": {
      "text/plain": [
       "(2043, 100000)"
      ]
     },
     "execution_count": 59,
     "metadata": {},
     "output_type": "execute_result"
    }
   ],
   "source": [
    "vect = CountVectorizer(ngram_range=(1, 2), stop_words='english', max_features=100000)\n",
    "X_train_s = vect.fit_transform(X_train)\n",
    "X_train_s.shape"
   ]
  },
  {
   "cell_type": "markdown",
   "metadata": {},
   "source": [
    "The preprocessor option **preprocessor=stemmer** for stemming ie to reduce  words to their base/stem/root form:"
   ]
  },
  {
   "cell_type": "code",
   "execution_count": 64,
   "metadata": {},
   "outputs": [
    {
     "data": {
      "text/plain": [
       "CountVectorizer(analyzer='word', binary=False, decode_error='strict',\n",
       "        dtype=<class 'numpy.int64'>, encoding='utf-8', input='content',\n",
       "        lowercase=True, max_df=1.0, max_features=100000, min_df=1,\n",
       "        ngram_range=(1, 2),\n",
       "        preprocessor=<nltk.stem.snowball.SnowballStemmer object at 0x00000296A73EAD68>,\n",
       "        stop_words='english', strip_accents=None,\n",
       "        token_pattern='(?u)\\\\b\\\\w\\\\w+\\\\b', tokenizer=None, vocabulary=None)"
      ]
     },
     "execution_count": 64,
     "metadata": {},
     "output_type": "execute_result"
    }
   ],
   "source": [
    "def stemmer(text):\n",
    "    stemmer = SnowballStemmer('english')\n",
    "    return [stemmer.stem(word) for word in text.split()]\n",
    "\n",
    "vect.set_params(preprocessor=SnowballStemmer('english'))\n"
   ]
  },
  {
   "cell_type": "code",
   "execution_count": 184,
   "metadata": {},
   "outputs": [
    {
     "data": {
      "text/plain": [
       "['day', 'like', 'pass,', 'tomorrow', 'anoth', 'day']"
      ]
     },
     "execution_count": 184,
     "metadata": {},
     "output_type": "execute_result"
    }
   ],
   "source": [
    "from nltk.corpus import stopwords\n",
    "stop = stopwords.words('english')\n",
    "\n",
    "[w for w in stemmer('a day likes this pass, tomorrow is another day')[-10:] if w not in stop]"
   ]
  },
  {
   "cell_type": "code",
   "execution_count": 65,
   "metadata": {},
   "outputs": [
    {
     "data": {
      "text/plain": [
       "CountVectorizer(analyzer='word', binary=False, decode_error='strict',\n",
       "        dtype=<class 'numpy.int64'>, encoding='utf-8', input='content',\n",
       "        lowercase=True, max_df=1.0, max_features=100000, min_df=1,\n",
       "        ngram_range=(1, 2),\n",
       "        preprocessor=<nltk.stem.snowball.SnowballStemmer object at 0x00000296A73EAD68>,\n",
       "        stop_words='english', strip_accents=None,\n",
       "        token_pattern='(?u)\\\\b\\\\w\\\\w+\\\\b', tokenizer=None, vocabulary=None)"
      ]
     },
     "execution_count": 65,
     "metadata": {},
     "output_type": "execute_result"
    }
   ],
   "source": [
    "# Check the preprocessor option\n",
    "vect"
   ]
  },
  {
   "cell_type": "code",
   "execution_count": 108,
   "metadata": {},
   "outputs": [],
   "source": [
    "vect = CountVectorizer(ngram_range=(1, 2), stop_words='english', max_features=100000)\n",
    "X_train_s = vect.fit_transform(X_train)\n",
    "X_test_s = vect.transform(X_test) "
   ]
  },
  {
   "cell_type": "code",
   "execution_count": 109,
   "metadata": {},
   "outputs": [
    {
     "name": "stdout",
     "output_type": "stream",
     "text": [
      "['zupas', 'zupas cater', 'zuzu', 'zuzu downtown', 'zuzu far', 'zuzu good', 'zuzu ultimate', 'zwiebel', 'zwiebel kräuter', 'ém']\n"
     ]
    }
   ],
   "source": [
    "# Last 10 features\n",
    "print((vect.get_feature_names()[-10:]))"
   ]
  },
  {
   "cell_type": "markdown",
   "metadata": {},
   "source": [
    "**CountVectorizer** returns the word (term) frequencies:"
   ]
  },
  {
   "cell_type": "code",
   "execution_count": 110,
   "metadata": {},
   "outputs": [
    {
     "data": {
      "text/html": [
       "<div>\n",
       "<style scoped>\n",
       "    .dataframe tbody tr th:only-of-type {\n",
       "        vertical-align: middle;\n",
       "    }\n",
       "\n",
       "    .dataframe tbody tr th {\n",
       "        vertical-align: top;\n",
       "    }\n",
       "\n",
       "    .dataframe thead th {\n",
       "        text-align: right;\n",
       "    }\n",
       "</style>\n",
       "<table border=\"1\" class=\"dataframe\">\n",
       "  <thead>\n",
       "    <tr style=\"text-align: right;\">\n",
       "      <th></th>\n",
       "      <th>zupas</th>\n",
       "      <th>zupas cater</th>\n",
       "      <th>zuzu</th>\n",
       "      <th>zuzu downtown</th>\n",
       "      <th>zuzu far</th>\n",
       "      <th>zuzu good</th>\n",
       "      <th>zuzu ultimate</th>\n",
       "      <th>zwiebel</th>\n",
       "      <th>zwiebel kräuter</th>\n",
       "      <th>ém</th>\n",
       "    </tr>\n",
       "  </thead>\n",
       "  <tbody>\n",
       "    <tr>\n",
       "      <th>2038</th>\n",
       "      <td>0</td>\n",
       "      <td>0</td>\n",
       "      <td>0</td>\n",
       "      <td>0</td>\n",
       "      <td>0</td>\n",
       "      <td>0</td>\n",
       "      <td>0</td>\n",
       "      <td>0</td>\n",
       "      <td>0</td>\n",
       "      <td>0</td>\n",
       "    </tr>\n",
       "    <tr>\n",
       "      <th>2039</th>\n",
       "      <td>0</td>\n",
       "      <td>0</td>\n",
       "      <td>0</td>\n",
       "      <td>0</td>\n",
       "      <td>0</td>\n",
       "      <td>0</td>\n",
       "      <td>0</td>\n",
       "      <td>0</td>\n",
       "      <td>0</td>\n",
       "      <td>0</td>\n",
       "    </tr>\n",
       "    <tr>\n",
       "      <th>2040</th>\n",
       "      <td>0</td>\n",
       "      <td>0</td>\n",
       "      <td>0</td>\n",
       "      <td>0</td>\n",
       "      <td>0</td>\n",
       "      <td>0</td>\n",
       "      <td>0</td>\n",
       "      <td>0</td>\n",
       "      <td>0</td>\n",
       "      <td>0</td>\n",
       "    </tr>\n",
       "    <tr>\n",
       "      <th>2041</th>\n",
       "      <td>0</td>\n",
       "      <td>0</td>\n",
       "      <td>0</td>\n",
       "      <td>0</td>\n",
       "      <td>0</td>\n",
       "      <td>0</td>\n",
       "      <td>0</td>\n",
       "      <td>0</td>\n",
       "      <td>0</td>\n",
       "      <td>0</td>\n",
       "    </tr>\n",
       "    <tr>\n",
       "      <th>2042</th>\n",
       "      <td>0</td>\n",
       "      <td>0</td>\n",
       "      <td>0</td>\n",
       "      <td>0</td>\n",
       "      <td>0</td>\n",
       "      <td>0</td>\n",
       "      <td>0</td>\n",
       "      <td>0</td>\n",
       "      <td>0</td>\n",
       "      <td>0</td>\n",
       "    </tr>\n",
       "  </tbody>\n",
       "</table>\n",
       "</div>"
      ],
      "text/plain": [
       "      zupas  zupas cater  zuzu  zuzu downtown  zuzu far  zuzu good  \\\n",
       "2038      0            0     0              0         0          0   \n",
       "2039      0            0     0              0         0          0   \n",
       "2040      0            0     0              0         0          0   \n",
       "2041      0            0     0              0         0          0   \n",
       "2042      0            0     0              0         0          0   \n",
       "\n",
       "      zuzu ultimate  zwiebel  zwiebel kräuter  ém  \n",
       "2038              0        0                0   0  \n",
       "2039              0        0                0   0  \n",
       "2040              0        0                0   0  \n",
       "2041              0        0                0   0  \n",
       "2042              0        0                0   0  "
      ]
     },
     "execution_count": 110,
     "metadata": {},
     "output_type": "execute_result"
    }
   ],
   "source": [
    "tf = pd.DataFrame(vect.fit_transform(X_train).toarray(), columns=vect.get_feature_names())\n",
    "tf[tf.columns[-10:]][-5:]"
   ]
  },
  {
   "cell_type": "code",
   "execution_count": 111,
   "metadata": {},
   "outputs": [
    {
     "data": {
      "text/plain": [
       "1.0"
      ]
     },
     "execution_count": 111,
     "metadata": {},
     "output_type": "execute_result"
    }
   ],
   "source": [
    "logreg = LogisticRegression()\n",
    "logreg.fit(X_train_s, y_train)\n",
    "\n",
    "#Predictions\n",
    "y_pred = logreg.predict(X_test_s)\n",
    "logreg.score(X_test_s, y_pred)\n"
   ]
  },
  {
   "cell_type": "markdown",
   "metadata": {},
   "source": [
    "Assessing word relevancy via term frequency-inverse document frequency\n",
    "\n",
    "**TF-IDF Vectorizer** is another vectorizer that not only counts the unique words in a text (tf - \"term frequency\") but it analyzes the uniqueness of words between documents to find distinguishing characteristics (the \"relative frequency\")"
   ]
  },
  {
   "cell_type": "code",
   "execution_count": 125,
   "metadata": {},
   "outputs": [],
   "source": [
    "# TfidfVectorizer\n",
    "vect2 = TfidfVectorizer(stop_words='english', preprocessor=None)\n",
    "tfidf = pd.DataFrame(vect2.fit_transform(X_train).toarray(), columns=vect.get_feature_names())"
   ]
  },
  {
   "cell_type": "code",
   "execution_count": 126,
   "metadata": {},
   "outputs": [
    {
     "data": {
      "text/plain": [
       "(2043, 13393)"
      ]
     },
     "execution_count": 126,
     "metadata": {},
     "output_type": "execute_result"
    }
   ],
   "source": [
    "X_train_s2 = vect2.fit_transform(X_train)\n",
    "X_train_s2.shape"
   ]
  },
  {
   "cell_type": "code",
   "execution_count": 127,
   "metadata": {},
   "outputs": [
    {
     "data": {
      "text/html": [
       "<div>\n",
       "<style scoped>\n",
       "    .dataframe tbody tr th:only-of-type {\n",
       "        vertical-align: middle;\n",
       "    }\n",
       "\n",
       "    .dataframe tbody tr th {\n",
       "        vertical-align: top;\n",
       "    }\n",
       "\n",
       "    .dataframe thead th {\n",
       "        text-align: right;\n",
       "    }\n",
       "</style>\n",
       "<table border=\"1\" class=\"dataframe\">\n",
       "  <thead>\n",
       "    <tr style=\"text-align: right;\">\n",
       "      <th></th>\n",
       "      <th>zoyo</th>\n",
       "      <th>zucca</th>\n",
       "      <th>zucchini</th>\n",
       "      <th>zuchinni</th>\n",
       "      <th>zumba</th>\n",
       "      <th>zupa</th>\n",
       "      <th>zupas</th>\n",
       "      <th>zuzu</th>\n",
       "      <th>zwiebel</th>\n",
       "      <th>ém</th>\n",
       "    </tr>\n",
       "  </thead>\n",
       "  <tbody>\n",
       "    <tr>\n",
       "      <th>2038</th>\n",
       "      <td>0.0</td>\n",
       "      <td>0.0</td>\n",
       "      <td>0.0</td>\n",
       "      <td>0.0</td>\n",
       "      <td>0.0</td>\n",
       "      <td>0.0</td>\n",
       "      <td>0.0</td>\n",
       "      <td>0.0</td>\n",
       "      <td>0.0</td>\n",
       "      <td>0.0</td>\n",
       "    </tr>\n",
       "    <tr>\n",
       "      <th>2039</th>\n",
       "      <td>0.0</td>\n",
       "      <td>0.0</td>\n",
       "      <td>0.0</td>\n",
       "      <td>0.0</td>\n",
       "      <td>0.0</td>\n",
       "      <td>0.0</td>\n",
       "      <td>0.0</td>\n",
       "      <td>0.0</td>\n",
       "      <td>0.0</td>\n",
       "      <td>0.0</td>\n",
       "    </tr>\n",
       "    <tr>\n",
       "      <th>2040</th>\n",
       "      <td>0.0</td>\n",
       "      <td>0.0</td>\n",
       "      <td>0.0</td>\n",
       "      <td>0.0</td>\n",
       "      <td>0.0</td>\n",
       "      <td>0.0</td>\n",
       "      <td>0.0</td>\n",
       "      <td>0.0</td>\n",
       "      <td>0.0</td>\n",
       "      <td>0.0</td>\n",
       "    </tr>\n",
       "    <tr>\n",
       "      <th>2041</th>\n",
       "      <td>0.0</td>\n",
       "      <td>0.0</td>\n",
       "      <td>0.0</td>\n",
       "      <td>0.0</td>\n",
       "      <td>0.0</td>\n",
       "      <td>0.0</td>\n",
       "      <td>0.0</td>\n",
       "      <td>0.0</td>\n",
       "      <td>0.0</td>\n",
       "      <td>0.0</td>\n",
       "    </tr>\n",
       "    <tr>\n",
       "      <th>2042</th>\n",
       "      <td>0.0</td>\n",
       "      <td>0.0</td>\n",
       "      <td>0.0</td>\n",
       "      <td>0.0</td>\n",
       "      <td>0.0</td>\n",
       "      <td>0.0</td>\n",
       "      <td>0.0</td>\n",
       "      <td>0.0</td>\n",
       "      <td>0.0</td>\n",
       "      <td>0.0</td>\n",
       "    </tr>\n",
       "  </tbody>\n",
       "</table>\n",
       "</div>"
      ],
      "text/plain": [
       "      zoyo  zucca  zucchini  zuchinni  zumba  zupa  zupas  zuzu  zwiebel   ém\n",
       "2038   0.0    0.0       0.0       0.0    0.0   0.0    0.0   0.0      0.0  0.0\n",
       "2039   0.0    0.0       0.0       0.0    0.0   0.0    0.0   0.0      0.0  0.0\n",
       "2040   0.0    0.0       0.0       0.0    0.0   0.0    0.0   0.0      0.0  0.0\n",
       "2041   0.0    0.0       0.0       0.0    0.0   0.0    0.0   0.0      0.0  0.0\n",
       "2042   0.0    0.0       0.0       0.0    0.0   0.0    0.0   0.0      0.0  0.0"
      ]
     },
     "execution_count": 127,
     "metadata": {},
     "output_type": "execute_result"
    }
   ],
   "source": [
    "tfidf[tf_idf.columns[-10:]][-5:]"
   ]
  },
  {
   "cell_type": "code",
   "execution_count": 187,
   "metadata": {},
   "outputs": [],
   "source": [
    "pipe = Pipeline([('vect', vect2), ('lg', LogisticRegression(random_state=1))])\n"
   ]
  },
  {
   "cell_type": "code",
   "execution_count": 194,
   "metadata": {},
   "outputs": [],
   "source": [
    "pipe.fit(X_train, y_train)\n",
    "y_pred = pipe_lg.predict(X_test)"
   ]
  },
  {
   "cell_type": "code",
   "execution_count": 195,
   "metadata": {},
   "outputs": [
    {
     "name": "stdout",
     "output_type": "stream",
     "text": [
      "Test Accuracy: 0.864\n"
     ]
    }
   ],
   "source": [
    "# Classification accuracy on the test dataset\n",
    "\n",
    "print('Test Accuracy: %.3f' % pipe.score(X_test, y_test))"
   ]
  },
  {
   "cell_type": "markdown",
   "metadata": {},
   "source": [
    "\n",
    "### Grid Search\n",
    "\n",
    "Initialize Grid Search object and its param_grid using 2 parameter dictionaries: \n",
    "\n",
    "For vectorizer:\n",
    " - In the first dic I used TfidfVectorizer for encoding text\n",
    " - In the second dic I set those parameters to None so I can train a model based on raw term frequencies\n",
    "\n",
    "For the logistic regression. I train models using L2 and L1 and different regularization strengths 1/C"
   ]
  },
  {
   "cell_type": "code",
   "execution_count": 188,
   "metadata": {},
   "outputs": [
    {
     "name": "stdout",
     "output_type": "stream",
     "text": [
      "Fitting 5 folds for each of 48 candidates, totalling 240 fits\n"
     ]
    },
    {
     "name": "stderr",
     "output_type": "stream",
     "text": [
      "[Parallel(n_jobs=-1)]: Using backend LokyBackend with 4 concurrent workers.\n",
      "[Parallel(n_jobs=-1)]: Done  42 tasks      | elapsed:  1.5min\n",
      "[Parallel(n_jobs=-1)]: Done 192 tasks      | elapsed:  6.1min\n",
      "[Parallel(n_jobs=-1)]: Done 240 out of 240 | elapsed:  7.6min finished\n"
     ]
    },
    {
     "data": {
      "text/plain": [
       "GridSearchCV(cv=5, error_score='raise-deprecating',\n",
       "       estimator=Pipeline(memory=None,\n",
       "     steps=[('vect', TfidfVectorizer(analyzer='word', binary=False, decode_error='strict',\n",
       "        dtype=<class 'numpy.float64'>, encoding='utf-8', input='content',\n",
       "        lowercase=True, max_df=1.0, max_features=None, min_df=1,\n",
       "        ngram_range=(1, 1), norm='l2', preprocessor=None, smooth_idf=True,\n",
       "...e, penalty='l2', random_state=1, solver='warn',\n",
       "          tol=0.0001, verbose=0, warm_start=False))]),\n",
       "       fit_params=None, iid='warn', n_jobs=-1,\n",
       "       param_grid=[{'vect__ngram_range': [(1, 1)], 'vect__stop_words': [['i', 'me', 'my', 'myself', 'we', 'our', 'ours', 'ourselves', 'you', \"you're\", \"you've\", \"you'll\", \"you'd\", 'your', 'yours', 'yourself', 'yourselves', 'he', 'him', 'his', 'himself', 'she', \"she's\", 'her', 'hers', 'herself', 'it', \"it's..._use_idf': [False], 'vect__norm': [None], 'lg__penalty': ['l1', 'l2'], 'lg__C': [1.0, 10.0, 100.0]}],\n",
       "       pre_dispatch='2*n_jobs', refit=True, return_train_score='warn',\n",
       "       scoring='accuracy', verbose=1)"
      ]
     },
     "execution_count": 188,
     "metadata": {},
     "output_type": "execute_result"
    }
   ],
   "source": [
    "param_grid = [{'vect__ngram_range': [(1,1)], 'vect__stop_words': [stop, None], 'vect__tokenizer': [stemmer, stemmer], 'lg__penalty': ['l1', 'l2'], 'lg__C': [1.0, 10.0, 100.0]},\n",
    "              {'vect__ngram_range': [(1,1)],'vect__stop_words': [stop, None], 'vect__tokenizer': [stemmer, stemmer],'vect__use_idf':[False],'vect__norm':[None],'lg__penalty': ['l1', 'l2'],'lg__C': [1.0, 10.0, 100.0]}\n",
    "             ]\n",
    "\n",
    "gs = GridSearchCV(pipe, param_grid, scoring='accuracy', cv=5, verbose=1,n_jobs=-1)\n",
    "\n",
    "gs.fit(X_train, y_train)"
   ]
  },
  {
   "cell_type": "code",
   "execution_count": 190,
   "metadata": {},
   "outputs": [
    {
     "data": {
      "text/plain": [
       "{'lg__C': 100.0,\n",
       " 'lg__penalty': 'l2',\n",
       " 'vect__ngram_range': (1, 1),\n",
       " 'vect__stop_words': None,\n",
       " 'vect__tokenizer': <function __main__.stemmer(text)>}"
      ]
     },
     "execution_count": 190,
     "metadata": {},
     "output_type": "execute_result"
    }
   ],
   "source": [
    "gs.best_params_"
   ]
  },
  {
   "cell_type": "code",
   "execution_count": 192,
   "metadata": {},
   "outputs": [
    {
     "data": {
      "text/plain": [
       "0.9187469407733725"
      ]
     },
     "execution_count": 192,
     "metadata": {},
     "output_type": "execute_result"
    }
   ],
   "source": [
    "#5-fold cross-validation accuracy scores on the training set \n",
    "\n",
    "# CV accuracy\n",
    "gs.best_score_"
   ]
  },
  {
   "cell_type": "code",
   "execution_count": 197,
   "metadata": {},
   "outputs": [
    {
     "data": {
      "text/plain": [
       "Pipeline(memory=None,\n",
       "     steps=[('vect', TfidfVectorizer(analyzer='word', binary=False, decode_error='strict',\n",
       "        dtype=<class 'numpy.float64'>, encoding='utf-8', input='content',\n",
       "        lowercase=True, max_df=1.0, max_features=None, min_df=1,\n",
       "        ngram_range=(1, 1), norm='l2', preprocessor=None, smooth_idf=True,\n",
       "...e, penalty='l2', random_state=1, solver='warn',\n",
       "          tol=0.0001, verbose=0, warm_start=False))])"
      ]
     },
     "execution_count": 197,
     "metadata": {},
     "output_type": "execute_result"
    }
   ],
   "source": [
    "gs.best_estimator_"
   ]
  },
  {
   "cell_type": "code",
   "execution_count": 228,
   "metadata": {},
   "outputs": [
    {
     "data": {
      "text/plain": [
       "{'memory': None,\n",
       " 'steps': [('vect',\n",
       "   TfidfVectorizer(analyzer='word', binary=False, decode_error='strict',\n",
       "           dtype=<class 'numpy.float64'>, encoding='utf-8', input='content',\n",
       "           lowercase=True, max_df=1.0, max_features=None, min_df=1,\n",
       "           ngram_range=[(1, 1)], norm='l2', preprocessor=None,\n",
       "           smooth_idf=True, stop_words='english', strip_accents=None,\n",
       "           sublinear_tf=False, token_pattern='(?u)\\\\b\\\\w\\\\w+\\\\b',\n",
       "           tokenizer=None, use_idf=True, vocabulary=None)),\n",
       "  ('lg',\n",
       "   LogisticRegression(C=100.0, class_weight=None, dual=False, fit_intercept=True,\n",
       "             intercept_scaling=1, max_iter=100, multi_class='warn',\n",
       "             n_jobs=None, penalty='l2', random_state=1, solver='warn',\n",
       "             tol=0.0001, verbose=0, warm_start=False))],\n",
       " 'vect': TfidfVectorizer(analyzer='word', binary=False, decode_error='strict',\n",
       "         dtype=<class 'numpy.float64'>, encoding='utf-8', input='content',\n",
       "         lowercase=True, max_df=1.0, max_features=None, min_df=1,\n",
       "         ngram_range=[(1, 1)], norm='l2', preprocessor=None,\n",
       "         smooth_idf=True, stop_words='english', strip_accents=None,\n",
       "         sublinear_tf=False, token_pattern='(?u)\\\\b\\\\w\\\\w+\\\\b',\n",
       "         tokenizer=None, use_idf=True, vocabulary=None),\n",
       " 'lg': LogisticRegression(C=100.0, class_weight=None, dual=False, fit_intercept=True,\n",
       "           intercept_scaling=1, max_iter=100, multi_class='warn',\n",
       "           n_jobs=None, penalty='l2', random_state=1, solver='warn',\n",
       "           tol=0.0001, verbose=0, warm_start=False),\n",
       " 'vect__analyzer': 'word',\n",
       " 'vect__binary': False,\n",
       " 'vect__decode_error': 'strict',\n",
       " 'vect__dtype': numpy.float64,\n",
       " 'vect__encoding': 'utf-8',\n",
       " 'vect__input': 'content',\n",
       " 'vect__lowercase': True,\n",
       " 'vect__max_df': 1.0,\n",
       " 'vect__max_features': None,\n",
       " 'vect__min_df': 1,\n",
       " 'vect__ngram_range': [(1, 1)],\n",
       " 'vect__norm': 'l2',\n",
       " 'vect__preprocessor': None,\n",
       " 'vect__smooth_idf': True,\n",
       " 'vect__stop_words': 'english',\n",
       " 'vect__strip_accents': None,\n",
       " 'vect__sublinear_tf': False,\n",
       " 'vect__token_pattern': '(?u)\\\\b\\\\w\\\\w+\\\\b',\n",
       " 'vect__tokenizer': None,\n",
       " 'vect__use_idf': True,\n",
       " 'vect__vocabulary': None,\n",
       " 'lg__C': 100.0,\n",
       " 'lg__class_weight': None,\n",
       " 'lg__dual': False,\n",
       " 'lg__fit_intercept': True,\n",
       " 'lg__intercept_scaling': 1,\n",
       " 'lg__max_iter': 100,\n",
       " 'lg__multi_class': 'warn',\n",
       " 'lg__n_jobs': None,\n",
       " 'lg__penalty': 'l2',\n",
       " 'lg__random_state': 1,\n",
       " 'lg__solver': 'warn',\n",
       " 'lg__tol': 0.0001,\n",
       " 'lg__verbose': 0,\n",
       " 'lg__warm_start': False}"
      ]
     },
     "execution_count": 228,
     "metadata": {},
     "output_type": "execute_result"
    }
   ],
   "source": [
    "pipe.get_params()"
   ]
  },
  {
   "cell_type": "code",
   "execution_count": 229,
   "metadata": {},
   "outputs": [
    {
     "data": {
      "text/plain": [
       "Pipeline(memory=None,\n",
       "     steps=[('vect', TfidfVectorizer(analyzer='word', binary=False, decode_error='strict',\n",
       "        dtype=<class 'numpy.float64'>, encoding='utf-8', input='content',\n",
       "        lowercase=True, max_df=1.0, max_features=None, min_df=1,\n",
       "        ngram_range=[(1, 1)], norm='l2', preprocessor=None,\n",
       "        smooth_...e, penalty='l2', random_state=1, solver='warn',\n",
       "          tol=0.0001, verbose=0, warm_start=False))])"
      ]
     },
     "execution_count": 229,
     "metadata": {},
     "output_type": "execute_result"
    }
   ],
   "source": [
    "best_params={'vect__ngram_range': [(1, 1)], 'lg__penalty': 'l2', 'lg__C': 100.0 }\n",
    "pipe.set_params(**best_params)"
   ]
  },
  {
   "cell_type": "markdown",
   "metadata": {},
   "source": [
    "Let's run another **Grid Search**  using parameter vect__ngram_range': (1, 2} for the second dictionary"
   ]
  },
  {
   "cell_type": "code",
   "execution_count": 203,
   "metadata": {},
   "outputs": [
    {
     "name": "stdout",
     "output_type": "stream",
     "text": [
      "Fitting 5 folds for each of 24 candidates, totalling 120 fits\n"
     ]
    },
    {
     "name": "stderr",
     "output_type": "stream",
     "text": [
      "[Parallel(n_jobs=-1)]: Using backend LokyBackend with 4 concurrent workers.\n",
      "[Parallel(n_jobs=-1)]: Done  42 tasks      | elapsed:  1.4min\n",
      "[Parallel(n_jobs=-1)]: Done 120 out of 120 | elapsed:  4.0min finished\n"
     ]
    },
    {
     "data": {
      "text/plain": [
       "GridSearchCV(cv=5, error_score='raise-deprecating',\n",
       "       estimator=Pipeline(memory=None,\n",
       "     steps=[('vect', TfidfVectorizer(analyzer='word', binary=False, decode_error='strict',\n",
       "        dtype=<class 'numpy.float64'>, encoding='utf-8', input='content',\n",
       "        lowercase=True, max_df=1.0, max_features=None, min_df=1,\n",
       "        ngram_range=(1, 1), norm='l2', preprocessor=None, smooth_idf=True,\n",
       "...e, penalty='l2', random_state=1, solver='warn',\n",
       "          tol=0.0001, verbose=0, warm_start=False))]),\n",
       "       fit_params=None, iid='warn', n_jobs=-1,\n",
       "       param_grid=[{'vect__ngram_range': [(1, 1)], 'vect__stop_words': [['i', 'me', 'my', 'myself', 'we', 'our', 'ours', 'ourselves', 'you', \"you're\", \"you've\", \"you'll\", \"you'd\", 'your', 'yours', 'yourself', 'yourselves', 'he', 'him', 'his', 'himself', 'she', \"she's\", 'her', 'hers', 'herself', 'it', \"it's...58>, <function stemmer at 0x00000296A911E158>], 'lg__penalty': ['l2'], 'lg__C': [1.0, 10.0, 100.0]}],\n",
       "       pre_dispatch='2*n_jobs', refit=True, return_train_score='warn',\n",
       "       scoring='accuracy', verbose=1)"
      ]
     },
     "execution_count": 203,
     "metadata": {},
     "output_type": "execute_result"
    }
   ],
   "source": [
    "param_grid = [{'vect__ngram_range': [(1,1)], 'vect__stop_words': [stop, None], 'vect__tokenizer': [stemmer, stemmer], 'lg__penalty': ['l2'], 'lg__C': [1.0, 10.0, 100.0]},\n",
    "             {'vect__ngram_range': [(1,2)], 'vect__stop_words': [stop, None], 'vect__tokenizer': [stemmer, stemmer], 'lg__penalty': ['l2'], 'lg__C': [1.0, 10.0, 100.0]}]\n",
    "\n",
    "gs2 = GridSearchCV(pipe, param_grid, scoring='accuracy', cv=5, verbose=1,n_jobs=-1)\n",
    "\n",
    "gs2.fit(X_train, y_train)"
   ]
  },
  {
   "cell_type": "code",
   "execution_count": 202,
   "metadata": {},
   "outputs": [
    {
     "data": {
      "text/plain": [
       "{'lg__C': 100.0,\n",
       " 'lg__penalty': 'l2',\n",
       " 'vect__ngram_range': (1, 1),\n",
       " 'vect__stop_words': None,\n",
       " 'vect__tokenizer': <function __main__.stemmer(text)>}"
      ]
     },
     "execution_count": 202,
     "metadata": {},
     "output_type": "execute_result"
    }
   ],
   "source": [
    "gs2.best_params_"
   ]
  },
  {
   "cell_type": "code",
   "execution_count": 204,
   "metadata": {},
   "outputs": [
    {
     "data": {
      "text/plain": [
       "0.9187469407733725"
      ]
     },
     "execution_count": 204,
     "metadata": {},
     "output_type": "execute_result"
    }
   ],
   "source": [
    "#5-fold cross-validation accuracy scores on the training set \n",
    "\n",
    "# CV accuracy\n",
    "gs2.best_score_"
   ]
  },
  {
   "cell_type": "code",
   "execution_count": 235,
   "metadata": {},
   "outputs": [],
   "source": [
    "best_model=gs2.best_estimator_"
   ]
  },
  {
   "cell_type": "markdown",
   "metadata": {},
   "source": [
    "Using the best model from this grid search that has the best_params option for the vectorizer and logistic regression"
   ]
  },
  {
   "cell_type": "code",
   "execution_count": 231,
   "metadata": {},
   "outputs": [
    {
     "name": "stdout",
     "output_type": "stream",
     "text": [
      "5-fold CV Accuracy: 0.919\n"
     ]
    }
   ],
   "source": [
    "#The 5-fold cross-validation accuracy scores on the training dataset\n",
    "\n",
    "print('5-fold CV Accuracy: %.3f' % gs2.best_score_)"
   ]
  },
  {
   "cell_type": "code",
   "execution_count": 237,
   "metadata": {},
   "outputs": [
    {
     "name": "stdout",
     "output_type": "stream",
     "text": [
      "Classification Accuracy: 0.929\n"
     ]
    }
   ],
   "source": [
    "# Classification accuracy on the test dataset\n",
    "\n",
    "print('Classification Accuracy: %.3f' % best_model.score(X_test, y_test))"
   ]
  },
  {
   "cell_type": "markdown",
   "metadata": {},
   "source": [
    "### The performance of our classifier\n",
    "\n",
    "We built a ML model that can predict whether a yelp review is positive (5-stars) or negative (1 star) with 93% accuracy"
   ]
  },
  {
   "cell_type": "markdown",
   "metadata": {},
   "source": [
    "## Sentiment analysis of yelp reviews"
   ]
  },
  {
   "cell_type": "code",
   "execution_count": 244,
   "metadata": {},
   "outputs": [
    {
     "name": "stdout",
     "output_type": "stream",
     "text": [
      "Rosie, Dakota, and I LOVE Chaparral Dog Park!!! It's very convenient and surrounded by a lot of paths, a desert xeriscape, baseball fields, ballparks, and a lake with ducks.\n",
      "\n",
      "The Scottsdale Park and Rec Dept. does a wonderful job of keeping the park clean and shaded.  You can find trash cans and poopy-pick up mitts located all over the park and paths.\n",
      "\n",
      "The fenced in area is huge to let the dogs run, play, and sniff!\n"
     ]
    }
   ],
   "source": [
    "# The 4rd review:\n",
    "\n",
    "print((yelp_5_1.text[3]))"
   ]
  },
  {
   "cell_type": "code",
   "execution_count": 252,
   "metadata": {},
   "outputs": [],
   "source": [
    "#I use TextBlob, a useful library for processing text data\n",
    "\n",
    "from textblob import TextBlob\n",
    "\n",
    "review = TextBlob(yelp_5_1.text[3])"
   ]
  },
  {
   "cell_type": "code",
   "execution_count": 257,
   "metadata": {},
   "outputs": [
    {
     "data": {
      "text/plain": [
       "WordList(['Rosie', 'Dakota', 'and', 'I', 'LOVE', 'Chaparral', 'Dog', 'Park', 'It', \"'s\", 'very', 'convenient', 'and', 'surrounded', 'by', 'a', 'lot', 'of', 'paths', 'a', 'desert', 'xeriscape', 'baseball', 'fields', 'ballparks', 'and', 'a', 'lake', 'with', 'ducks', 'The', 'Scottsdale', 'Park', 'and', 'Rec', 'Dept', 'does', 'a', 'wonderful', 'job', 'of', 'keeping', 'the', 'park', 'clean', 'and', 'shaded', 'You', 'can', 'find', 'trash', 'cans', 'and', 'poopy-pick', 'up', 'mitts', 'located', 'all', 'over', 'the', 'park', 'and', 'paths', 'The', 'fenced', 'in', 'area', 'is', 'huge', 'to', 'let', 'the', 'dogs', 'run', 'play', 'and', 'sniff'])"
      ]
     },
     "execution_count": 257,
     "metadata": {},
     "output_type": "execute_result"
    }
   ],
   "source": [
    "review.words"
   ]
  },
  {
   "cell_type": "markdown",
   "metadata": {},
   "source": [
    "#### Words Inflection and Lemmatization"
   ]
  },
  {
   "cell_type": "code",
   "execution_count": 274,
   "metadata": {},
   "outputs": [
    {
     "name": "stdout",
     "output_type": "stream",
     "text": [
      "['Rosie', 'Dakota', 'and', 'I', 'LOVE', 'Chaparral', 'Dog', 'Park', 'It', \"'s\", 'very', 'convenient', 'and', 'surround', 'by', 'a', 'lot', 'of', 'paths', 'a', 'desert', 'xeriscape', 'baseball', 'field', 'ballparks', 'and', 'a', 'lake', 'with', 'duck', 'The', 'Scottsdale', 'Park', 'and', 'Rec', 'Dept', 'do', 'a', 'wonderful', 'job', 'of', 'keep', 'the', 'park', 'clean', 'and', 'shade', 'You', 'can', 'find', 'trash', 'can', 'and', 'poopy-pick', 'up', 'mitts', 'locate', 'all', 'over', 'the', 'park', 'and', 'paths', 'The', 'fence', 'in', 'area', 'be', 'huge', 'to', 'let', 'the', 'dog', 'run', 'play', 'and', 'sniff']\n"
     ]
    }
   ],
   "source": [
    "# noun (to singular) and verbs(to present tense)\n",
    "print([word.lemmatize('v') for word in review.words])"
   ]
  },
  {
   "cell_type": "code",
   "execution_count": 283,
   "metadata": {},
   "outputs": [
    {
     "data": {
      "text/plain": [
       "TextBlob(\"rosie, dakota, and i love chaparral dog park!!! it's very convenient and surrounded by a lot of paths, a desert xeriscape, baseball fields, ballparks, and a lake with ducks.\n",
       "\n",
       "the scottsdale park and rec dept. does a wonderful job of keeping the park clean and shaded.  you can find trash cans and poopy-pick up mitts located all over the park and paths.\n",
       "\n",
       "the fenced in area is huge to let the dogs run, play, and sniff!\")"
      ]
     },
     "execution_count": 283,
     "metadata": {},
     "output_type": "execute_result"
    }
   ],
   "source": [
    "review.lower()"
   ]
  },
  {
   "cell_type": "code",
   "execution_count": 286,
   "metadata": {},
   "outputs": [
    {
     "data": {
      "text/plain": [
       "15"
      ]
     },
     "execution_count": 286,
     "metadata": {},
     "output_type": "execute_result"
    }
   ],
   "source": [
    "review.find(\"and\")"
   ]
  },
  {
   "cell_type": "markdown",
   "metadata": {},
   "source": [
    "#### Get Word and Noun Phrase Frequencies"
   ]
  },
  {
   "cell_type": "code",
   "execution_count": 314,
   "metadata": {},
   "outputs": [
    {
     "data": {
      "text/plain": [
       "1"
      ]
     },
     "execution_count": 314,
     "metadata": {},
     "output_type": "execute_result"
    }
   ],
   "source": [
    "review.words.count(\"ducks\", case_sensitive=False)"
   ]
  },
  {
   "cell_type": "code",
   "execution_count": 307,
   "metadata": {},
   "outputs": [
    {
     "data": {
      "text/plain": [
       "WordList(['rosie', 'dakota', 'love chaparral dog', 'desert xeriscape', 'baseball fields', 'scottsdale', 'rec dept', 'wonderful job', 'trash cans'])"
      ]
     },
     "execution_count": 307,
     "metadata": {},
     "output_type": "execute_result"
    }
   ],
   "source": [
    "review.noun_phrases"
   ]
  },
  {
   "cell_type": "code",
   "execution_count": 299,
   "metadata": {},
   "outputs": [
    {
     "data": {
      "text/plain": [
       "1"
      ]
     },
     "execution_count": 299,
     "metadata": {},
     "output_type": "execute_result"
    }
   ],
   "source": [
    "review.noun_phrases.count('wonderful job')"
   ]
  },
  {
   "cell_type": "code",
   "execution_count": 315,
   "metadata": {},
   "outputs": [
    {
     "data": {
      "text/plain": [
       "[WordList(['the', 'dogs']),\n",
       " WordList(['dogs', 'run']),\n",
       " WordList(['run', 'play']),\n",
       " WordList(['play', 'and']),\n",
       " WordList(['and', 'sniff'])]"
      ]
     },
     "execution_count": 315,
     "metadata": {},
     "output_type": "execute_result"
    }
   ],
   "source": [
    "#returns a list of tuples of n=2 successive words.\n",
    "review.ngrams(2)[-5:]"
   ]
  },
  {
   "cell_type": "code",
   "execution_count": 266,
   "metadata": {},
   "outputs": [
    {
     "data": {
      "text/plain": [
       "[Sentence(\"Rosie, Dakota, and I LOVE Chaparral Dog Park!!!\"),\n",
       " Sentence(\"It's very convenient and surrounded by a lot of paths, a desert xeriscape, baseball fields, ballparks, and a lake with ducks.\"),\n",
       " Sentence(\"The Scottsdale Park and Rec Dept.\"),\n",
       " Sentence(\"does a wonderful job of keeping the park clean and shaded.\"),\n",
       " Sentence(\"You can find trash cans and poopy-pick up mitts located all over the park and paths.\"),\n",
       " Sentence(\"The fenced in area is huge to let the dogs run, play, and sniff!\")]"
      ]
     },
     "execution_count": 266,
     "metadata": {},
     "output_type": "execute_result"
    }
   ],
   "source": [
    "review.sentences"
   ]
  },
  {
   "cell_type": "code",
   "execution_count": null,
   "metadata": {},
   "outputs": [],
   "source": [
    "for sentence in sentences:\n",
    "    print(sentence)"
   ]
  },
  {
   "cell_type": "markdown",
   "metadata": {},
   "source": [
    "For each sentence in the review:\n",
    "\n",
    "#### Polarity and Subjectivity:\n",
    "\n",
    "- Polarity score between [-1, 1]\n",
    "\n",
    "- Subjectivity is within the range [0,1] where 0 very objective, 1 very subjective"
   ]
  },
  {
   "cell_type": "code",
   "execution_count": 325,
   "metadata": {},
   "outputs": [
    {
     "name": "stdout",
     "output_type": "stream",
     "text": [
      "Rosie, Dakota, and I LOVE Chaparral Dog Park!!!\n",
      "Sentiment(polarity=0.9765625, subjectivity=0.6)\n",
      "---\n",
      "It's very convenient and surrounded by a lot of paths, a desert xeriscape, baseball fields, ballparks, and a lake with ducks.\n",
      "Sentiment(polarity=0.2, subjectivity=0.3)\n",
      "---\n",
      "The Scottsdale Park and Rec Dept.\n",
      "Sentiment(polarity=0.0, subjectivity=0.0)\n",
      "---\n",
      "does a wonderful job of keeping the park clean and shaded.\n",
      "Sentiment(polarity=0.6833333333333333, subjectivity=0.8500000000000001)\n",
      "---\n",
      "You can find trash cans and poopy-pick up mitts located all over the park and paths.\n",
      "Sentiment(polarity=0.0, subjectivity=0.0)\n",
      "---\n",
      "The fenced in area is huge to let the dogs run, play, and sniff!\n",
      "Sentiment(polarity=0.5000000000000001, subjectivity=0.9)\n",
      "---\n"
     ]
    }
   ],
   "source": [
    "for sentence in review.sentences:\n",
    "    print(sentence)\n",
    "    print(sentence.sentiment)\n",
    "    print(\"---\")"
   ]
  },
  {
   "cell_type": "markdown",
   "metadata": {},
   "source": [
    "#### Add a new column to yelp dataset \"sentiment\" for polarity score"
   ]
  },
  {
   "cell_type": "code",
   "execution_count": 332,
   "metadata": {},
   "outputs": [],
   "source": [
    "def polarity(text):\n",
    "    return TextBlob(text).sentiment.polarity\n",
    "    #return TextBlob(text).sentiment.polarity\n",
    "\n",
    "yelp['sentiment'] = yelp.text.apply(polarity)"
   ]
  },
  {
   "cell_type": "markdown",
   "metadata": {},
   "source": [
    "#### Create a box plot of sentiment grouped by stars"
   ]
  },
  {
   "cell_type": "code",
   "execution_count": 343,
   "metadata": {},
   "outputs": [
    {
     "data": {
      "text/plain": [
       "<matplotlib.axes._subplots.AxesSubplot at 0x2968040dba8>"
      ]
     },
     "execution_count": 343,
     "metadata": {},
     "output_type": "execute_result"
    },
    {
     "data": {
      "image/png": "[encoded data removed]",
      "text/plain": [
       "<Figure size 432x288 with 1 Axes>"
      ]
     },
     "metadata": {},
     "output_type": "display_data"
    }
   ],
   "source": [
    "yelp.boxplot(column='sentiment', by='stars')"
   ]
  },
  {
   "cell_type": "markdown",
   "metadata": {},
   "source": [
    "#### Get the reviews with most positive sentiment (1)"
   ]
  },
  {
   "cell_type": "code",
   "execution_count": 344,
   "metadata": {},
   "outputs": [
    {
     "data": {
      "text/plain": [
       "254    Our server Gary was awesome. Food was amazing....\n",
       "347    3 syllables for this place. \\nA-MAZ-ING!\\n\\nTh...\n",
       "420                                    LOVE the food!!!!\n",
       "459    Love it!!! Wish we still lived in Arizona as C...\n",
       "679                                     Excellent burger\n",
       "Name: text, dtype: object"
      ]
     },
     "execution_count": 344,
     "metadata": {},
     "output_type": "execute_result"
    }
   ],
   "source": [
    "\n",
    "yelp[yelp.sentiment == 1].text.head()"
   ]
  },
  {
   "cell_type": "markdown",
   "metadata": {},
   "source": [
    "#### Get the reviews with most negative sentiment (-1)"
   ]
  },
  {
   "cell_type": "code",
   "execution_count": 346,
   "metadata": {},
   "outputs": [
    {
     "data": {
      "text/plain": [
       "773     This was absolutely horrible. I got the suprem...\n",
       "1517                  Nasty workers and over priced trash\n",
       "3266    Absolutely awful... these guys have NO idea wh...\n",
       "4766                                       Very bad food!\n",
       "5812        I wouldn't send my worst enemy to this place.\n",
       "Name: text, dtype: object"
      ]
     },
     "execution_count": 346,
     "metadata": {},
     "output_type": "execute_result"
    }
   ],
   "source": [
    "yelp[yelp.sentiment == -1].text.head()"
   ]
  },
  {
   "cell_type": "markdown",
   "metadata": {},
   "source": [
    "#### Get positive sentiment in a 1-star review"
   ]
  },
  {
   "cell_type": "code",
   "execution_count": 356,
   "metadata": {},
   "outputs": [
    {
     "data": {
      "text/html": [
       "<div>\n",
       "<style scoped>\n",
       "    .dataframe tbody tr th:only-of-type {\n",
       "        vertical-align: middle;\n",
       "    }\n",
       "\n",
       "    .dataframe tbody tr th {\n",
       "        vertical-align: top;\n",
       "    }\n",
       "\n",
       "    .dataframe thead th {\n",
       "        text-align: right;\n",
       "    }\n",
       "</style>\n",
       "<table border=\"1\" class=\"dataframe\">\n",
       "  <thead>\n",
       "    <tr style=\"text-align: right;\">\n",
       "      <th></th>\n",
       "      <th>business_id</th>\n",
       "      <th>date</th>\n",
       "      <th>review_id</th>\n",
       "      <th>stars</th>\n",
       "      <th>text</th>\n",
       "      <th>type</th>\n",
       "      <th>user_id</th>\n",
       "      <th>cool</th>\n",
       "      <th>useful</th>\n",
       "      <th>funny</th>\n",
       "      <th>sentiment</th>\n",
       "    </tr>\n",
       "  </thead>\n",
       "  <tbody>\n",
       "    <tr>\n",
       "      <th>1781</th>\n",
       "      <td>53YGfwmbW73JhFiemNeyzQ</td>\n",
       "      <td>2012-06-22</td>\n",
       "      <td>Gi-4O3EhE175vujbFGDIew</td>\n",
       "      <td>1</td>\n",
       "      <td>If you like the stuck up Scottsdale vibe this ...</td>\n",
       "      <td>review</td>\n",
       "      <td>Hqgx3IdJAAaoQjvrUnbNvw</td>\n",
       "      <td>0</td>\n",
       "      <td>1</td>\n",
       "      <td>2</td>\n",
       "      <td>0.766667</td>\n",
       "    </tr>\n",
       "    <tr>\n",
       "      <th>8833</th>\n",
       "      <td>iHmfkYeEsIxbAqEj3dloQQ</td>\n",
       "      <td>2012-07-03</td>\n",
       "      <td>N_hL1-fyunhVpDDX6fz9Sg</td>\n",
       "      <td>1</td>\n",
       "      <td>The owner has changed hands &amp; this place isn't...</td>\n",
       "      <td>review</td>\n",
       "      <td>HY9A-ShZQ1MvdFvEhNY4LQ</td>\n",
       "      <td>0</td>\n",
       "      <td>1</td>\n",
       "      <td>0</td>\n",
       "      <td>1.000000</td>\n",
       "    </tr>\n",
       "  </tbody>\n",
       "</table>\n",
       "</div>"
      ],
      "text/plain": [
       "                 business_id        date               review_id  stars  \\\n",
       "1781  53YGfwmbW73JhFiemNeyzQ  2012-06-22  Gi-4O3EhE175vujbFGDIew      1   \n",
       "8833  iHmfkYeEsIxbAqEj3dloQQ  2012-07-03  N_hL1-fyunhVpDDX6fz9Sg      1   \n",
       "\n",
       "                                                   text    type  \\\n",
       "1781  If you like the stuck up Scottsdale vibe this ...  review   \n",
       "8833  The owner has changed hands & this place isn't...  review   \n",
       "\n",
       "                     user_id  cool  useful  funny  sentiment  \n",
       "1781  Hqgx3IdJAAaoQjvrUnbNvw     0       1      2   0.766667  \n",
       "8833  HY9A-ShZQ1MvdFvEhNY4LQ     0       1      0   1.000000  "
      ]
     },
     "execution_count": 356,
     "metadata": {},
     "output_type": "execute_result"
    }
   ],
   "source": [
    "yelp[(yelp.stars == 1) & (yelp.sentiment > 0.75)]"
   ]
  },
  {
   "cell_type": "markdown",
   "metadata": {},
   "source": [
    "#### Get negative sentiment in a 5-star review"
   ]
  },
  {
   "cell_type": "code",
   "execution_count": 352,
   "metadata": {},
   "outputs": [
    {
     "data": {
      "text/html": [
       "<div>\n",
       "<style scoped>\n",
       "    .dataframe tbody tr th:only-of-type {\n",
       "        vertical-align: middle;\n",
       "    }\n",
       "\n",
       "    .dataframe tbody tr th {\n",
       "        vertical-align: top;\n",
       "    }\n",
       "\n",
       "    .dataframe thead th {\n",
       "        text-align: right;\n",
       "    }\n",
       "</style>\n",
       "<table border=\"1\" class=\"dataframe\">\n",
       "  <thead>\n",
       "    <tr style=\"text-align: right;\">\n",
       "      <th></th>\n",
       "      <th>business_id</th>\n",
       "      <th>date</th>\n",
       "      <th>review_id</th>\n",
       "      <th>stars</th>\n",
       "      <th>text</th>\n",
       "      <th>type</th>\n",
       "      <th>user_id</th>\n",
       "      <th>cool</th>\n",
       "      <th>useful</th>\n",
       "      <th>funny</th>\n",
       "      <th>sentiment</th>\n",
       "    </tr>\n",
       "  </thead>\n",
       "  <tbody>\n",
       "    <tr>\n",
       "      <th>1287</th>\n",
       "      <td>57-dgZzOnLox6eudArRKgw</td>\n",
       "      <td>2008-08-28</td>\n",
       "      <td>sksXE8krD3WvqSOhtlSUyQ</td>\n",
       "      <td>5</td>\n",
       "      <td>Obsessed. Like, I've-got-the-Twangy-Tart-withd...</td>\n",
       "      <td>review</td>\n",
       "      <td>gEnU4BqTK-4abqYl_Ljjfg</td>\n",
       "      <td>3</td>\n",
       "      <td>3</td>\n",
       "      <td>5</td>\n",
       "      <td>-0.625</td>\n",
       "    </tr>\n",
       "    <tr>\n",
       "      <th>6726</th>\n",
       "      <td>FURgKkRFtMK5yKbjYZVVwA</td>\n",
       "      <td>2012-08-13</td>\n",
       "      <td>8xx8i94sKvBhWZv8ZVyfBA</td>\n",
       "      <td>5</td>\n",
       "      <td>Brown bag chicken sammich, mac n cheese, fried...</td>\n",
       "      <td>review</td>\n",
       "      <td>hFP7Si9jvdOUmmMesg4ghw</td>\n",
       "      <td>0</td>\n",
       "      <td>0</td>\n",
       "      <td>0</td>\n",
       "      <td>-0.600</td>\n",
       "    </tr>\n",
       "  </tbody>\n",
       "</table>\n",
       "</div>"
      ],
      "text/plain": [
       "                 business_id        date               review_id  stars  \\\n",
       "1287  57-dgZzOnLox6eudArRKgw  2008-08-28  sksXE8krD3WvqSOhtlSUyQ      5   \n",
       "6726  FURgKkRFtMK5yKbjYZVVwA  2012-08-13  8xx8i94sKvBhWZv8ZVyfBA      5   \n",
       "\n",
       "                                                   text    type  \\\n",
       "1287  Obsessed. Like, I've-got-the-Twangy-Tart-withd...  review   \n",
       "6726  Brown bag chicken sammich, mac n cheese, fried...  review   \n",
       "\n",
       "                     user_id  cool  useful  funny  sentiment  \n",
       "1287  gEnU4BqTK-4abqYl_Ljjfg     3       3      5     -0.625  \n",
       "6726  hFP7Si9jvdOUmmMesg4ghw     0       0      0     -0.600  "
      ]
     },
     "execution_count": 352,
     "metadata": {},
     "output_type": "execute_result"
    }
   ],
   "source": [
    "yelp[(yelp.stars == 5) & (yelp.sentiment < -0.5)]"
   ]
  },
  {
   "cell_type": "markdown",
   "metadata": {},
   "source": [
    "### Let's build a text classifier using features: text, sentiment, cool, useful, funny \n",
    "\n",
    "We will train a logistic regression model to classify yelp reviews into best/worst stars"
   ]
  },
  {
   "cell_type": "code",
   "execution_count": 363,
   "metadata": {},
   "outputs": [],
   "source": [
    "features = ['text', 'sentiment', 'cool', 'useful', 'funny']\n",
    "\n",
    "\n",
    "yelp_5_1 = yelp[(yelp.stars==5) | (yelp.stars==1)]\n",
    "X = yelp_5_1[features]\n",
    "y = yelp_5_1.stars\n",
    "\n",
    "# train-test split\n",
    "X_train, X_test, y_train, y_test = train_test_split(X, y, random_state=1)"
   ]
  },
  {
   "cell_type": "code",
   "execution_count": 372,
   "metadata": {},
   "outputs": [],
   "source": [
    "# Use CountVectorizer with text column only\n",
    "\n",
    "vect = CountVectorizer()\n",
    "X_train_sparse = vect.fit_transform(X_train.text)\n",
    "X_test_sparse = vect.transform(X_test.text)"
   ]
  },
  {
   "cell_type": "code",
   "execution_count": 373,
   "metadata": {},
   "outputs": [
    {
     "name": "stdout",
     "output_type": "stream",
     "text": [
      "0.9197651663405088\n"
     ]
    }
   ],
   "source": [
    "# Use logistic regression with text column only.\n",
    "logreg = LogisticRegression(C=1000)\n",
    "logreg.fit(X_train_sparse, y_train)\n",
    "y_pred_class = logreg.predict(X_test_sparse)\n",
    "print((metrics.accuracy_score(y_test, y_pred_class)))"
   ]
  },
  {
   "cell_type": "code",
   "execution_count": 378,
   "metadata": {},
   "outputs": [
    {
     "data": {
      "text/plain": [
       "GridSearchCV(cv=10, error_score='raise-deprecating',\n",
       "       estimator=LogisticRegression(C=1000, class_weight=None, dual=False, fit_intercept=True,\n",
       "          intercept_scaling=1, max_iter=100, multi_class='warn',\n",
       "          n_jobs=None, penalty='l2', random_state=None, solver='warn',\n",
       "          tol=0.0001, verbose=0, warm_start=False),\n",
       "       fit_params=None, iid='warn', n_jobs=None,\n",
       "       param_grid={'penalty': ['l1', 'l2'], 'C': [0.0001, 0.001, 0.01, 0.1, 1, 10, 100, 1000, 10000]},\n",
       "       pre_dispatch='2*n_jobs', refit=True, return_train_score='warn',\n",
       "       scoring=None, verbose=0)"
      ]
     },
     "execution_count": 378,
     "metadata": {},
     "output_type": "execute_result"
    }
   ],
   "source": [
    "# set up the parameters of the model you'd like to fit\n",
    "param_grid = {\n",
    "    'penalty': ['l1', 'l2'],\n",
    "    'C'      : [.0001, .001, .01, .1, 1, 10, 100, 1000, 10000],\n",
    "}\n",
    "\n",
    "# load it into the grid\n",
    "grid = GridSearchCV(estimator=logreg, param_grid=param_grid, cv=10)\n",
    "\n",
    "\n",
    "grid.fit(X_train_sparse, y_train)"
   ]
  },
  {
   "cell_type": "code",
   "execution_count": 379,
   "metadata": {},
   "outputs": [
    {
     "data": {
      "text/plain": [
       "{'C': 10, 'penalty': 'l2'}"
      ]
     },
     "execution_count": 379,
     "metadata": {},
     "output_type": "execute_result"
    }
   ],
   "source": [
    "grid.best_params_"
   ]
  },
  {
   "cell_type": "code",
   "execution_count": 386,
   "metadata": {},
   "outputs": [
    {
     "data": {
      "text/plain": [
       "0.9343994778067886"
      ]
     },
     "execution_count": 386,
     "metadata": {},
     "output_type": "execute_result"
    }
   ],
   "source": [
    "# Cross-Validation score for testing data\n",
    "grid.best_score_"
   ]
  },
  {
   "cell_type": "code",
   "execution_count": 391,
   "metadata": {},
   "outputs": [],
   "source": [
    "model = grid.best_estimator_"
   ]
  },
  {
   "cell_type": "code",
   "execution_count": 394,
   "metadata": {},
   "outputs": [
    {
     "data": {
      "text/plain": [
       "array([5, 5, 5, ..., 5, 1, 5], dtype=int64)"
      ]
     },
     "execution_count": 394,
     "metadata": {},
     "output_type": "execute_result"
    }
   ],
   "source": [
    "y_pred_class = model.predict(X_test_sparse)\n",
    "y_pred_class"
   ]
  },
  {
   "cell_type": "code",
   "execution_count": 392,
   "metadata": {},
   "outputs": [
    {
     "name": "stdout",
     "output_type": "stream",
     "text": [
      "Classification Accuracy: 0.925\n"
     ]
    }
   ],
   "source": [
    "# Classification accuracy on the test dataset\n",
    "\n",
    "print('Classification Accuracy: %.3f' % model.score(X_test_sparse, y_test))"
   ]
  },
  {
   "cell_type": "markdown",
   "metadata": {},
   "source": [
    "## Naive Bayes Classifier with Text \n",
    "\n",
    "We used Logistic Regression Classifier for text classification.\n",
    "\n",
    "Naive Bayes is another popular classifier. Naive Bayes has minimal storage requirements, is fast and can be tuned easily with more data"
   ]
  },
  {
   "cell_type": "code",
   "execution_count": 404,
   "metadata": {},
   "outputs": [],
   "source": [
    "from textblob.classifiers import NaiveBayesClassifier\n"
   ]
  },
  {
   "cell_type": "code",
   "execution_count": 420,
   "metadata": {},
   "outputs": [
    {
     "data": {
      "text/html": [
       "<div>\n",
       "<style scoped>\n",
       "    .dataframe tbody tr th:only-of-type {\n",
       "        vertical-align: middle;\n",
       "    }\n",
       "\n",
       "    .dataframe tbody tr th {\n",
       "        vertical-align: top;\n",
       "    }\n",
       "\n",
       "    .dataframe thead th {\n",
       "        text-align: right;\n",
       "    }\n",
       "</style>\n",
       "<table border=\"1\" class=\"dataframe\">\n",
       "  <thead>\n",
       "    <tr style=\"text-align: right;\">\n",
       "      <th></th>\n",
       "      <th>text</th>\n",
       "      <th>stars</th>\n",
       "    </tr>\n",
       "  </thead>\n",
       "  <tbody>\n",
       "    <tr>\n",
       "      <th>9990</th>\n",
       "      <td>Yes I do rock the hipster joints.  I dig this ...</td>\n",
       "      <td>5</td>\n",
       "    </tr>\n",
       "    <tr>\n",
       "      <th>9991</th>\n",
       "      <td>Only 4 stars? \\n\\n(A few notes: The folks that...</td>\n",
       "      <td>5</td>\n",
       "    </tr>\n",
       "    <tr>\n",
       "      <th>9992</th>\n",
       "      <td>I'm not normally one to jump at reviewing a ch...</td>\n",
       "      <td>5</td>\n",
       "    </tr>\n",
       "    <tr>\n",
       "      <th>9994</th>\n",
       "      <td>Let's see...what is there NOT to like about Su...</td>\n",
       "      <td>5</td>\n",
       "    </tr>\n",
       "    <tr>\n",
       "      <th>9999</th>\n",
       "      <td>4-5 locations.. all 4.5 star average.. I think...</td>\n",
       "      <td>5</td>\n",
       "    </tr>\n",
       "  </tbody>\n",
       "</table>\n",
       "</div>"
      ],
      "text/plain": [
       "                                                   text  stars\n",
       "9990  Yes I do rock the hipster joints.  I dig this ...      5\n",
       "9991  Only 4 stars? \\n\\n(A few notes: The folks that...      5\n",
       "9992  I'm not normally one to jump at reviewing a ch...      5\n",
       "9994  Let's see...what is there NOT to like about Su...      5\n",
       "9999  4-5 locations.. all 4.5 star average.. I think...      5"
      ]
     },
     "execution_count": 420,
     "metadata": {},
     "output_type": "execute_result"
    }
   ],
   "source": [
    "features = [\"text\", \"stars\"]\n",
    "\n",
    "df = yelp_5_1[features]\n",
    "df.tail()"
   ]
  },
  {
   "cell_type": "code",
   "execution_count": 422,
   "metadata": {},
   "outputs": [
    {
     "data": {
      "text/plain": [
       "'Only 4 stars? \\n\\n(A few notes: The folks that rated this place low must have been isolated incidences'"
      ]
     },
     "execution_count": 422,
     "metadata": {},
     "output_type": "execute_result"
    }
   ],
   "source": [
    "#Print first 100 characters from the review at index 9991:\n",
    "\n",
    "df.loc[9991, 'text'][:100]"
   ]
  },
  {
   "cell_type": "code",
   "execution_count": 436,
   "metadata": {},
   "outputs": [
    {
     "data": {
      "text/plain": [
       "'4-5 locations.. all 4.5 star average.. I think Arizona really has some fantastic Pizza options, and '"
      ]
     },
     "execution_count": 436,
     "metadata": {},
     "output_type": "execute_result"
    }
   ],
   "source": [
    "import re\n",
    "def cleaning(text):\n",
    "    text = re.sub('[\\n]+', ' ', text) # remove \\n \n",
    "    return text\n",
    "\n",
    "cleaning(df.loc[9999, 'text'][:100])"
   ]
  },
  {
   "cell_type": "code",
   "execution_count": 437,
   "metadata": {},
   "outputs": [
    {
     "data": {
      "text/html": [
       "<div>\n",
       "<style scoped>\n",
       "    .dataframe tbody tr th:only-of-type {\n",
       "        vertical-align: middle;\n",
       "    }\n",
       "\n",
       "    .dataframe tbody tr th {\n",
       "        vertical-align: top;\n",
       "    }\n",
       "\n",
       "    .dataframe thead th {\n",
       "        text-align: right;\n",
       "    }\n",
       "</style>\n",
       "<table border=\"1\" class=\"dataframe\">\n",
       "  <thead>\n",
       "    <tr style=\"text-align: right;\">\n",
       "      <th></th>\n",
       "      <th>text</th>\n",
       "      <th>stars</th>\n",
       "    </tr>\n",
       "  </thead>\n",
       "  <tbody>\n",
       "    <tr>\n",
       "      <th>9990</th>\n",
       "      <td>Yes I do rock the hipster joints.  I dig this ...</td>\n",
       "      <td>5</td>\n",
       "    </tr>\n",
       "    <tr>\n",
       "      <th>9991</th>\n",
       "      <td>Only 4 stars?  (A few notes: The folks that ra...</td>\n",
       "      <td>5</td>\n",
       "    </tr>\n",
       "    <tr>\n",
       "      <th>9992</th>\n",
       "      <td>I'm not normally one to jump at reviewing a ch...</td>\n",
       "      <td>5</td>\n",
       "    </tr>\n",
       "    <tr>\n",
       "      <th>9994</th>\n",
       "      <td>Let's see...what is there NOT to like about Su...</td>\n",
       "      <td>5</td>\n",
       "    </tr>\n",
       "    <tr>\n",
       "      <th>9999</th>\n",
       "      <td>4-5 locations.. all 4.5 star average.. I think...</td>\n",
       "      <td>5</td>\n",
       "    </tr>\n",
       "  </tbody>\n",
       "</table>\n",
       "</div>"
      ],
      "text/plain": [
       "                                                   text  stars\n",
       "9990  Yes I do rock the hipster joints.  I dig this ...      5\n",
       "9991  Only 4 stars?  (A few notes: The folks that ra...      5\n",
       "9992  I'm not normally one to jump at reviewing a ch...      5\n",
       "9994  Let's see...what is there NOT to like about Su...      5\n",
       "9999  4-5 locations.. all 4.5 star average.. I think...      5"
      ]
     },
     "execution_count": 437,
     "metadata": {},
     "output_type": "execute_result"
    }
   ],
   "source": [
    "df[\"text\"]= df[\"text\"].apply(cleaning)\n",
    "df.tail()"
   ]
  },
  {
   "cell_type": "code",
   "execution_count": 441,
   "metadata": {
    "scrolled": false
   },
   "outputs": [
    {
     "data": {
      "text/plain": [
       "array(['I have no idea why some people give bad reviews about this place. It goes to show you, you can please everyone. They are probably griping about something that their own fault...there are many people like that. In any case, my friend and I arrived at about 5:50 PM this past Sunday. It was pretty crowded, more than I thought for a Sunday evening and thought we would have to wait forever to get a seat but they said we\\'ll be seated when the girl comes back from seating someone else. We were seated at 5:52 and the waiter came and got our drink orders. Everyone was very pleasant from the host that seated us to the waiter to the server. The prices were very good as well. We placed our orders once we decided what we wanted at 6:02. We shared the baked spaghetti calzone and the small \"Here\\'s The Beef\" pizza so we can both try them. The calzone was huge and we got the smallest one (personal) and got the small 11\" pizza. Both were awesome! My friend liked the pizza better and I liked the calzone better. The calzone does have a sweetish sauce but that\\'s how I like my sauce! We had to box part of the pizza to take it home and we were out the door by 6:42. So, everything was great and not like these bad reviewers. That goes to show you that  you have to try these things yourself because all these bad reviewers have some serious issues.',\n",
       "       5], dtype=object)"
      ]
     },
     "execution_count": 441,
     "metadata": {},
     "output_type": "execute_result"
    }
   ],
   "source": [
    "df.values[1]"
   ]
  },
  {
   "cell_type": "markdown",
   "metadata": {},
   "source": [
    "###  (80-20 split) : Create training and test datasets using np.random()"
   ]
  },
  {
   "cell_type": "code",
   "execution_count": 451,
   "metadata": {},
   "outputs": [],
   "source": [
    "np.random.seed(0)\n",
    "msk = np.random.rand(len(df)) < 0.8\n",
    "\n",
    "df_train = df[msk]\n",
    "df_test = df[~msk]"
   ]
  },
  {
   "cell_type": "markdown",
   "metadata": {},
   "source": [
    "### Format CSV files for using TextBlob classifiers:"
   ]
  },
  {
   "cell_type": "code",
   "execution_count": 453,
   "metadata": {
    "scrolled": true
   },
   "outputs": [
    {
     "data": {
      "text/plain": [
       "[('My wife took me here on my birthday for breakfast and it was excellent.  The weather was perfect which made sitting outside overlooking their grounds an absolute pleasure.  Our waitress was excellent and our food arrived quickly on the semi-busy Saturday morning.  It looked like the place fills up pretty quickly so the earlier you get here the better. Do yourself a favor and get their Bloody Mary.  It was phenomenal and simply the best I\\'ve ever had.  I\\'m pretty sure they only use ingredients from their garden and blend them fresh when you order it.  It was amazing. While EVERYTHING on the menu looks excellent, I had the white truffle scrambled eggs vegetable skillet and it was tasty and delicious.  It came with 2 pieces of their griddled bread with was amazing and it absolutely made the meal complete.  It was the best \"toast\" I\\'ve ever had. Anyway, I can\\'t wait to go back!',\n",
       "  5),\n",
       " ('I have no idea why some people give bad reviews about this place. It goes to show you, you can please everyone. They are probably griping about something that their own fault...there are many people like that. In any case, my friend and I arrived at about 5:50 PM this past Sunday. It was pretty crowded, more than I thought for a Sunday evening and thought we would have to wait forever to get a seat but they said we\\'ll be seated when the girl comes back from seating someone else. We were seated at 5:52 and the waiter came and got our drink orders. Everyone was very pleasant from the host that seated us to the waiter to the server. The prices were very good as well. We placed our orders once we decided what we wanted at 6:02. We shared the baked spaghetti calzone and the small \"Here\\'s The Beef\" pizza so we can both try them. The calzone was huge and we got the smallest one (personal) and got the small 11\" pizza. Both were awesome! My friend liked the pizza better and I liked the calzone better. The calzone does have a sweetish sauce but that\\'s how I like my sauce! We had to box part of the pizza to take it home and we were out the door by 6:42. So, everything was great and not like these bad reviewers. That goes to show you that  you have to try these things yourself because all these bad reviewers have some serious issues.',\n",
       "  5),\n",
       " (\"Rosie, Dakota, and I LOVE Chaparral Dog Park!!! It's very convenient and surrounded by a lot of paths, a desert xeriscape, baseball fields, ballparks, and a lake with ducks. The Scottsdale Park and Rec Dept. does a wonderful job of keeping the park clean and shaded.  You can find trash cans and poopy-pick up mitts located all over the park and paths. The fenced in area is huge to let the dogs run, play, and sniff!\",\n",
       "  5)]"
      ]
     },
     "execution_count": 453,
     "metadata": {},
     "output_type": "execute_result"
    }
   ],
   "source": [
    "#tuples\n",
    "\n",
    "train = [tuple(x) for x in df_train.values]\n",
    "test = [tuple(x) for x in df_test.values]\n",
    "\n",
    "train[0:3]"
   ]
  },
  {
   "cell_type": "code",
   "execution_count": 454,
   "metadata": {},
   "outputs": [],
   "source": [
    "nb = NaiveBayesClassifier(tuples_train)"
   ]
  },
  {
   "cell_type": "markdown",
   "metadata": {},
   "source": [
    "Naive Bayes classifier is now ready to classify reviews in the test set as highest/lowest score using classify(text) method:"
   ]
  },
  {
   "cell_type": "code",
   "execution_count": 457,
   "metadata": {},
   "outputs": [
    {
     "data": {
      "text/plain": [
       "\"Never having dealt with a Discount Tire in Phoenix before (only in Texas, and their service has been great all the time), I came in not knowing what kind of service to expect. I was pleasantly surprised! The store had a good amount of parking, and the store front was clean, open and had adequate seating around the perimeters. There were already 5-6 people sitting and waiting for their cars to be finished, and 2 people waiting infront of me to see a representative. All the guys working there were busy helping someone, yet were saying hello to us and reassuring they'd get to us very soon. I didn't wait an unneccesary amount of time and then was helped by Wally. He inspected my tires, recommended a plan of action gave me options, and we headed back into the store. After I made my decision to replace 2 of the tires, he checked their stock, and unfortunately they didn't have them there. BUT he called another store and had them picked up for the next morning, so I could just come back the next day to this same store and get those bad boys installed. Great! The prices were not as heafty (relief), and although there were a good amount of people the next day waiting for their cars to also be serviced, it took exactly the amount of time they'd told me (45 min). They apologized for the wait, but no need for that! The guy who helped me on the 2nd day (I'm sorry I forgot his name) was also very professional and great. I recommend this store and will be bringing my car here in the future most definitely. Thanks, guys! TIP: If you know you need to bring your car in, you can make an appointment with them online. They take walk-ins, but I believe it helps them manage their customers easier, and that in turn benefits you.\""
      ]
     },
     "execution_count": 457,
     "metadata": {},
     "output_type": "execute_result"
    }
   ],
   "source": [
    "#The 3rd test review: \n",
    "test[3][0]"
   ]
  },
  {
   "cell_type": "code",
   "execution_count": 458,
   "metadata": {},
   "outputs": [
    {
     "data": {
      "text/plain": [
       "1"
      ]
     },
     "execution_count": 458,
     "metadata": {},
     "output_type": "execute_result"
    }
   ],
   "source": [
    "nb.classify(test[3][0])"
   ]
  },
  {
   "cell_type": "markdown",
   "metadata": {},
   "source": [
    "Get the label probability distribution with the prob_classify(text) method"
   ]
  },
  {
   "cell_type": "code",
   "execution_count": 461,
   "metadata": {},
   "outputs": [
    {
     "data": {
      "text/plain": [
       "[5, 5, 5, 1, 5, 5, 5, 5, 5]"
      ]
     },
     "execution_count": 461,
     "metadata": {},
     "output_type": "execute_result"
    }
   ],
   "source": [
    "predicted_classifications = []\n",
    "\n",
    "def make_predictions():\n",
    "    for i in range(len(test)):\n",
    "        classification = nb.classify(test[i][0])\n",
    "        predicted_classifications.append(classification)\n",
    "\n",
    "make_predictions()\n",
    "\n",
    "predicted_classifications[0:9]"
   ]
  },
  {
   "cell_type": "code",
   "execution_count": 489,
   "metadata": {},
   "outputs": [
    {
     "name": "stdout",
     "output_type": "stream",
     "text": [
      "Misclassification error: 13.053892215568863\n",
      "Accuracy: 86.94610778443113\n"
     ]
    }
   ],
   "source": [
    "def miss_error():\n",
    "    countMissed = 0\n",
    "    for i in range(len(tuples_test)):\n",
    "        if predicted_classifications[i] != test[i][1]:\n",
    "            countMissed += 1\n",
    "    error = (countMissed / len(test))*100\n",
    "    print('Misclassification error:', error)\n",
    "    print('Accuracy:', 100-error)\n",
    "\n",
    "miss_error()\n"
   ]
  },
  {
   "cell_type": "markdown",
   "metadata": {},
   "source": [
    "Classifier is correct 86.94610778443113 of the time"
   ]
  },
  {
   "cell_type": "markdown",
   "metadata": {},
   "source": [
    "Finally, we may also want to manually take a look at some reviews classified incorrectly. \n",
    "\n"
   ]
  },
  {
   "cell_type": "code",
   "execution_count": 491,
   "metadata": {},
   "outputs": [
    {
     "data": {
      "text/plain": [
       "[3]"
      ]
     },
     "execution_count": 491,
     "metadata": {},
     "output_type": "execute_result"
    }
   ],
   "source": [
    "# Returns the index of missclassified reviews\n",
    "\n",
    "def missclassified():\n",
    "    Indexes = []\n",
    "    for i in range(len(tuples_test)):\n",
    "        if predicted_classifications[i] != test[i][1]:\n",
    "            Indexes.append(i)\n",
    "            return Indexes\n",
    "missclassified()"
   ]
  },
  {
   "cell_type": "code",
   "execution_count": 492,
   "metadata": {},
   "outputs": [
    {
     "data": {
      "text/plain": [
       "(\"Never having dealt with a Discount Tire in Phoenix before (only in Texas, and their service has been great all the time), I came in not knowing what kind of service to expect. I was pleasantly surprised! The store had a good amount of parking, and the store front was clean, open and had adequate seating around the perimeters. There were already 5-6 people sitting and waiting for their cars to be finished, and 2 people waiting infront of me to see a representative. All the guys working there were busy helping someone, yet were saying hello to us and reassuring they'd get to us very soon. I didn't wait an unneccesary amount of time and then was helped by Wally. He inspected my tires, recommended a plan of action gave me options, and we headed back into the store. After I made my decision to replace 2 of the tires, he checked their stock, and unfortunately they didn't have them there. BUT he called another store and had them picked up for the next morning, so I could just come back the next day to this same store and get those bad boys installed. Great! The prices were not as heafty (relief), and although there were a good amount of people the next day waiting for their cars to also be serviced, it took exactly the amount of time they'd told me (45 min). They apologized for the wait, but no need for that! The guy who helped me on the 2nd day (I'm sorry I forgot his name) was also very professional and great. I recommend this store and will be bringing my car here in the future most definitely. Thanks, guys! TIP: If you know you need to bring your car in, you can make an appointment with them online. They take walk-ins, but I believe it helps them manage their customers easier, and that in turn benefits you.\",\n",
       " 5)"
      ]
     },
     "execution_count": 492,
     "metadata": {},
     "output_type": "execute_result"
    }
   ],
   "source": [
    "test[3]"
   ]
  }
 ],
 "metadata": {
  "kernelspec": {
   "display_name": "Python 3",
   "language": "python",
   "name": "python3"
  },
  "language_info": {
   "codemirror_mode": {
    "name": "ipython",
    "version": 3
   },
   "file_extension": ".py",
   "mimetype": "text/x-python",
   "name": "python",
   "nbconvert_exporter": "python",
   "pygments_lexer": "ipython3",
   "version": "3.7.3"
  }
 },
 "nbformat": 4,
 "nbformat_minor": 2
}
